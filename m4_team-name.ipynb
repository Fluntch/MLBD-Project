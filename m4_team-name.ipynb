{
 "cells": [
  {
   "attachments": {},
   "cell_type": "markdown",
   "id": "8af48ca1-b6d1-4092-b7b5-037d3c2d7aef",
   "metadata": {
    "id": "8af48ca1-b6d1-4092-b7b5-037d3c2d7aef"
   },
   "source": [
    "# M4 | Research Investigation Notebook\n",
    "\n",
    "In this notebook, you will do a research investigation of your chosen dataset in teams. You will begin by formally selecting your research question (task 0), then processing your data (task 1), creating a predictive model (task 2), evaluating your model's results (task 3), and describing the contributions of each team member (task 4).\n",
    "\n",
    "For grading, please make sure your notebook has all cells already run. You will also need to write a short, 2 page report about your design decisions as a team, to be uploaded to Moodle in the form of a PDF file next to this Jupyter notebook.\n",
    "\n",
    "You should provide arguments and justifications for all of your design decisions throughout this investigation. You can use your M3 responses as the basis for this discussion."
   ]
  },
  {
   "cell_type": "code",
   "execution_count": 1,
   "id": "82ea2d32-f0a9-4dc9-bb60-be43399f5b89",
   "metadata": {
    "id": "82ea2d32-f0a9-4dc9-bb60-be43399f5b89"
   },
   "outputs": [],
   "source": [
    "# Import the tables of the data set as dataframes.\n",
    "import numpy as np\n",
    "import pandas as pd\n",
    "import matplotlib.pyplot as plt\n",
    "\n",
    "from sklearn.preprocessing import StandardScaler\n",
    "import statsmodels.formula.api as smf\n",
    "\n",
    "from sklearn.neighbors import NearestNeighbors\n",
    "from sklearn.cluster import KMeans\n",
    "from sklearn.ensemble import GradientBoostingRegressor\n",
    "\n",
    "from sklearn.model_selection import train_test_split, GridSearchCV, cross_val_score\n",
    "from sklearn.impute import SimpleImputer\n",
    "from sklearn.preprocessing import StandardScaler\n",
    "from sklearn.pipeline import Pipeline\n",
    "from sklearn.metrics import r2_score, mean_squared_error\n",
    "\n",
    "DATA_DIR = './data' # You many change the directory\n",
    "\n",
    "# Your code goes here"
   ]
  },
  {
   "cell_type": "code",
   "execution_count": null,
   "metadata": {},
   "outputs": [],
   "source": []
  },
  {
   "cell_type": "code",
   "execution_count": null,
   "metadata": {},
   "outputs": [],
   "source": []
  },
  {
   "cell_type": "code",
   "execution_count": null,
   "metadata": {},
   "outputs": [],
   "source": []
  },
  {
   "cell_type": "markdown",
   "id": "89137355",
   "metadata": {},
   "source": [
    "## Task 0: Research Question"
   ]
  },
  {
   "cell_type": "markdown",
   "id": "31dafc5b",
   "metadata": {},
   "source": [
    "**Research question:**\n",
    "\n",
    "*Predict users performance based on their activity behaviour*"
   ]
  },
  {
   "cell_type": "code",
   "execution_count": null,
   "metadata": {},
   "outputs": [],
   "source": []
  },
  {
   "cell_type": "code",
   "execution_count": null,
   "metadata": {},
   "outputs": [],
   "source": []
  },
  {
   "cell_type": "code",
   "execution_count": null,
   "metadata": {},
   "outputs": [],
   "source": []
  },
  {
   "cell_type": "markdown",
   "id": "a77f62b0-1945-48f1-8f22-5f6ebda1db8e",
   "metadata": {
    "id": "a77f62b0-1945-48f1-8f22-5f6ebda1db8e"
   },
   "source": [
    "## Task 1: Data Preprocessing\n",
    "\n",
    "In this section, you are asked to preprocess your data in a way that is relevant for the model. Please include 1-2 visualizations of features / data explorations that are related to your downstream prediction task."
   ]
  },
  {
   "cell_type": "code",
   "execution_count": 2,
   "id": "34cefd0d-4f8a-4227-8fb4-f30521abf78d",
   "metadata": {
    "id": "34cefd0d-4f8a-4227-8fb4-f30521abf78d"
   },
   "outputs": [],
   "source": [
    "# Your code for data processing goes here\n",
    "\n",
    "### Here call your scripts for preprocessing, also explain the preprocessing steps that you did in general + data loss + graphs \n",
    "\n",
    "activity = pd.read_csv('{}/features/activity.csv'.format(DATA_DIR))\n",
    "performances = pd.read_csv('{}/features/performances.csv'.format(DATA_DIR))"
   ]
  },
  {
   "cell_type": "markdown",
   "metadata": {},
   "source": [
    "**Comment:** Unfortunately, many of the data points are not useable as our main method relies on looking at the behaviour of the students and therefore the time spent on activities is important to us. In the following graph we can see the ammount of activity data that is of length 0. (see annexe for trials of using the unuseable data)"
   ]
  },
  {
   "cell_type": "code",
   "execution_count": 3,
   "metadata": {},
   "outputs": [
    {
     "data": {
      "image/png": "[encoded data removed]",
      "text/plain": [
       "<Figure size 800x500 with 1 Axes>"
      ]
     },
     "metadata": {},
     "output_type": "display_data"
    }
   ],
   "source": [
    "total = activity.groupby('domain')['user_id'].count()\n",
    "unuseable = activity[activity['activity_completed'].isna()]\n",
    "unuseable_count = unuseable.groupby('domain')['user_id'].count()\n",
    "\n",
    "domains = sorted(set(total.index).union(set(unuseable_count.index)))\n",
    "total = total.reindex(domains, fill_value=0)\n",
    "unuseable_count = unuseable_count.reindex(domains, fill_value=0)\n",
    "\n",
    "x = np.arange(len(domains))\n",
    "width = 0.35\n",
    "\n",
    "plt.figure(figsize=(8, 5))\n",
    "plt.bar(x - width/2, total, width, label='Total')\n",
    "plt.bar(x + width/2, unuseable_count, width, label='Unusable')\n",
    "\n",
    "plt.ylabel('Number of Users')\n",
    "plt.xlabel('Domain')\n",
    "plt.title('Total vs Unusable Activity data by Domain')\n",
    "plt.xticks(x, domains, rotation=45)\n",
    "plt.legend()\n",
    "plt.tight_layout()\n",
    "plt.show()\n"
   ]
  },
  {
   "cell_type": "code",
   "execution_count": 4,
   "metadata": {},
   "outputs": [
    {
     "name": "stdout",
     "output_type": "stream",
     "text": [
      "By deleting these colums, we lose 56.67 % of the initial data ...\n"
     ]
    }
   ],
   "source": [
    "print(f'By deleting these colums, we lose {(unuseable_count.sum()/total.sum() * 100).round(2)} % of the initial data ...')"
   ]
  },
  {
   "cell_type": "code",
   "execution_count": 5,
   "metadata": {},
   "outputs": [],
   "source": [
    "activity.dropna(inplace=True)"
   ]
  },
  {
   "cell_type": "markdown",
   "metadata": {},
   "source": [
    "**Comment:** This is quite a big loss of data but a necessary one... (see annexe for trial without this loss of data)"
   ]
  },
  {
   "cell_type": "markdown",
   "metadata": {},
   "source": [
    "### Feature engineering \n",
    "\n",
    "**Our aim is to predict a user's score on their first attempt at a specific exam, based on their behavior leading up to it. To train our model, we engineered the following features to capture and characterize user behavior:**\n",
    "\n",
    "- recent_avg_time_per_activity\n",
    "\n",
    "*The average time (in minutes) spent per activity during the last 10 days before the exam, including the exam day. This reflects how intensely the user has been engaging recently.*\n",
    "\n",
    "- days_since_last_activity\n",
    "\n",
    "*The number of days between the user's most recent activity and the exam. A higher value may indicate a longer gap in studying before the exam.*\n",
    "\n",
    "- total_time_spent_on_activity_before_exam\n",
    "\n",
    "*The total amount of time (in minutes) the user spent on activities prior to the exam. This gives a sense of overall study investment leading up to the test.*\n",
    "\n",
    "- average_performance_past_exams\n",
    "\n",
    "*The mean performance from the user's previous exams (before this one). This can provide a rough estimate of the user's historical performance.*\n",
    "\n",
    "- avg_activities_per_day_recent\n",
    "\n",
    "*The average number of activities completed per day in the 10-day rolling window. A higher number may suggest more consistent or intense preparation.*\n",
    "\n",
    "- active_days_ratio_recent\n",
    "\n",
    "*The proportion of days (out of 10) on which the user was active. This indicates how regularly they studied leading up to the exam.*\n",
    "\n",
    "- diversity_recent\n",
    "\n",
    "*The number of unique activity types completed in the rolling window. Higher diversity could reflect more varied engagement with different learning methods or content types.*\n"
   ]
  },
  {
   "cell_type": "code",
   "execution_count": 6,
   "metadata": {},
   "outputs": [],
   "source": [
    "# Rolling window for recent activity\n",
    "rolling_window_days = 10\n",
    "\n",
    "\n",
    "def compute_all_features_for_exam(exam_row, user_activities, user_exams, window_days=rolling_window_days):\n",
    "\n",
    "    exam_dt = exam_row['time']\n",
    "\n",
    "\n",
    "    # Include activities up to and including exam_date\n",
    "    previous_activities = user_activities[user_activities['activity_updated'] < exam_dt].copy()\n",
    "\n",
    "\n",
    "    # Rolling window (activities in the last N days, including exam day)\n",
    "    window_start = exam_dt - pd.Timedelta(days=window_days)\n",
    "    rolling_activities = previous_activities[previous_activities['activity_updated'] >= window_start].copy()\n",
    "\n",
    "    features = {}\n",
    "\n",
    "\n",
    "    # Recent average time per activity (rolling window)\n",
    "    total_time_rolling = rolling_activities['time_in_minutes'].sum()\n",
    "    count_rolling = len(rolling_activities)\n",
    "    features['recent_avg_time_per_activity'] = total_time_rolling / count_rolling if count_rolling > 0 else 0\n",
    "\n",
    "\n",
    "    # Number of days since last activity\n",
    "    if not previous_activities.empty:\n",
    "        last_activity_date = previous_activities['activity_updated'].max()\n",
    "        features['days_since_last_activity'] = (exam_dt - last_activity_date).days\n",
    "    else:\n",
    "        features['days_since_last_activity'] = np.nan\n",
    "\n",
    "\n",
    "    # Total time spent on activities before the exam\n",
    "    features['total_time_spent_on_activity_before_exam'] = previous_activities['time_in_minutes'].sum() if not previous_activities.empty else 0\n",
    "\n",
    "\n",
    "    # Average performance on past exams\n",
    "    previous_exams = user_exams[user_exams['time'] < exam_dt]\n",
    "    features['average_performance_past_exams'] = previous_exams['performance'].mean() if not previous_exams.empty else np.nan ###### HERE WE NEED TO FIX\n",
    "\n",
    "\n",
    "    # Usage Frequency: Average activities per day in rolling window & Active days ratio\n",
    "    features['avg_activities_per_day_recent'] = count_rolling / window_days if window_days > 0 else np.nan\n",
    "    if not rolling_activities.empty:\n",
    "        distinct_days = rolling_activities['activity_updated'].dt.normalize().nunique()\n",
    "    else:\n",
    "        distinct_days = 0\n",
    "    features['active_days_ratio_recent'] = distinct_days / window_days if window_days > 0 else np.nan\n",
    "\n",
    "\n",
    "    # Activity diversity (rolling window)\n",
    "    features['diversity_recent'] = rolling_activities['activity_type'].nunique() if not rolling_activities.empty else 0\n",
    "\n",
    "\n",
    "    return pd.Series(features)\n"
   ]
  },
  {
   "cell_type": "markdown",
   "metadata": {},
   "source": [
    "**All features are calculated separately within each domain — Math, Text, and Essay — to capture domain-specific learning patterns and engagement.**\n",
    "\n",
    "We have also scaled the features using a standard because we assume a normal distribution"
   ]
  },
  {
   "cell_type": "code",
   "execution_count": 7,
   "metadata": {},
   "outputs": [],
   "source": [
    "scaler = StandardScaler()\n",
    "columns_to_scale = ['recent_avg_time_per_activity', 'days_since_last_activity', 'total_time_spent_on_activity_before_exam','average_performance_past_exams','avg_activities_per_day_recent','diversity_recent']"
   ]
  },
  {
   "cell_type": "markdown",
   "metadata": {},
   "source": [
    "#### Math data "
   ]
  },
  {
   "cell_type": "code",
   "execution_count": 8,
   "metadata": {},
   "outputs": [],
   "source": [
    "performances_math = performances[performances['domain']== 'math'].copy()\n",
    "activity_math = activity[activity['domain']== 'math'].copy()\n",
    "\n",
    "# Convert the 'date' columns to datetime\n",
    "activity_math['activity_updated'] = pd.to_datetime(activity_math['activity_updated'])\n",
    "performances_math['time'] = pd.to_datetime(performances_math['time'])\n",
    "\n",
    "# Loop over each exam (grouped by user) in performances_math and compute all features.\n",
    "features_list = []\n",
    "\n",
    "for user_id, user_exams in performances_math.groupby('user_id'):\n",
    "    # Get corresponding activities for the user from activity_math and sort by date\n",
    "    user_activities = activity_math[activity_math['user_id'] == user_id].sort_values('activity_updated')\n",
    "    user_exams_sorted = user_exams.sort_values('time')\n",
    "\n",
    "    for exam_index, exam_row in user_exams_sorted.iterrows():\n",
    "        feats = compute_all_features_for_exam(exam_row, user_activities, user_exams_sorted, rolling_window_days)\n",
    "        feats['exam_index'] = exam_index\n",
    "        features_list.append(feats)\n",
    "\n",
    "# Output df\n",
    "features_df = pd.DataFrame(features_list).set_index('exam_index')\n",
    "performances_math_features = performances_math.join(features_df, how='left')\n",
    "\n",
    "\n",
    "# scaling the columns\n",
    "scaled_values = scaler.fit_transform(performances_math_features[columns_to_scale])\n",
    "scaled_df = pd.DataFrame(scaled_values, columns=columns_to_scale, index=performances_math_features.index)\n",
    "remaining_df = performances_math_features.drop(columns=columns_to_scale)\n",
    "final_df_math = pd.concat([scaled_df, remaining_df], axis=1)"
   ]
  },
  {
   "cell_type": "code",
   "execution_count": 9,
   "metadata": {},
   "outputs": [
    {
     "data": {
      "text/plain": [
       "recent_avg_time_per_activity                  0\n",
       "days_since_last_activity                     56\n",
       "total_time_spent_on_activity_before_exam      0\n",
       "average_performance_past_exams              469\n",
       "avg_activities_per_day_recent                 0\n",
       "diversity_recent                              0\n",
       "user_id                                       0\n",
       "domain                                        0\n",
       "test_id                                       0\n",
       "course                                        0\n",
       "date                                          0\n",
       "time                                          0\n",
       "percentage                                    0\n",
       "performance                                   0\n",
       "active_days_ratio_recent                      0\n",
       "dtype: int64"
      ]
     },
     "execution_count": 9,
     "metadata": {},
     "output_type": "execute_result"
    }
   ],
   "source": [
    "final_df_math.isnull().sum()"
   ]
  },
  {
   "cell_type": "code",
   "execution_count": 10,
   "metadata": {},
   "outputs": [
    {
     "name": "stdout",
     "output_type": "stream",
     "text": [
      "Total Nb of rows : 3810\n",
      "Nb of rows where we are missing feature values : 470\n",
      "Percentage of rows where we are missing feature values : 12.335958005249344\n"
     ]
    }
   ],
   "source": [
    "print('Total Nb of rows :', final_df_math.user_id.count())\n",
    "print('Nb of rows where we are missing feature values :', final_df_math.isna().any(axis=1).sum())\n",
    "print('Percentage of rows where we are missing feature values :', final_df_math.isna().any(axis=1).sum()/ final_df_math.user_id.count() * 100)"
   ]
  },
  {
   "cell_type": "markdown",
   "metadata": {},
   "source": [
    "**Comment:** Some features for some rows cannot be computed. This occurs especially for the \"average_performance_past_exams\" feature, which correspond to the first exam questions that every user did for which there is no past value. We will first try to train a linear model by dropping these rows and then we will try to impute these values with the average exam percentage of similar users and see which model performs best. "
   ]
  },
  {
   "cell_type": "markdown",
   "metadata": {},
   "source": [
    "**Comment:** For the math data, the loss of 12% is negligeable and this should not effect the model too much seeing we still have around 3400 data points"
   ]
  },
  {
   "cell_type": "markdown",
   "metadata": {},
   "source": [
    "#### Essay data"
   ]
  },
  {
   "cell_type": "code",
   "execution_count": 11,
   "metadata": {},
   "outputs": [],
   "source": [
    "performances_essay = performances[performances['domain']== 'essay'].copy()\n",
    "activity_essay= activity[activity['domain']== 'essay'].copy()\n",
    "\n",
    "# Convert the date columns  to datetime\n",
    "activity_essay['activity_updated'] = pd.to_datetime(activity_essay['activity_updated'])\n",
    "performances_essay['time'] = pd.to_datetime(performances_essay['time'])\n",
    "\n",
    "# Loop over each exam (grouped by user) in performances_essay and compute all features.\n",
    "features_list = []\n",
    "\n",
    "for user_id, user_exams in performances_essay.groupby('user_id'):\n",
    "    # Get corresponding activities for the user from activity_essay and sort by date\n",
    "    user_activities = activity_essay[activity_essay['user_id'] == user_id].sort_values('date')\n",
    "    user_exams_sorted = user_exams.sort_values('date')\n",
    "\n",
    "    for exam_index, exam_row in user_exams_sorted.iterrows():\n",
    "        feats = compute_all_features_for_exam(exam_row, user_activities, user_exams_sorted, rolling_window_days)\n",
    "        feats['exam_index'] = exam_index\n",
    "        features_list.append(feats)\n",
    "\n",
    "# Output df\n",
    "features_df = pd.DataFrame(features_list).set_index('exam_index')\n",
    "performances_essay_features = performances_essay.join(features_df, how='left')\n",
    "\n",
    "\n",
    "# scaling the columns\n",
    "scaled_values = scaler.fit_transform(performances_essay_features[columns_to_scale])\n",
    "scaled_df = pd.DataFrame(scaled_values, columns=columns_to_scale, index=performances_essay_features.index)\n",
    "remaining_df = performances_essay_features.drop(columns=columns_to_scale)\n",
    "final_df_essay = pd.concat([scaled_df, remaining_df], axis=1)"
   ]
  },
  {
   "cell_type": "code",
   "execution_count": 12,
   "metadata": {},
   "outputs": [
    {
     "data": {
      "text/plain": [
       "recent_avg_time_per_activity                  0\n",
       "days_since_last_activity                    193\n",
       "total_time_spent_on_activity_before_exam      0\n",
       "average_performance_past_exams              308\n",
       "avg_activities_per_day_recent                 0\n",
       "diversity_recent                              0\n",
       "user_id                                       0\n",
       "domain                                        0\n",
       "test_id                                       0\n",
       "course                                        0\n",
       "date                                          0\n",
       "time                                          0\n",
       "percentage                                    0\n",
       "performance                                   0\n",
       "active_days_ratio_recent                      0\n",
       "dtype: int64"
      ]
     },
     "execution_count": 12,
     "metadata": {},
     "output_type": "execute_result"
    }
   ],
   "source": [
    "final_df_essay.isnull().sum()"
   ]
  },
  {
   "cell_type": "code",
   "execution_count": 13,
   "metadata": {},
   "outputs": [
    {
     "name": "stdout",
     "output_type": "stream",
     "text": [
      "Total Nb of rows : 581\n",
      "Nb of rows where we are missing feature values : 361\n",
      "Percentage of rows where we are missing feature values : 62.1342512908778\n"
     ]
    }
   ],
   "source": [
    "print('Total Nb of rows :', final_df_essay.user_id.count())\n",
    "print('Nb of rows where we are missing feature values :', final_df_essay.isna().any(axis=1).sum())\n",
    "print('Percentage of rows where we are missing feature values :', final_df_essay.isna().any(axis=1).sum()/ final_df_essay.user_id.count() * 100)"
   ]
  },
  {
   "cell_type": "markdown",
   "metadata": {},
   "source": [
    "**Comment:** Unfortunately, there is not a lot of data available to us for the essay domain. Only 581 rows can be used to train our model, which is not enough."
   ]
  },
  {
   "cell_type": "markdown",
   "metadata": {},
   "source": [
    "**Comment:** For the essay data, the loss of 63% of the data is not as negligeable as with the math data. Here, we will only be left with around 220 data points, which will make it complicated for the model to perform well... "
   ]
  },
  {
   "cell_type": "markdown",
   "metadata": {},
   "source": [
    "#### Text data "
   ]
  },
  {
   "cell_type": "code",
   "execution_count": 14,
   "metadata": {},
   "outputs": [],
   "source": [
    "performances_text = performances[performances['domain']== 'text'].copy()\n",
    "activity_text= activity[activity['domain']== 'text'].copy()\n",
    "\n",
    "# Convert the date columns to datetime\n",
    "activity_text['activity_updated'] = pd.to_datetime(activity_text['activity_updated'])\n",
    "performances_text['time'] = pd.to_datetime(performances_text['time'])\n",
    "\n",
    "# Loop over each exam (grouped by user) in performances_text and compute all features.\n",
    "features_list = []\n",
    "\n",
    "for user_id, user_exams in performances_text.groupby('user_id'):\n",
    "    # Get corresponding activities for the user from activity_text and sort by date\n",
    "    user_activities = activity_text[activity_text['user_id'] == user_id].sort_values('date')\n",
    "    user_exams_sorted = user_exams.sort_values('date')\n",
    "\n",
    "    for exam_index, exam_row in user_exams_sorted.iterrows():\n",
    "        feats = compute_all_features_for_exam(exam_row, user_activities, user_exams_sorted, rolling_window_days)\n",
    "        feats['exam_index'] = exam_index\n",
    "        features_list.append(feats)\n",
    "\n",
    "# Output df\n",
    "features_df = pd.DataFrame(features_list).set_index('exam_index')\n",
    "performances_text_features = performances_text.join(features_df, how='left')\n",
    "\n",
    "\n",
    "# Scale the columns\n",
    "scaled_values = scaler.fit_transform(performances_text_features[columns_to_scale])\n",
    "scaled_df = pd.DataFrame(scaled_values, columns=columns_to_scale, index=performances_text_features.index)\n",
    "remaining_df = performances_text_features.drop(columns=columns_to_scale)\n",
    "final_df_text = pd.concat([scaled_df, remaining_df], axis=1)"
   ]
  },
  {
   "cell_type": "code",
   "execution_count": 15,
   "metadata": {},
   "outputs": [
    {
     "data": {
      "text/plain": [
       "recent_avg_time_per_activity                  0\n",
       "days_since_last_activity                    307\n",
       "total_time_spent_on_activity_before_exam      0\n",
       "average_performance_past_exams              122\n",
       "avg_activities_per_day_recent                 0\n",
       "diversity_recent                              0\n",
       "user_id                                       0\n",
       "domain                                        0\n",
       "test_id                                       0\n",
       "course                                        0\n",
       "date                                          0\n",
       "time                                          0\n",
       "percentage                                    0\n",
       "performance                                   0\n",
       "active_days_ratio_recent                      0\n",
       "dtype: int64"
      ]
     },
     "execution_count": 15,
     "metadata": {},
     "output_type": "execute_result"
    }
   ],
   "source": [
    "final_df_text.isnull().sum()"
   ]
  },
  {
   "cell_type": "code",
   "execution_count": 16,
   "metadata": {},
   "outputs": [
    {
     "name": "stdout",
     "output_type": "stream",
     "text": [
      "Total Nb of rows : 445\n",
      "Nb of rows where we are missing feature values : 356\n",
      "Percentage of rows where we are missing feature values : 80.0\n"
     ]
    }
   ],
   "source": [
    "print('Total Nb of rows :', final_df_text.user_id.count())\n",
    "print('Nb of rows where we are missing feature values :', final_df_text.isna().any(axis=1).sum())\n",
    "print('Percentage of rows where we are missing feature values :', final_df_text.isna().any(axis=1).sum()/ final_df_text.user_id.count() * 100)"
   ]
  },
  {
   "cell_type": "markdown",
   "metadata": {},
   "source": [
    "**Comment:** Unfortunately, there is even less data available for the text domain. Only 445 rows can be used to train our model, which is again not enough."
   ]
  },
  {
   "cell_type": "markdown",
   "metadata": {},
   "source": [
    "**Comment:** For the text data, the loss of803% of the data is not as negligeable as with the math data. Here, we will only be left with around 90 data points, which will make it complicated for the model to perform well... "
   ]
  },
  {
   "cell_type": "markdown",
   "id": "76d0fcca-686e-47a3-8567-c3f92db187d4",
   "metadata": {
    "id": "76d0fcca-686e-47a3-8567-c3f92db187d4"
   },
   "source": [
    "*Your discussion about your processing decisions goes here*\n",
    "\n",
    "\n",
    "HERE ADD SOME COMMENTS"
   ]
  },
  {
   "cell_type": "code",
   "execution_count": null,
   "metadata": {},
   "outputs": [],
   "source": []
  },
  {
   "cell_type": "code",
   "execution_count": null,
   "metadata": {},
   "outputs": [],
   "source": []
  },
  {
   "cell_type": "code",
   "execution_count": null,
   "metadata": {},
   "outputs": [],
   "source": []
  },
  {
   "cell_type": "markdown",
   "id": "85633adb-d317-4ee3-bf06-e9f82f589c41",
   "metadata": {
    "id": "85633adb-d317-4ee3-bf06-e9f82f589c41"
   },
   "source": [
    "## Task 2: Model Building\n",
    "\n",
    "Train a model for your research question. "
   ]
  },
  {
   "cell_type": "markdown",
   "metadata": {},
   "source": [
    "**Comment:** Seeing the lack of data available to us for both the text and essay domains, we decided to concentrate on the math data for the following parts "
   ]
  },
  {
   "cell_type": "code",
   "execution_count": null,
   "metadata": {},
   "outputs": [],
   "source": []
  },
  {
   "cell_type": "markdown",
   "metadata": {},
   "source": [
    "### Method 0 : Simple Linear Regression where we drop NAN"
   ]
  },
  {
   "cell_type": "code",
   "execution_count": 17,
   "id": "90b65ebd-c148-4ae8-833e-018411eeda86",
   "metadata": {
    "id": "90b65ebd-c148-4ae8-833e-018411eeda86"
   },
   "outputs": [
    {
     "name": "stdout",
     "output_type": "stream",
     "text": [
      "                            OLS Regression Results                            \n",
      "==============================================================================\n",
      "Dep. Variable:            performance   R-squared:                       0.267\n",
      "Model:                            OLS   Adj. R-squared:                  0.265\n",
      "Method:                 Least Squares   F-statistic:                     202.1\n",
      "Date:                Fri, 25 Apr 2025   Prob (F-statistic):          2.41e-220\n",
      "Time:                        15:59:12   Log-Likelihood:                -15422.\n",
      "No. Observations:                3340   AIC:                         3.086e+04\n",
      "Df Residuals:                    3333   BIC:                         3.090e+04\n",
      "Df Model:                           6                                         \n",
      "Covariance Type:            nonrobust                                         \n",
      "============================================================================================================\n",
      "                                               coef    std err          t      P>|t|      [0.025      0.975]\n",
      "------------------------------------------------------------------------------------------------------------\n",
      "Intercept                                    0.1784      0.429      0.416      0.677      -0.662       1.019\n",
      "recent_avg_time_per_activity                 1.9600      0.447      4.386      0.000       1.084       2.836\n",
      "days_since_last_activity                     1.4895      0.596      2.499      0.012       0.321       2.658\n",
      "total_time_spent_on_activity_before_exam     1.5431      0.453      3.403      0.001       0.654       2.432\n",
      "average_performance_past_exams              13.1376      0.468     28.062      0.000      12.220      14.055\n",
      "avg_activities_per_day_recent               -1.3049      0.488     -2.673      0.008      -2.262      -0.348\n",
      "diversity_recent                             0.1296      0.605      0.214      0.830      -1.057       1.316\n",
      "==============================================================================\n",
      "Omnibus:                       25.835   Durbin-Watson:                   1.668\n",
      "Prob(Omnibus):                  0.000   Jarque-Bera (JB):               17.961\n",
      "Skew:                          -0.039   Prob(JB):                     0.000126\n",
      "Kurtosis:                       2.649   Cond. No.                         2.42\n",
      "==============================================================================\n",
      "\n",
      "Notes:\n",
      "[1] Standard Errors assume that the covariance matrix of the errors is correctly specified.\n"
     ]
    }
   ],
   "source": [
    "# Your code for training a model goes here\n",
    "\n",
    "final_df_math_drop = final_df_math.copy()\n",
    "final_df_math_drop.dropna(inplace=True)\n",
    "\n",
    "\n",
    "\n",
    "# Linear Regression Model\n",
    "mod_method0 = smf.ols(formula='performance ~  recent_avg_time_per_activity + days_since_last_activity + total_time_spent_on_activity_before_exam + average_performance_past_exams + avg_activities_per_day_recent + diversity_recent', data=final_df_math_drop)\n",
    "# Fit the model\n",
    "res_method0 = mod_method0.fit()\n",
    "# Print regression results summary\n",
    "print(res_method0.summary())"
   ]
  },
  {
   "cell_type": "code",
   "execution_count": 18,
   "metadata": {},
   "outputs": [],
   "source": [
    "# final_df_essay_drop = final_df_essay.copy()\n",
    "# final_df_essay_drop.dropna(inplace=True)\n",
    "\n",
    "# # Linear Regression Model\n",
    "# mod_essay = smf.ols(formula='performance ~  recent_avg_time_per_activity + days_since_last_activity + total_time_spent_on_activity_before_exam + average_performance_past_exams + avg_activities_per_day_recent + diversity_recent', data=final_df_essay_drop)\n",
    "# # Fit the model\n",
    "# res_essay = mod_essay.fit()\n",
    "# # Print regression results summary\n",
    "# print(res_essay.summary())"
   ]
  },
  {
   "cell_type": "code",
   "execution_count": 19,
   "metadata": {},
   "outputs": [],
   "source": [
    "# final_df_text_drop = final_df_text.copy()\n",
    "# final_df_text_drop.dropna(inplace=True)\n",
    "\n",
    "# # Linear Regression Model\n",
    "# mod_text = smf.ols(formula='performance ~  recent_avg_time_per_activity + days_since_last_activity + total_time_spent_on_activity_before_exam + average_performance_past_exams + avg_activities_per_day_recent + diversity_recent', data=final_df_text_drop)\n",
    "# # Fit the model\n",
    "# res_text = mod_text.fit()\n",
    "# # Print regression results summary\n",
    "# print(res_text.summary())"
   ]
  },
  {
   "cell_type": "code",
   "execution_count": null,
   "metadata": {},
   "outputs": [],
   "source": []
  },
  {
   "cell_type": "markdown",
   "metadata": {},
   "source": [
    "### Method 1 : Mixed Effects Linear Regression where we drop NAN and cluster the users \n",
    "\n",
    "Add explanation here"
   ]
  },
  {
   "cell_type": "code",
   "execution_count": 20,
   "metadata": {},
   "outputs": [
    {
     "name": "stdout",
     "output_type": "stream",
     "text": [
      "                       Mixed Linear Model Regression Results\n",
      "===================================================================================\n",
      "Model:                      MixedLM         Dependent Variable:         performance\n",
      "No. Observations:           3340            Method:                     ML         \n",
      "No. Groups:                 3               Scale:                      590.3304   \n",
      "Min. group size:            27              Log-Likelihood:             -15399.2191\n",
      "Max. group size:            1902            Converged:                  Yes        \n",
      "Mean group size:            1113.3                                                 \n",
      "-----------------------------------------------------------------------------------\n",
      "                                         Coef.  Std.Err.   z    P>|z| [0.025 0.975]\n",
      "-----------------------------------------------------------------------------------\n",
      "Intercept                                 0.242    2.875  0.084 0.933 -5.394  5.878\n",
      "recent_avg_time_per_activity              1.433    0.451  3.179 0.001  0.550  2.317\n",
      "days_since_last_activity                  1.505    0.634  2.374 0.018  0.263  2.748\n",
      "total_time_spent_on_activity_before_exam  1.090    0.458  2.383 0.017  0.193  1.987\n",
      "average_performance_past_exams           10.052    0.639 15.722 0.000  8.798 11.305\n",
      "avg_activities_per_day_recent            -1.559    0.522 -2.985 0.003 -2.582 -0.535\n",
      "active_days_ratio_recent                  6.645    4.042  1.644 0.100 -1.278 14.568\n",
      "diversity_recent                          0.298    0.641  0.465 0.642 -0.958  1.555\n",
      "cluster Var                              17.900    0.675                           \n",
      "===================================================================================\n",
      "\n",
      "Cluster‐model  AIC: 30818.43817434939   BIC: 30879.5754352091\n",
      "Cluster‐model  R² = 0.252,  RMSE = 612.310\n"
     ]
    }
   ],
   "source": [
    "# Collapse to one row per user for clustering\n",
    "user_feats = final_df_math_drop.groupby('user_id')[['recent_avg_time_per_activity', 'days_since_last_activity', 'total_time_spent_on_activity_before_exam', 'average_performance_past_exams', 'avg_activities_per_day_recent', 'active_days_ratio_recent', 'diversity_recent']].mean().reset_index()\n",
    "\n",
    "# Cluster into 3 groups\n",
    "kmeans = KMeans(n_clusters=3, random_state=0)\n",
    "user_feats['cluster'] = kmeans.fit_predict(user_feats.drop(columns='user_id'))\n",
    "\n",
    "# Merge cluster label back into final_df\n",
    "df2 = final_df_math_drop.merge(user_feats[['user_id','cluster']], on='user_id')\n",
    "\n",
    "# Fit a mixed‐effects model with random intercept per cluster\n",
    "md = smf.mixedlm(\"performance ~ recent_avg_time_per_activity + days_since_last_activity + \\\n",
    "     total_time_spent_on_activity_before_exam + average_performance_past_exams + \\\n",
    "     avg_activities_per_day_recent + active_days_ratio_recent + diversity_recent\",df2,groups=\"cluster\")\n",
    "mdf = md.fit(reml=False)\n",
    "print(mdf.summary())\n",
    "\n",
    "# In-sample predictions\n",
    "df2[\"pred_cluster\"] = mdf.predict(df2)\n",
    "\n",
    "# Compute R² and RMSE\n",
    "r2_cluster = r2_score(df2[\"performance\"], df2[\"pred_cluster\"])\n",
    "rmse_cluster = mean_squared_error(df2[\"performance\"], df2[\"pred_cluster\"])\n",
    "\n",
    "print(\"Cluster‐model  AIC:\",  mdf.aic, \"  BIC:\", mdf.bic)\n",
    "print(f\"Cluster‐model  R² = {r2_cluster:.3f},  RMSE = {rmse_cluster:.3f}\")"
   ]
  },
  {
   "cell_type": "code",
   "execution_count": null,
   "metadata": {},
   "outputs": [],
   "source": []
  },
  {
   "cell_type": "markdown",
   "metadata": {},
   "source": [
    "### Method 2 : Simple Linear Regression where we impute the missing NAN values with the median value for that exam\n",
    "\n",
    "\n",
    "Explain here..."
   ]
  },
  {
   "cell_type": "code",
   "execution_count": 21,
   "metadata": {},
   "outputs": [],
   "source": [
    "performance_math_median = performances_math_features.copy()\n",
    "\n",
    "# Fill by test_id median\n",
    "performance_math_median['average_performance_past_exams'] = (\n",
    "    performance_math_median\n",
    "    .groupby('test_id')['average_performance_past_exams']\n",
    "    .transform(lambda x: x.fillna(x.median()))\n",
    "    .fillna(performance_math_median['average_performance_past_exams'].median())   # fallback to global median if a test has no median\n",
    ")\n",
    "\n",
    "# scaling the columns\n",
    "columns_to_scale = ['recent_avg_time_per_activity', 'days_since_last_activity', 'total_time_spent_on_activity_before_exam','average_performance_past_exams','avg_activities_per_day_recent','active_days_ratio_recent','diversity_recent']\n",
    "\n",
    "\n",
    "scaler = StandardScaler()\n",
    "scaled_values = scaler.fit_transform(performance_math_median[columns_to_scale])\n",
    "scaled_df = pd.DataFrame(scaled_values, columns=columns_to_scale, index=performance_math_median.index)\n",
    "remaining_df = performance_math_median.drop(columns=columns_to_scale)\n",
    "final_df_med = pd.concat([scaled_df, remaining_df], axis=1)"
   ]
  },
  {
   "cell_type": "code",
   "execution_count": 22,
   "metadata": {},
   "outputs": [
    {
     "name": "stdout",
     "output_type": "stream",
     "text": [
      "                            OLS Regression Results                            \n",
      "==============================================================================\n",
      "Dep. Variable:            performance   R-squared:                       0.242\n",
      "Model:                            OLS   Adj. R-squared:                  0.240\n",
      "Method:                 Least Squares   F-statistic:                     170.6\n",
      "Date:                Fri, 25 Apr 2025   Prob (F-statistic):          9.72e-220\n",
      "Time:                        15:59:12   Log-Likelihood:                -17349.\n",
      "No. Observations:                3754   AIC:                         3.471e+04\n",
      "Df Residuals:                    3746   BIC:                         3.476e+04\n",
      "Df Model:                           7                                         \n",
      "Covariance Type:            nonrobust                                         \n",
      "============================================================================================================\n",
      "                                               coef    std err          t      P>|t|      [0.025      0.975]\n",
      "------------------------------------------------------------------------------------------------------------\n",
      "Intercept                                   -0.1106      0.402     -0.275      0.783      -0.899       0.678\n",
      "recent_avg_time_per_activity                 1.9716      0.443      4.446      0.000       1.102       2.841\n",
      "days_since_last_activity                     1.3458      0.495      2.718      0.007       0.375       2.317\n",
      "total_time_spent_on_activity_before_exam     1.7889      0.443      4.042      0.000       0.921       2.657\n",
      "average_performance_past_exams              12.0288      0.442     27.228      0.000      11.163      12.895\n",
      "avg_activities_per_day_recent               -1.6891      0.521     -3.240      0.001      -2.711      -0.667\n",
      "active_days_ratio_recent                     0.5081      0.569      0.893      0.372      -0.607       1.623\n",
      "diversity_recent                             0.3030      0.593      0.511      0.610      -0.860       1.466\n",
      "==============================================================================\n",
      "Omnibus:                       36.328   Durbin-Watson:                   1.735\n",
      "Prob(Omnibus):                  0.000   Jarque-Bera (JB):               24.777\n",
      "Skew:                          -0.063   Prob(JB):                     4.17e-06\n",
      "Kurtosis:                       2.623   Cond. No.                         2.75\n",
      "==============================================================================\n",
      "\n",
      "Notes:\n",
      "[1] Standard Errors assume that the covariance matrix of the errors is correctly specified.\n"
     ]
    }
   ],
   "source": [
    "# Linear Regression Model\n",
    "mod_method2 = smf.ols(formula= 'performance ~  recent_avg_time_per_activity + days_since_last_activity + total_time_spent_on_activity_before_exam + average_performance_past_exams + avg_activities_per_day_recent + active_days_ratio_recent + diversity_recent', data=final_df_med)\n",
    "\n",
    "# Fit the model\n",
    "res_method2 = mod_method2.fit()\n",
    "\n",
    "# Print regression results summary\n",
    "print(res_method2.summary())"
   ]
  },
  {
   "cell_type": "code",
   "execution_count": null,
   "metadata": {},
   "outputs": [],
   "source": []
  },
  {
   "cell_type": "markdown",
   "metadata": {},
   "source": [
    "### Method 3 : Simple Linear Regression where we impute the missing NAN values using k-means \n",
    "\n",
    "Here add explanantion on our methodology"
   ]
  },
  {
   "cell_type": "code",
   "execution_count": 23,
   "metadata": {},
   "outputs": [],
   "source": [
    "performance_math_impute = performances_math_features.copy()\n",
    "\n",
    "# Features we’ll use to compute similarity:\n",
    "sim_features = ['recent_avg_time_per_activity','days_since_last_activity','total_time_spent_on_activity_before_exam',\n",
    "                'avg_activities_per_day_recent','active_days_ratio_recent','diversity_recent']\n",
    "\n",
    "# New column to hold the imputed values\n",
    "performance_math_impute['avg_perf_past_exams_imputed'] = performance_math_impute['average_performance_past_exams']\n",
    "\n",
    "# Group by test_id and run kNN inside each group\n",
    "for test_id, group in performance_math_impute.groupby('test_id'):\n",
    "    # indices of rows we need to fill\n",
    "    missing_idx = group[group['average_performance_past_exams'].isna()].index\n",
    "    if len(missing_idx) == 0:\n",
    "        continue\n",
    "\n",
    "    # candidate neighbors: same test, non‐missing avg_pct\n",
    "    candidates = group[group['average_performance_past_exams'].notna()]\n",
    "    if candidates.shape[0] == 0:\n",
    "        # if no one else took that test --> impute median\n",
    "        continue\n",
    "\n",
    "    # Matrix of sim_features, impute median for remaining NaNs\n",
    "    feat_mat = group[sim_features].copy()\n",
    "    feat_mat = feat_mat.fillna(feat_mat.median())\n",
    "\n",
    "    # Split into X_train (candidates) and X_query (the missing rows)\n",
    "    X_train = feat_mat.loc[candidates.index].values\n",
    "    X_query = feat_mat.loc[missing_idx].values\n",
    "\n",
    "    # Use up to 3 neighbors (fewer if not enough candidates)\n",
    "    k = min(3, X_train.shape[0])\n",
    "    nbrs = NearestNeighbors(n_neighbors=k, algorithm='auto').fit(X_train)\n",
    "    distances, neighbors = nbrs.kneighbors(X_query)\n",
    "\n",
    "    # For each missing row, average the actual test scores of its neighbors\n",
    "    candidate_scores = candidates['performance'].values\n",
    "    for i, idx in enumerate(missing_idx):\n",
    "        nbr_idxs = neighbors[i]\n",
    "        imputed_val = candidate_scores[nbr_idxs].mean()\n",
    "        performance_math_impute.at[idx, 'avg_perf_past_exams_imputed'] = imputed_val\n",
    "\n",
    "# Replace the original column\n",
    "performance_math_impute['average_performance_past_exams'] = performance_math_impute['avg_perf_past_exams_imputed']\n",
    "performance_math_impute.drop(columns='avg_perf_past_exams_imputed', inplace=True)"
   ]
  },
  {
   "cell_type": "code",
   "execution_count": 24,
   "metadata": {},
   "outputs": [],
   "source": [
    "# scaling the columns\n",
    "columns_to_scale = ['recent_avg_time_per_activity', 'days_since_last_activity', 'total_time_spent_on_activity_before_exam','average_performance_past_exams','avg_activities_per_day_recent','active_days_ratio_recent','diversity_recent']\n",
    "scaler = StandardScaler()\n",
    "scaled_values = scaler.fit_transform(performance_math_impute[columns_to_scale])\n",
    "scaled_df = pd.DataFrame(scaled_values, columns=columns_to_scale, index=performance_math_impute.index)\n",
    "remaining_df = performance_math_impute.drop(columns=columns_to_scale)\n",
    "final_df_impute = pd.concat([scaled_df, remaining_df], axis=1)"
   ]
  },
  {
   "cell_type": "code",
   "execution_count": 25,
   "metadata": {},
   "outputs": [
    {
     "name": "stdout",
     "output_type": "stream",
     "text": [
      "                            OLS Regression Results                            \n",
      "==============================================================================\n",
      "Dep. Variable:            performance   R-squared:                       0.240\n",
      "Model:                            OLS   Adj. R-squared:                  0.238\n",
      "Method:                 Least Squares   F-statistic:                     168.8\n",
      "Date:                Fri, 25 Apr 2025   Prob (F-statistic):          1.34e-217\n",
      "Time:                        15:59:12   Log-Likelihood:                -17353.\n",
      "No. Observations:                3754   AIC:                         3.472e+04\n",
      "Df Residuals:                    3746   BIC:                         3.477e+04\n",
      "Df Model:                           7                                         \n",
      "Covariance Type:            nonrobust                                         \n",
      "============================================================================================================\n",
      "                                               coef    std err          t      P>|t|      [0.025      0.975]\n",
      "------------------------------------------------------------------------------------------------------------\n",
      "Intercept                                   -0.2131      0.403     -0.529      0.597      -1.002       0.576\n",
      "recent_avg_time_per_activity                 1.9006      0.445      4.274      0.000       1.029       2.772\n",
      "days_since_last_activity                     1.2817      0.496      2.584      0.010       0.309       2.254\n",
      "total_time_spent_on_activity_before_exam     1.6790      0.444      3.778      0.000       0.808       2.550\n",
      "average_performance_past_exams              12.0838      0.447     27.009      0.000      11.207      12.961\n",
      "avg_activities_per_day_recent               -1.8492      0.521     -3.547      0.000      -2.871      -0.827\n",
      "active_days_ratio_recent                     0.5352      0.569      0.940      0.347      -0.581       1.652\n",
      "diversity_recent                             0.3069      0.594      0.517      0.606      -0.858       1.472\n",
      "==============================================================================\n",
      "Omnibus:                       38.123   Durbin-Watson:                   1.720\n",
      "Prob(Omnibus):                  0.000   Jarque-Bera (JB):               25.414\n",
      "Skew:                          -0.055   Prob(JB):                     3.03e-06\n",
      "Kurtosis:                       2.612   Cond. No.                         2.75\n",
      "==============================================================================\n",
      "\n",
      "Notes:\n",
      "[1] Standard Errors assume that the covariance matrix of the errors is correctly specified.\n"
     ]
    }
   ],
   "source": [
    "final_df_impute.dropna(inplace=True) # drop the remaining NaNs\n",
    "\n",
    "# Linear Regression Model\n",
    "mod_method3 = smf.ols(formula= 'performance ~  recent_avg_time_per_activity + days_since_last_activity + total_time_spent_on_activity_before_exam + average_performance_past_exams + avg_activities_per_day_recent + active_days_ratio_recent + diversity_recent', data=final_df_impute)\n",
    "\n",
    "# Fit the model\n",
    "res_method3 = mod_method3.fit()\n",
    "\n",
    "# Print regression results summary\n",
    "print(res_method3.summary())"
   ]
  },
  {
   "cell_type": "code",
   "execution_count": null,
   "metadata": {},
   "outputs": [],
   "source": []
  },
  {
   "cell_type": "markdown",
   "metadata": {},
   "source": [
    "### Method 4 : Gradient Boosting Regressor that accepts NAN values \n"
   ]
  },
  {
   "cell_type": "code",
   "execution_count": 26,
   "metadata": {},
   "outputs": [
    {
     "name": "stdout",
     "output_type": "stream",
     "text": [
      "Fitting 5 folds for each of 16 candidates, totalling 80 fits\n",
      "Best params: {'gbr__learning_rate': 0.05, 'gbr__max_depth': 3, 'gbr__n_estimators': 100, 'gbr__subsample': 0.8}\n",
      "Test R²: 0.2751602593462803\n",
      "Test RMSE: 23.898957516848917\n",
      "5‑fold CV R²: 0.217 ± 0.082\n"
     ]
    }
   ],
   "source": [
    "df = performances_math_features.copy()\n",
    "\n",
    "feature_cols = ['recent_avg_time_per_activity','days_since_last_activity','total_time_spent_on_activity_before_exam','average_performance_past_exams',\n",
    "    'avg_activities_per_day_recent','active_days_ratio_recent','diversity_recent']\n",
    "\n",
    "X = df[feature_cols]\n",
    "y = df['performance']\n",
    "\n",
    "# Train-Test split\n",
    "X_train, X_test, y_train, y_test = train_test_split(X, y, test_size=0.2, random_state=42)\n",
    "\n",
    "# Pipeline: impute → scale → gradient boost\n",
    "pipeline = Pipeline([\n",
    "    ('imputer',   SimpleImputer(strategy='median')),\n",
    "    ('scaler',    StandardScaler()),\n",
    "    ('gbr',       GradientBoostingRegressor(random_state=42))\n",
    "])\n",
    "\n",
    "# Grid search for key hyperparameters\n",
    "param_grid = {'gbr__n_estimators': [100, 200], 'gbr__learning_rate': [0.05, 0.1], 'gbr__max_depth':[3, 5], 'gbr__subsample':[0.8, 1.0]}\n",
    "grid = GridSearchCV(pipeline, param_grid, cv=5, scoring='r2', n_jobs=-1, verbose=1)\n",
    "\n",
    "# Fit the model\n",
    "grid.fit(X_train, y_train)\n",
    "print(\"Best params:\", grid.best_params_)\n",
    "best_model = grid.best_estimator_\n",
    "\n",
    "# Evaluate on the test set\n",
    "y_pred = best_model.predict(X_test)\n",
    "print(\"Test R²:\", r2_score(y_test, y_pred))\n",
    "print(\"Test RMSE:\", np.sqrt(mean_squared_error(y_test, y_pred)))\n",
    "\n",
    "# Cross‑validated performance\n",
    "cv_scores = cross_val_score(best_model, X, y, cv=5, scoring='r2', n_jobs=-1)\n",
    "print(\"5‑fold CV R²: %0.3f ± %0.3f\" % (cv_scores.mean(), cv_scores.std()))\n"
   ]
  },
  {
   "cell_type": "code",
   "execution_count": null,
   "metadata": {},
   "outputs": [],
   "source": []
  },
  {
   "cell_type": "code",
   "execution_count": null,
   "metadata": {},
   "outputs": [],
   "source": []
  },
  {
   "cell_type": "markdown",
   "metadata": {},
   "source": [
    "*Your discussion about your model training goes here*"
   ]
  },
  {
   "cell_type": "code",
   "execution_count": null,
   "metadata": {},
   "outputs": [],
   "source": []
  },
  {
   "cell_type": "code",
   "execution_count": null,
   "metadata": {},
   "outputs": [],
   "source": []
  },
  {
   "cell_type": "code",
   "execution_count": null,
   "metadata": {},
   "outputs": [],
   "source": []
  },
  {
   "cell_type": "markdown",
   "id": "b3c9a655-cec9-4c57-aec7-7a982f57a3af",
   "metadata": {
    "id": "b3c9a655-cec9-4c57-aec7-7a982f57a3af"
   },
   "source": [
    "## Task 3: Model Evaluation\n",
    "In this task, you will use metrics to evaluate your model."
   ]
  },
  {
   "cell_type": "code",
   "execution_count": 27,
   "id": "f65720b8",
   "metadata": {},
   "outputs": [],
   "source": [
    "# Your code for model evaluation goes here\n",
    "\n",
    "### Here we compare the different methods"
   ]
  },
  {
   "cell_type": "markdown",
   "id": "62968daa",
   "metadata": {},
   "source": [
    "*Your discussion/interpretation about your model's behavior goes here*"
   ]
  },
  {
   "cell_type": "code",
   "execution_count": null,
   "metadata": {},
   "outputs": [],
   "source": []
  },
  {
   "cell_type": "code",
   "execution_count": null,
   "metadata": {},
   "outputs": [],
   "source": []
  },
  {
   "cell_type": "code",
   "execution_count": null,
   "metadata": {},
   "outputs": [],
   "source": []
  },
  {
   "attachments": {},
   "cell_type": "markdown",
   "id": "e49d1dad",
   "metadata": {},
   "source": [
    "## Task 4: Team Reflection\n",
    "Please describe the contributions of each team member to Milestone 4. Reflect on how you worked as team: what went well, what can be improved for the next milestone?"
   ]
  },
  {
   "attachments": {},
   "cell_type": "markdown",
   "id": "cde86a72",
   "metadata": {},
   "source": [
    "*Your discussion about team responsibilities goes here*"
   ]
  },
  {
   "cell_type": "code",
   "execution_count": null,
   "metadata": {},
   "outputs": [],
   "source": []
  },
  {
   "cell_type": "code",
   "execution_count": null,
   "metadata": {},
   "outputs": [],
   "source": []
  },
  {
   "cell_type": "code",
   "execution_count": null,
   "metadata": {},
   "outputs": [],
   "source": []
  },
  {
   "cell_type": "markdown",
   "metadata": {},
   "source": [
    "## Annexe\n",
    "\n",
    "Test without the time dependant activity features"
   ]
  },
  {
   "cell_type": "code",
   "execution_count": 28,
   "metadata": {},
   "outputs": [],
   "source": [
    "activity = pd.read_csv('{}/features/activity.csv'.format(DATA_DIR))\n",
    "performances = pd.read_csv('{}/features/performances.csv'.format(DATA_DIR))"
   ]
  },
  {
   "cell_type": "code",
   "execution_count": 29,
   "metadata": {},
   "outputs": [],
   "source": [
    "performances_math = performances[performances['domain']== 'math'].copy()\n",
    "activity_math = activity[activity['domain']== 'math'].copy()\n",
    "\n",
    "# Rolling window for recent activity\n",
    "rolling_window_days = 10\n",
    "\n",
    "# Convert the 'date' columns to datetime\n",
    "activity_math['activity_updated'] = pd.to_datetime(activity_math['activity_updated'])\n",
    "performances_math['time'] = pd.to_datetime(performances_math['time'])\n",
    "\n",
    "def compute_all_features_for_exam_no_time(exam_row, user_activities, user_exams, window_days=rolling_window_days):\n",
    "\n",
    "    exam_dt = exam_row['time']\n",
    "\n",
    "    # Include activities up to and including exam_date\n",
    "    previous_activities = user_activities[user_activities['activity_updated'] < exam_dt].copy()\n",
    "\n",
    "    # Rolling window (activities in the last N days, including exam day)\n",
    "    window_start = exam_dt - pd.Timedelta(days=window_days)\n",
    "    rolling_activities = previous_activities[previous_activities['activity_updated'] >= window_start].copy()\n",
    "\n",
    "    features = {}\n",
    "\n",
    "    # Recent average time per activity (rolling window)\n",
    "    #total_time_rolling = rolling_activities['time_in_minutes'].sum()\n",
    "    count_rolling = len(rolling_activities)\n",
    "    #features['recent_avg_time_per_activity'] = total_time_rolling / count_rolling if count_rolling > 0 else 0\n",
    "\n",
    "    # Number of days since last activity\n",
    "    if not previous_activities.empty:\n",
    "        last_activity_date = previous_activities['activity_updated'].max()\n",
    "        features['days_since_last_activity'] = (exam_dt - last_activity_date).days\n",
    "    else:\n",
    "        features['days_since_last_activity'] = np.nan\n",
    "\n",
    "    # Total time spent on activities before the exam\n",
    "    #features['total_time_spent_on_activity_before_exam'] = previous_activities['time_in_minutes'].sum() if not previous_activities.empty else 0\n",
    "\n",
    "    # Average percentage on past exams\n",
    "    previous_exams = user_exams[user_exams['time'] < exam_dt]\n",
    "    features['average_performance_past_exams'] = previous_exams['performance'].mean() if not previous_exams.empty else np.nan\n",
    "\n",
    "    # Usage Frequency: Average activities per day in rolling window & Active days ratio\n",
    "    features['avg_activities_per_day_recent'] = count_rolling / window_days if window_days > 0 else np.nan\n",
    "    if not rolling_activities.empty:\n",
    "        distinct_days = rolling_activities['activity_updated'].dt.normalize().nunique()\n",
    "    else:\n",
    "        distinct_days = 0\n",
    "    features['active_days_ratio_recent'] = distinct_days / window_days if window_days > 0 else np.nan\n",
    "\n",
    "    # Activity diversity (rolling window)\n",
    "    features['diversity_recent'] = rolling_activities['activity_type'].nunique() if not rolling_activities.empty else 0\n",
    "\n",
    "\n",
    "    return pd.Series(features)"
   ]
  },
  {
   "cell_type": "code",
   "execution_count": 30,
   "metadata": {},
   "outputs": [],
   "source": [
    "# Loop over each exam (grouped by user) in performances_math and compute all features.\n",
    "features_list = []\n",
    "\n",
    "for user_id, user_exams in performances_math.groupby('user_id'):\n",
    "    # Get corresponding activities for the user from activity_math and sort by date\n",
    "    user_activities = activity_math[activity_math['user_id'] == user_id].sort_values('activity_updated')\n",
    "    user_exams_sorted = user_exams.sort_values('time')\n",
    "\n",
    "    for exam_index, exam_row in user_exams_sorted.iterrows():\n",
    "        feats = compute_all_features_for_exam_no_time(exam_row, user_activities, user_exams_sorted, rolling_window_days)\n",
    "        feats['exam_index'] = exam_index\n",
    "        features_list.append(feats)\n",
    "\n",
    "# Output df\n",
    "features_df = pd.DataFrame(features_list).set_index('exam_index')\n",
    "performances_math_features = performances_math.join(features_df, how='left')\n",
    "\n",
    "\n",
    "# scaling the columns\n",
    "columns_to_scale = [ 'days_since_last_activity','average_performance_past_exams','avg_activities_per_day_recent','active_days_ratio_recent','diversity_recent']\n",
    "\n",
    "\n",
    "scaler = StandardScaler()\n",
    "scaled_values = scaler.fit_transform(performances_math_features[columns_to_scale])\n",
    "scaled_df = pd.DataFrame(scaled_values, columns=columns_to_scale, index=performances_math_features.index)\n",
    "remaining_df = performances_math_features.drop(columns=columns_to_scale)\n",
    "final_df = pd.concat([scaled_df, remaining_df], axis=1)"
   ]
  },
  {
   "cell_type": "code",
   "execution_count": 31,
   "metadata": {},
   "outputs": [
    {
     "name": "stdout",
     "output_type": "stream",
     "text": [
      "                            OLS Regression Results                            \n",
      "==============================================================================\n",
      "Dep. Variable:            performance   R-squared:                       0.259\n",
      "Model:                            OLS   Adj. R-squared:                  0.258\n",
      "Method:                 Least Squares   F-statistic:                     233.1\n",
      "Date:                Fri, 25 Apr 2025   Prob (F-statistic):          5.80e-214\n",
      "Time:                        15:59:23   Log-Likelihood:                -15444.\n",
      "No. Observations:                3341   AIC:                         3.090e+04\n",
      "Df Residuals:                    3335   BIC:                         3.094e+04\n",
      "Df Model:                           5                                         \n",
      "Covariance Type:            nonrobust                                         \n",
      "==================================================================================================\n",
      "                                     coef    std err          t      P>|t|      [0.025      0.975]\n",
      "--------------------------------------------------------------------------------------------------\n",
      "Intercept                          0.3074      0.428      0.719      0.472      -0.531       1.146\n",
      "days_since_last_activity           1.4564      0.544      2.677      0.007       0.390       2.523\n",
      "average_performance_past_exams    14.0834      0.439     32.099      0.000      13.223      14.944\n",
      "avg_activities_per_day_recent     -1.6276      0.534     -3.045      0.002      -2.675      -0.580\n",
      "active_days_ratio_recent           1.4006      0.554      2.527      0.012       0.314       2.487\n",
      "diversity_recent                   0.5440      0.603      0.902      0.367      -0.639       1.727\n",
      "==============================================================================\n",
      "Omnibus:                       26.139   Durbin-Watson:                   1.660\n",
      "Prob(Omnibus):                  0.000   Jarque-Bera (JB):               18.000\n",
      "Skew:                          -0.031   Prob(JB):                     0.000123\n",
      "Kurtosis:                       2.646   Cond. No.                         2.61\n",
      "==============================================================================\n",
      "\n",
      "Notes:\n",
      "[1] Standard Errors assume that the covariance matrix of the errors is correctly specified.\n"
     ]
    }
   ],
   "source": [
    "# Linear Regression Model\n",
    "mod_annexe = smf.ols(\n",
    "    formula='performance ~  days_since_last_activity + average_performance_past_exams + avg_activities_per_day_recent + active_days_ratio_recent + diversity_recent',\n",
    "    data=final_df)\n",
    "\n",
    "# Fit the model\n",
    "res_annexe = mod_annexe.fit()\n",
    "\n",
    "# Print regression results summary\n",
    "print(res_annexe.summary())"
   ]
  }
 ],
 "metadata": {
  "colab": {
   "collapsed_sections": [],
   "name": "m2-classtime-sciper.ipynb",
   "provenance": []
  },
  "kernelspec": {
   "display_name": "Python 3 (ipykernel)",
   "language": "python",
   "name": "python3"
  },
  "language_info": {
   "codemirror_mode": {
    "name": "ipython",
    "version": 3
   },
   "file_extension": ".py",
   "mimetype": "text/x-python",
   "name": "python",
   "nbconvert_exporter": "python",
   "pygments_lexer": "ipython3",
   "version": "3.13.2"
  }
 },
 "nbformat": 4,
 "nbformat_minor": 5
}
