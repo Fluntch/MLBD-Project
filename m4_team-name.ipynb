{
 "cells": [
  {
   "attachments": {},
   "cell_type": "markdown",
   "id": "8af48ca1-b6d1-4092-b7b5-037d3c2d7aef",
   "metadata": {
    "id": "8af48ca1-b6d1-4092-b7b5-037d3c2d7aef"
   },
   "source": [
    "# M4 | Research Investigation Notebook\n",
    "\n",
    "In this notebook, you will do a research investigation of your chosen dataset in teams. You will begin by formally selecting your research question (task 0), then processing your data (task 1), creating a predictive model (task 2), evaluating your model's results (task 3), and describing the contributions of each team member (task 4).\n",
    "\n",
    "For grading, please make sure your notebook has all cells already run. You will also need to write a short, 2 page report about your design decisions as a team, to be uploaded to Moodle in the form of a PDF file next to this Jupyter notebook.\n",
    "\n",
    "You should provide arguments and justifications for all of your design decisions throughout this investigation. You can use your M3 responses as the basis for this discussion."
   ]
  },
  {
   "cell_type": "code",
   "execution_count": 1,
   "id": "82ea2d32-f0a9-4dc9-bb60-be43399f5b89",
   "metadata": {
    "id": "82ea2d32-f0a9-4dc9-bb60-be43399f5b89"
   },
   "outputs": [],
   "source": [
    "# Import the tables of the data set as dataframes.\n",
    "import numpy as np\n",
    "import pandas as pd\n",
    "import matplotlib.pyplot as plt\n",
    "\n",
    "from sklearn.preprocessing import StandardScaler\n",
    "import statsmodels.formula.api as smf\n",
    "\n",
    "DATA_DIR = './data' # You many change the directory\n",
    "\n",
    "# Your code goes here"
   ]
  },
  {
   "cell_type": "code",
   "execution_count": null,
   "metadata": {},
   "outputs": [],
   "source": []
  },
  {
   "cell_type": "code",
   "execution_count": null,
   "metadata": {},
   "outputs": [],
   "source": []
  },
  {
   "cell_type": "code",
   "execution_count": null,
   "metadata": {},
   "outputs": [],
   "source": []
  },
  {
   "cell_type": "markdown",
   "id": "89137355",
   "metadata": {},
   "source": [
    "## Task 0: Research Question"
   ]
  },
  {
   "cell_type": "markdown",
   "id": "31dafc5b",
   "metadata": {},
   "source": [
    "**Research question:**\n",
    "\n",
    "*Predict users performance based on their activity behaviour*"
   ]
  },
  {
   "cell_type": "code",
   "execution_count": null,
   "metadata": {},
   "outputs": [],
   "source": []
  },
  {
   "cell_type": "code",
   "execution_count": null,
   "metadata": {},
   "outputs": [],
   "source": []
  },
  {
   "cell_type": "code",
   "execution_count": null,
   "metadata": {},
   "outputs": [],
   "source": []
  },
  {
   "cell_type": "markdown",
   "id": "a77f62b0-1945-48f1-8f22-5f6ebda1db8e",
   "metadata": {
    "id": "a77f62b0-1945-48f1-8f22-5f6ebda1db8e"
   },
   "source": [
    "## Task 1: Data Preprocessing\n",
    "\n",
    "In this section, you are asked to preprocess your data in a way that is relevant for the model. Please include 1-2 visualizations of features / data explorations that are related to your downstream prediction task."
   ]
  },
  {
   "cell_type": "code",
   "execution_count": 2,
   "id": "34cefd0d-4f8a-4227-8fb4-f30521abf78d",
   "metadata": {
    "id": "34cefd0d-4f8a-4227-8fb4-f30521abf78d"
   },
   "outputs": [],
   "source": [
    "# Your code for data processing goes here\n",
    "\n",
    "### Here call your scripts for preprocessing, also explain the preprocessing steps that you did in general + data loss + graphs \n",
    "\n",
    "activity = pd.read_csv('{}/features/activity.csv'.format(DATA_DIR))\n",
    "performances = pd.read_csv('{}/features/performances.csv'.format(DATA_DIR))"
   ]
  },
  {
   "cell_type": "markdown",
   "metadata": {},
   "source": [
    "Unfortunately, many of the data points are not useable as our method relies on looking at the behaviour of the students and therefore the time spent on activities is important to us. In the following graph we can see the ammount of activity data that is of length 0 :"
   ]
  },
  {
   "cell_type": "code",
   "execution_count": 3,
   "metadata": {},
   "outputs": [
    {
     "data": {
      "image/png": "[encoded data removed]",
      "text/plain": [
       "<Figure size 800x500 with 1 Axes>"
      ]
     },
     "metadata": {},
     "output_type": "display_data"
    }
   ],
   "source": [
    "total = activity.groupby('domain')['user_id'].count()\n",
    "unuseable = activity[activity['activity_completed'].isna()]\n",
    "unuseable_count = unuseable.groupby('domain')['user_id'].count()\n",
    "\n",
    "domains = sorted(set(total.index).union(set(unuseable_count.index)))\n",
    "total = total.reindex(domains, fill_value=0)\n",
    "unuseable_count = unuseable_count.reindex(domains, fill_value=0)\n",
    "\n",
    "x = np.arange(len(domains))\n",
    "width = 0.35\n",
    "\n",
    "plt.figure(figsize=(8, 5))\n",
    "plt.bar(x - width/2, total, width, label='Total')\n",
    "plt.bar(x + width/2, unuseable_count, width, label='Unusable')\n",
    "\n",
    "plt.ylabel('Number of Users')\n",
    "plt.xlabel('Domain')\n",
    "plt.title('Total vs Unusable Activity by Domain')\n",
    "plt.xticks(x, domains, rotation=45)\n",
    "plt.legend()\n",
    "plt.tight_layout()\n",
    "plt.show()\n"
   ]
  },
  {
   "cell_type": "code",
   "execution_count": 4,
   "metadata": {},
   "outputs": [
    {
     "name": "stdout",
     "output_type": "stream",
     "text": [
      "By deleting these colums, we lose 56.67 % of the initial data ...\n"
     ]
    }
   ],
   "source": [
    "print(f'By deleting these colums, we lose {(unuseable_count.sum()/total.sum() * 100).round(2)} % of the initial data ...')"
   ]
  },
  {
   "cell_type": "markdown",
   "metadata": {},
   "source": [
    "### Feature engineering \n",
    "\n",
    "**Our aim is to predict a user's score on their first attempt at a specific exam, based on their behavior leading up to it. To train our model, we engineered the following features to capture and characterize user behavior:**\n",
    "\n",
    "- recent_avg_time_per_activity\n",
    "\n",
    "*The average time (in minutes) spent per activity during the last 10 days before the exam, including the exam day. This reflects how intensely the user has been engaging recently.*\n",
    "\n",
    "- days_since_last_activity\n",
    "\n",
    "*The number of days between the user's most recent activity and the exam. A higher value may indicate a longer gap in studying before the exam.*\n",
    "\n",
    "- total_time_spent_on_activity_before_exam\n",
    "\n",
    "*The total amount of time (in minutes) the user spent on activities prior to the exam. This gives a sense of overall study investment leading up to the test.*\n",
    "\n",
    "- average_percentage_past_exams\n",
    "\n",
    "*The mean score percentage from the user's previous exams (before this one). This can provide a rough estimate of the user's historical performance.*\n",
    "\n",
    "- avg_activities_per_day_recent\n",
    "\n",
    "*The average number of activities completed per day in the 10-day rolling window. A higher number may suggest more consistent or intense preparation.*\n",
    "\n",
    "- active_days_ratio_recent\n",
    "\n",
    "*The proportion of days (out of 10) on which the user was active. This indicates how regularly they studied leading up to the exam.*\n",
    "\n",
    "- diversity_recent\n",
    "\n",
    "*The number of unique activity types completed in the rolling window. Higher diversity could reflect more varied engagement with different learning methods or content types.*\n"
   ]
  },
  {
   "cell_type": "code",
   "execution_count": 5,
   "metadata": {},
   "outputs": [],
   "source": [
    "# Rolling window for recent activity\n",
    "rolling_window_days = 10\n",
    "\n",
    "\n",
    "def compute_all_features_for_exam(exam_row, user_activities, user_exams, window_days=rolling_window_days):\n",
    "\n",
    "    exam_dt = exam_row['time']\n",
    "\n",
    "\n",
    "    # Include activities up to and including exam_date\n",
    "    previous_activities = user_activities[user_activities['activity_updated'] < exam_dt].copy()\n",
    "\n",
    "\n",
    "\n",
    "    # Rolling window (activities in the last N days, including exam day)\n",
    "    window_start = exam_dt - pd.Timedelta(days=window_days)\n",
    "    rolling_activities = previous_activities[previous_activities['activity_updated'] >= window_start].copy()\n",
    "\n",
    "    features = {}\n",
    "\n",
    "\n",
    "    # Recent average time per activity (rolling window)\n",
    "    total_time_rolling = rolling_activities['time_in_minutes'].sum()\n",
    "    count_rolling = len(rolling_activities)\n",
    "    features['recent_avg_time_per_activity'] = total_time_rolling / count_rolling if count_rolling > 0 else 0\n",
    "\n",
    "\n",
    "    # Number of days since last activity\n",
    "    if not previous_activities.empty:\n",
    "        last_activity_date = previous_activities['activity_updated'].max()\n",
    "        features['days_since_last_activity'] = (exam_dt - last_activity_date).days\n",
    "    else:\n",
    "        features['days_since_last_activity'] = np.nan\n",
    "\n",
    "\n",
    "    # Total time spent on activities before the exam\n",
    "    features['total_time_spent_on_activity_before_exam'] = previous_activities['time_in_minutes'].sum() if not previous_activities.empty else 0\n",
    "\n",
    "\n",
    "    # Average percentage on past exams\n",
    "    previous_exams = user_exams[user_exams['time'] < exam_dt]\n",
    "    features['average_percentage_past_exams'] = previous_exams['percentage'].mean() if not previous_exams.empty else np.nan ###### HERE WE NEED TO FIX\n",
    "\n",
    "\n",
    "    # Usage Frequency: Average activities per day in rolling window & Active days ratio\n",
    "    features['avg_activities_per_day_recent'] = count_rolling / window_days if window_days > 0 else np.nan\n",
    "    if not rolling_activities.empty:\n",
    "        distinct_days = rolling_activities['activity_updated'].dt.normalize().nunique()\n",
    "    else:\n",
    "        distinct_days = 0\n",
    "    features['active_days_ratio_recent'] = distinct_days / window_days if window_days > 0 else np.nan\n",
    "\n",
    "\n",
    "    # Activity diversity (rolling window)\n",
    "    features['diversity_recent'] = rolling_activities['activity_type'].nunique() if not rolling_activities.empty else 0\n",
    "\n",
    "\n",
    "    return pd.Series(features)\n"
   ]
  },
  {
   "cell_type": "markdown",
   "metadata": {},
   "source": [
    "**All features are calculated separately within each domain — Math, Text, and Essay — to capture domain-specific learning patterns and engagement.**\n",
    "\n",
    "We have also scaled the features using a standard because we assume a normal distribution"
   ]
  },
  {
   "cell_type": "code",
   "execution_count": 6,
   "metadata": {},
   "outputs": [],
   "source": [
    "scaler = StandardScaler()\n",
    "columns_to_scale = ['recent_avg_time_per_activity', 'days_since_last_activity', 'total_time_spent_on_activity_before_exam','average_percentage_past_exams','avg_activities_per_day_recent','diversity_recent']"
   ]
  },
  {
   "cell_type": "markdown",
   "metadata": {},
   "source": [
    "#### Math data "
   ]
  },
  {
   "cell_type": "code",
   "execution_count": 7,
   "metadata": {},
   "outputs": [],
   "source": [
    "performances_math = performances[performances['domain']== 'math'].copy()\n",
    "activity_math = activity[activity['domain']== 'math'].copy()\n",
    "\n",
    "# Convert the 'date' columns to datetime\n",
    "activity_math['activity_updated'] = pd.to_datetime(activity_math['activity_updated'])\n",
    "performances_math['time'] = pd.to_datetime(performances_math['time'])\n",
    "\n",
    "# Loop over each exam (grouped by user) in performances_math and compute all features.\n",
    "features_list = []\n",
    "\n",
    "for user_id, user_exams in performances_math.groupby('user_id'):\n",
    "    # Get corresponding activities for the user from activity_math and sort by date\n",
    "    user_activities = activity_math[activity_math['user_id'] == user_id].sort_values('activity_updated')\n",
    "    user_exams_sorted = user_exams.sort_values('time')\n",
    "\n",
    "    for exam_index, exam_row in user_exams_sorted.iterrows():\n",
    "        feats = compute_all_features_for_exam(exam_row, user_activities, user_exams_sorted, rolling_window_days)\n",
    "        feats['exam_index'] = exam_index\n",
    "        features_list.append(feats)\n",
    "\n",
    "# Output df\n",
    "features_df = pd.DataFrame(features_list).set_index('exam_index')\n",
    "performances_math_features = performances_math.join(features_df, how='left')\n",
    "\n",
    "\n",
    "# scaling the columns\n",
    "scaled_values = scaler.fit_transform(performances_math_features[columns_to_scale])\n",
    "scaled_df = pd.DataFrame(scaled_values, columns=columns_to_scale, index=performances_math_features.index)\n",
    "remaining_df = performances_math_features.drop(columns=columns_to_scale)\n",
    "final_df_math = pd.concat([scaled_df, remaining_df], axis=1)"
   ]
  },
  {
   "cell_type": "code",
   "execution_count": 8,
   "metadata": {},
   "outputs": [
    {
     "data": {
      "text/plain": [
       "recent_avg_time_per_activity                  0\n",
       "days_since_last_activity                      5\n",
       "total_time_spent_on_activity_before_exam      0\n",
       "average_percentage_past_exams               469\n",
       "avg_activities_per_day_recent                 0\n",
       "diversity_recent                              0\n",
       "user_id                                       0\n",
       "domain                                        0\n",
       "test_id                                       0\n",
       "course                                        0\n",
       "date                                          0\n",
       "time                                          0\n",
       "percentage                                    0\n",
       "performance                                   0\n",
       "active_days_ratio_recent                      0\n",
       "dtype: int64"
      ]
     },
     "execution_count": 8,
     "metadata": {},
     "output_type": "execute_result"
    }
   ],
   "source": [
    "final_df_math.isnull().sum()"
   ]
  },
  {
   "cell_type": "code",
   "execution_count": 9,
   "metadata": {},
   "outputs": [
    {
     "name": "stdout",
     "output_type": "stream",
     "text": [
      "Total Nb of rows : 3810\n",
      "Nb of rows where we are missing feature values : 469\n"
     ]
    }
   ],
   "source": [
    "print('Total Nb of rows :', final_df_math.user_id.count())\n",
    "print('Nb of rows where we are missing feature values :', final_df_math.isna().any(axis=1).sum())\n",
    "final_df_math.dropna(inplace=True)"
   ]
  },
  {
   "cell_type": "markdown",
   "metadata": {},
   "source": [
    "#### Essay data"
   ]
  },
  {
   "cell_type": "code",
   "execution_count": 10,
   "metadata": {},
   "outputs": [],
   "source": [
    "performances_essay = performances[performances['domain']== 'essay'].copy()\n",
    "activity_essay= activity[activity['domain']== 'essay'].copy()\n",
    "\n",
    "# Convert the date columns  to datetime\n",
    "activity_essay['activity_updated'] = pd.to_datetime(activity_essay['activity_updated'])\n",
    "performances_essay['time'] = pd.to_datetime(performances_essay['time'])\n",
    "\n",
    "# Loop over each exam (grouped by user) in performances_essay and compute all features.\n",
    "features_list = []\n",
    "\n",
    "for user_id, user_exams in performances_essay.groupby('user_id'):\n",
    "    # Get corresponding activities for the user from activity_essay and sort by date\n",
    "    user_activities = activity_essay[activity_essay['user_id'] == user_id].sort_values('date')\n",
    "    user_exams_sorted = user_exams.sort_values('date')\n",
    "\n",
    "    for exam_index, exam_row in user_exams_sorted.iterrows():\n",
    "        feats = compute_all_features_for_exam(exam_row, user_activities, user_exams_sorted, rolling_window_days)\n",
    "        feats['exam_index'] = exam_index\n",
    "        features_list.append(feats)\n",
    "\n",
    "# Output df\n",
    "features_df = pd.DataFrame(features_list).set_index('exam_index')\n",
    "performances_essay_features = performances_essay.join(features_df, how='left')\n",
    "\n",
    "\n",
    "# scaling the columns\n",
    "scaled_values = scaler.fit_transform(performances_essay_features[columns_to_scale])\n",
    "scaled_df = pd.DataFrame(scaled_values, columns=columns_to_scale, index=performances_essay_features.index)\n",
    "remaining_df = performances_essay_features.drop(columns=columns_to_scale)\n",
    "final_df_essay = pd.concat([scaled_df, remaining_df], axis=1)"
   ]
  },
  {
   "cell_type": "code",
   "execution_count": 11,
   "metadata": {},
   "outputs": [
    {
     "data": {
      "text/plain": [
       "recent_avg_time_per_activity                  0\n",
       "days_since_last_activity                     47\n",
       "total_time_spent_on_activity_before_exam      0\n",
       "average_percentage_past_exams               308\n",
       "avg_activities_per_day_recent                 0\n",
       "diversity_recent                              0\n",
       "user_id                                       0\n",
       "domain                                        0\n",
       "test_id                                       0\n",
       "course                                        0\n",
       "date                                          0\n",
       "time                                          0\n",
       "percentage                                    0\n",
       "performance                                   0\n",
       "active_days_ratio_recent                      0\n",
       "dtype: int64"
      ]
     },
     "execution_count": 11,
     "metadata": {},
     "output_type": "execute_result"
    }
   ],
   "source": [
    "final_df_essay.isnull().sum()"
   ]
  },
  {
   "cell_type": "code",
   "execution_count": 12,
   "metadata": {},
   "outputs": [
    {
     "name": "stdout",
     "output_type": "stream",
     "text": [
      "Total Nb of rows : 581\n",
      "Nb of rows where we are missing feature values : 331\n"
     ]
    }
   ],
   "source": [
    "print('Total Nb of rows :', final_df_essay.user_id.count())\n",
    "print('Nb of rows where we are missing feature values :', final_df_essay.isna().any(axis=1).sum())\n",
    "final_df_essay.dropna(inplace=True)"
   ]
  },
  {
   "cell_type": "markdown",
   "metadata": {},
   "source": [
    "#### Text data "
   ]
  },
  {
   "cell_type": "code",
   "execution_count": 13,
   "metadata": {},
   "outputs": [],
   "source": [
    "performances_text = performances[performances['domain']== 'text'].copy()\n",
    "activity_text= activity[activity['domain']== 'text'].copy()\n",
    "\n",
    "# Convert the date columns to datetime\n",
    "activity_text['activity_updated'] = pd.to_datetime(activity_text['activity_updated'])\n",
    "performances_text['time'] = pd.to_datetime(performances_text['time'])\n",
    "\n",
    "# Loop over each exam (grouped by user) in performances_text and compute all features.\n",
    "features_list = []\n",
    "\n",
    "for user_id, user_exams in performances_text.groupby('user_id'):\n",
    "    # Get corresponding activities for the user from activity_text and sort by date\n",
    "    user_activities = activity_text[activity_text['user_id'] == user_id].sort_values('date')\n",
    "    user_exams_sorted = user_exams.sort_values('date')\n",
    "\n",
    "    for exam_index, exam_row in user_exams_sorted.iterrows():\n",
    "        feats = compute_all_features_for_exam(exam_row, user_activities, user_exams_sorted, rolling_window_days)\n",
    "        feats['exam_index'] = exam_index\n",
    "        features_list.append(feats)\n",
    "\n",
    "# Output df\n",
    "features_df = pd.DataFrame(features_list).set_index('exam_index')\n",
    "performances_text_features = performances_text.join(features_df, how='left')\n",
    "\n",
    "\n",
    "# Scale the columns\n",
    "scaled_values = scaler.fit_transform(performances_text_features[columns_to_scale])\n",
    "scaled_df = pd.DataFrame(scaled_values, columns=columns_to_scale, index=performances_text_features.index)\n",
    "remaining_df = performances_text_features.drop(columns=columns_to_scale)\n",
    "final_df_text = pd.concat([scaled_df, remaining_df], axis=1)"
   ]
  },
  {
   "cell_type": "code",
   "execution_count": 14,
   "metadata": {},
   "outputs": [
    {
     "data": {
      "text/plain": [
       "recent_avg_time_per_activity                  0\n",
       "days_since_last_activity                     32\n",
       "total_time_spent_on_activity_before_exam      0\n",
       "average_percentage_past_exams               122\n",
       "avg_activities_per_day_recent                 0\n",
       "diversity_recent                              0\n",
       "user_id                                       0\n",
       "domain                                        0\n",
       "test_id                                       0\n",
       "course                                        0\n",
       "date                                          0\n",
       "time                                          0\n",
       "percentage                                    0\n",
       "performance                                   0\n",
       "active_days_ratio_recent                      0\n",
       "dtype: int64"
      ]
     },
     "execution_count": 14,
     "metadata": {},
     "output_type": "execute_result"
    }
   ],
   "source": [
    "final_df_text.isnull().sum()"
   ]
  },
  {
   "cell_type": "code",
   "execution_count": 15,
   "metadata": {},
   "outputs": [
    {
     "name": "stdout",
     "output_type": "stream",
     "text": [
      "Total Nb of rows : 445\n",
      "Nb of rows where we are missing feature values : 141\n"
     ]
    }
   ],
   "source": [
    "print('Total Nb of rows :', final_df_text.user_id.count())\n",
    "print('Nb of rows where we are missing feature values :', final_df_text.isna().any(axis=1).sum())\n",
    "\n",
    "final_df_text.dropna(inplace=True)"
   ]
  },
  {
   "cell_type": "markdown",
   "id": "76d0fcca-686e-47a3-8567-c3f92db187d4",
   "metadata": {
    "id": "76d0fcca-686e-47a3-8567-c3f92db187d4"
   },
   "source": [
    "*Your discussion about your processing decisions goes here*"
   ]
  },
  {
   "cell_type": "code",
   "execution_count": null,
   "metadata": {},
   "outputs": [],
   "source": []
  },
  {
   "cell_type": "code",
   "execution_count": null,
   "metadata": {},
   "outputs": [],
   "source": []
  },
  {
   "cell_type": "code",
   "execution_count": null,
   "metadata": {},
   "outputs": [],
   "source": []
  },
  {
   "cell_type": "markdown",
   "id": "85633adb-d317-4ee3-bf06-e9f82f589c41",
   "metadata": {
    "id": "85633adb-d317-4ee3-bf06-e9f82f589c41"
   },
   "source": [
    "## Task 2: Model Building\n",
    "\n",
    "Train a model for your research question. "
   ]
  },
  {
   "cell_type": "code",
   "execution_count": 16,
   "id": "90b65ebd-c148-4ae8-833e-018411eeda86",
   "metadata": {
    "id": "90b65ebd-c148-4ae8-833e-018411eeda86"
   },
   "outputs": [
    {
     "name": "stdout",
     "output_type": "stream",
     "text": [
      "                            OLS Regression Results                            \n",
      "==============================================================================\n",
      "Dep. Variable:            performance   R-squared:                       0.232\n",
      "Model:                            OLS   Adj. R-squared:                  0.230\n",
      "Method:                 Least Squares   F-statistic:                     167.5\n",
      "Date:                Thu, 17 Apr 2025   Prob (F-statistic):          1.21e-186\n",
      "Time:                        16:34:52   Log-Likelihood:                -15505.\n",
      "No. Observations:                3341   AIC:                         3.102e+04\n",
      "Df Residuals:                    3334   BIC:                         3.107e+04\n",
      "Df Model:                           6                                         \n",
      "Covariance Type:            nonrobust                                         \n",
      "============================================================================================================\n",
      "                                               coef    std err          t      P>|t|      [0.025      0.975]\n",
      "------------------------------------------------------------------------------------------------------------\n",
      "Intercept                                   -0.0637      0.438     -0.145      0.884      -0.922       0.795\n",
      "recent_avg_time_per_activity                 2.0140      0.451      4.461      0.000       1.129       2.899\n",
      "days_since_last_activity                     1.7984      0.558      3.223      0.001       0.704       2.892\n",
      "total_time_spent_on_activity_before_exam     2.9437      0.461      6.386      0.000       2.040       3.847\n",
      "average_percentage_past_exams               11.7504      0.458     25.651      0.000      10.852      12.649\n",
      "avg_activities_per_day_recent               -1.7480      0.508     -3.440      0.001      -2.744      -0.752\n",
      "diversity_recent                             1.7346      0.601      2.884      0.004       0.555       2.914\n",
      "==============================================================================\n",
      "Omnibus:                       32.143   Durbin-Watson:                   1.581\n",
      "Prob(Omnibus):                  0.000   Jarque-Bera (JB):               22.470\n",
      "Skew:                          -0.076   Prob(JB):                     1.32e-05\n",
      "Kurtosis:                       2.628   Cond. No.                         2.32\n",
      "==============================================================================\n",
      "\n",
      "Notes:\n",
      "[1] Standard Errors assume that the covariance matrix of the errors is correctly specified.\n"
     ]
    }
   ],
   "source": [
    "# Your code for training a model goes here\n",
    "\n",
    "# Linear Regression Model\n",
    "mod_math = smf.ols(formula='performance ~  recent_avg_time_per_activity + days_since_last_activity + total_time_spent_on_activity_before_exam + average_percentage_past_exams + avg_activities_per_day_recent + diversity_recent', data=final_df_math)\n",
    "# Fit the model\n",
    "res_math = mod_math.fit()\n",
    "# Print regression results summary\n",
    "print(res_math.summary())"
   ]
  },
  {
   "cell_type": "code",
   "execution_count": 17,
   "metadata": {},
   "outputs": [
    {
     "name": "stdout",
     "output_type": "stream",
     "text": [
      "                            OLS Regression Results                            \n",
      "==============================================================================\n",
      "Dep. Variable:            performance   R-squared:                       0.136\n",
      "Model:                            OLS   Adj. R-squared:                  0.114\n",
      "Method:                 Least Squares   F-statistic:                     6.364\n",
      "Date:                Thu, 17 Apr 2025   Prob (F-statistic):           3.08e-06\n",
      "Time:                        16:34:52   Log-Likelihood:                -996.09\n",
      "No. Observations:                 250   AIC:                             2006.\n",
      "Df Residuals:                     243   BIC:                             2031.\n",
      "Df Model:                           6                                         \n",
      "Covariance Type:            nonrobust                                         \n",
      "============================================================================================================\n",
      "                                               coef    std err          t      P>|t|      [0.025      0.975]\n",
      "------------------------------------------------------------------------------------------------------------\n",
      "Intercept                                    1.4207      0.873      1.628      0.105      -0.299       3.140\n",
      "recent_avg_time_per_activity                 1.8502      0.800      2.313      0.022       0.275       3.426\n",
      "days_since_last_activity                    -1.2301      0.801     -1.536      0.126      -2.807       0.347\n",
      "total_time_spent_on_activity_before_exam    -1.0876      0.851     -1.278      0.202      -2.764       0.589\n",
      "average_percentage_past_exams                4.5568      0.924      4.930      0.000       2.736       6.377\n",
      "avg_activities_per_day_recent                1.0545      1.821      0.579      0.563      -2.533       4.642\n",
      "diversity_recent                            -3.8413      1.812     -2.120      0.035      -7.411      -0.272\n",
      "==============================================================================\n",
      "Omnibus:                       55.513   Durbin-Watson:                   1.918\n",
      "Prob(Omnibus):                  0.000   Jarque-Bera (JB):              130.162\n",
      "Skew:                          -1.038   Prob(JB):                     5.44e-29\n",
      "Kurtosis:                       5.861   Cond. No.                         4.46\n",
      "==============================================================================\n",
      "\n",
      "Notes:\n",
      "[1] Standard Errors assume that the covariance matrix of the errors is correctly specified.\n"
     ]
    }
   ],
   "source": [
    "# Linear Regression Model\n",
    "mod_essay = smf.ols(formula='performance ~  recent_avg_time_per_activity + days_since_last_activity + total_time_spent_on_activity_before_exam + average_percentage_past_exams + avg_activities_per_day_recent + diversity_recent', data=final_df_essay)\n",
    "# Fit the model\n",
    "res_essay = mod_essay.fit()\n",
    "# Print regression results summary\n",
    "print(res_essay.summary())"
   ]
  },
  {
   "cell_type": "code",
   "execution_count": 18,
   "metadata": {},
   "outputs": [
    {
     "name": "stdout",
     "output_type": "stream",
     "text": [
      "                            OLS Regression Results                            \n",
      "==============================================================================\n",
      "Dep. Variable:            performance   R-squared:                       0.057\n",
      "Model:                            OLS   Adj. R-squared:                  0.038\n",
      "Method:                 Least Squares   F-statistic:                     2.997\n",
      "Date:                Thu, 17 Apr 2025   Prob (F-statistic):            0.00739\n",
      "Time:                        16:34:52   Log-Likelihood:                -1209.3\n",
      "No. Observations:                 304   AIC:                             2433.\n",
      "Df Residuals:                     297   BIC:                             2459.\n",
      "Df Model:                           6                                         \n",
      "Covariance Type:            nonrobust                                         \n",
      "============================================================================================================\n",
      "                                               coef    std err          t      P>|t|      [0.025      0.975]\n",
      "------------------------------------------------------------------------------------------------------------\n",
      "Intercept                                    0.2971      0.756      0.393      0.695      -1.191       1.786\n",
      "recent_avg_time_per_activity                 0.1538      0.838      0.183      0.855      -1.496       1.804\n",
      "days_since_last_activity                    -1.3609      0.923     -1.474      0.142      -3.178       0.456\n",
      "total_time_spent_on_activity_before_exam    -0.3610      0.827     -0.437      0.663      -1.988       1.266\n",
      "average_percentage_past_exams                3.1168      0.773      4.030      0.000       1.595       4.639\n",
      "avg_activities_per_day_recent                0.3503      1.080      0.324      0.746      -1.775       2.475\n",
      "diversity_recent                            -1.2145      1.332     -0.912      0.363      -3.836       1.407\n",
      "==============================================================================\n",
      "Omnibus:                       15.839   Durbin-Watson:                   1.541\n",
      "Prob(Omnibus):                  0.000   Jarque-Bera (JB):               41.231\n",
      "Skew:                           0.068   Prob(JB):                     1.11e-09\n",
      "Kurtosis:                       4.799   Cond. No.                         3.32\n",
      "==============================================================================\n",
      "\n",
      "Notes:\n",
      "[1] Standard Errors assume that the covariance matrix of the errors is correctly specified.\n"
     ]
    }
   ],
   "source": [
    "# Linear Regression Model\n",
    "mod_text = smf.ols(formula='performance ~  recent_avg_time_per_activity + days_since_last_activity + total_time_spent_on_activity_before_exam + average_percentage_past_exams + avg_activities_per_day_recent + diversity_recent', data=final_df_text)\n",
    "# Fit the model\n",
    "res_text = mod_text.fit()\n",
    "# Print regression results summary\n",
    "print(res_text.summary())"
   ]
  },
  {
   "cell_type": "markdown",
   "id": "cf1f7375",
   "metadata": {},
   "source": [
    "*Your discussion about your model training goes here*"
   ]
  },
  {
   "cell_type": "code",
   "execution_count": null,
   "metadata": {},
   "outputs": [],
   "source": []
  },
  {
   "cell_type": "code",
   "execution_count": null,
   "metadata": {},
   "outputs": [],
   "source": []
  },
  {
   "cell_type": "code",
   "execution_count": null,
   "metadata": {},
   "outputs": [],
   "source": []
  },
  {
   "cell_type": "markdown",
   "id": "b3c9a655-cec9-4c57-aec7-7a982f57a3af",
   "metadata": {
    "id": "b3c9a655-cec9-4c57-aec7-7a982f57a3af"
   },
   "source": [
    "## Task 3: Model Evaluation\n",
    "In this task, you will use metrics to evaluate your model."
   ]
  },
  {
   "cell_type": "code",
   "execution_count": 19,
   "id": "f65720b8",
   "metadata": {},
   "outputs": [],
   "source": [
    "# Your code for model evaluation goes here"
   ]
  },
  {
   "cell_type": "markdown",
   "id": "62968daa",
   "metadata": {},
   "source": [
    "*Your discussion/interpretation about your model's behavior goes here*"
   ]
  },
  {
   "cell_type": "code",
   "execution_count": null,
   "metadata": {},
   "outputs": [],
   "source": []
  },
  {
   "cell_type": "code",
   "execution_count": null,
   "metadata": {},
   "outputs": [],
   "source": []
  },
  {
   "cell_type": "code",
   "execution_count": null,
   "metadata": {},
   "outputs": [],
   "source": []
  },
  {
   "attachments": {},
   "cell_type": "markdown",
   "id": "e49d1dad",
   "metadata": {},
   "source": [
    "## Task 4: Team Reflection\n",
    "Please describe the contributions of each team member to Milestone 4. Reflect on how you worked as team: what went well, what can be improved for the next milestone?"
   ]
  },
  {
   "attachments": {},
   "cell_type": "markdown",
   "id": "cde86a72",
   "metadata": {},
   "source": [
    "*Your discussion about team responsibilities goes here*"
   ]
  }
 ],
 "metadata": {
  "colab": {
   "collapsed_sections": [],
   "name": "m2-classtime-sciper.ipynb",
   "provenance": []
  },
  "kernelspec": {
   "display_name": "Python 3 (ipykernel)",
   "language": "python",
   "name": "python3"
  },
  "language_info": {
   "codemirror_mode": {
    "name": "ipython",
    "version": 3
   },
   "file_extension": ".py",
   "mimetype": "text/x-python",
   "name": "python",
   "nbconvert_exporter": "python",
   "pygments_lexer": "ipython3",
   "version": "3.11.10"
  }
 },
 "nbformat": 4,
 "nbformat_minor": 5
}
