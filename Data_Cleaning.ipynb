{
 "cells": [
  {
   "cell_type": "code",
   "execution_count": 1,
   "metadata": {},
   "outputs": [],
   "source": [
    "import pandas as pd\n",
    "import numpy as np\n",
    "import seaborn as sns\n",
    "import matplotlib.pyplot as plt"
   ]
  },
  {
   "cell_type": "code",
   "execution_count": null,
   "metadata": {},
   "outputs": [],
   "source": []
  },
  {
   "cell_type": "code",
   "execution_count": null,
   "metadata": {},
   "outputs": [],
   "source": []
  },
  {
   "cell_type": "code",
   "execution_count": null,
   "metadata": {},
   "outputs": [],
   "source": []
  },
  {
   "cell_type": "markdown",
   "metadata": {},
   "source": [
    "# The data "
   ]
  },
  {
   "cell_type": "code",
   "execution_count": 2,
   "metadata": {},
   "outputs": [],
   "source": [
    "DATA_DIR = '/Users/fletchercollis/Desktop/Machine learning for behavioral data/PROJECT_GoGYMi/GoGymi' ### put your path here\n",
    "\n",
    "activity = pd.read_csv('{}/activity.csv'.format(DATA_DIR))\n",
    "\n",
    "\n",
    "students = pd.read_csv('{}/students.csv'.format(DATA_DIR))\n",
    "teachers = pd.read_csv('{}/teachers.csv'.format(DATA_DIR))\n",
    "\n",
    "\n",
    "gymitrainer = pd.read_csv('{}/gymitrainer.csv'.format(DATA_DIR))\n",
    "\n",
    "\n",
    "math_questions = pd.read_csv('{}/math_questions.csv'.format(DATA_DIR)) ### NOT USEFUL HERE YET SO NOT LOOKED AT OR CLEANED\n",
    "text_questions = pd.read_csv('{}/text_questions.csv'.format(DATA_DIR)) ### NOT USEFUL HERE YET SO NOT LOOKED AT OR CLEANED\n",
    "#texts = pd.read_csv('{}/texts.csv'.format(DATA_DIR)) ### NOT USEFUL HERE YET SO NOT LOOKED AT OR CLEANED\n",
    "\n",
    "\n",
    "math_results = pd.read_csv('{}/math_results.csv'.format(DATA_DIR))\n",
    "essay_results = pd.read_csv('{}/essay_results.csv'.format(DATA_DIR))\n",
    "text_results = pd.read_csv('{}/text_results.csv'.format(DATA_DIR))\n",
    "\n",
    "all_scores = pd.read_csv('{}/all_scores.csv'.format(DATA_DIR))"
   ]
  },
  {
   "cell_type": "code",
   "execution_count": 3,
   "metadata": {},
   "outputs": [
    {
     "data": {
      "text/plain": [
       "31816"
      ]
     },
     "execution_count": 3,
     "metadata": {},
     "output_type": "execute_result"
    }
   ],
   "source": [
    "activity['time_spent'] = (activity['activity_updated'] - activity['activity_started'])\n",
    "\n",
    "activity[activity['time_spent'] <= 0].shape[0]"
   ]
  },
  {
   "cell_type": "code",
   "execution_count": null,
   "metadata": {},
   "outputs": [],
   "source": []
  },
  {
   "cell_type": "code",
   "execution_count": null,
   "metadata": {},
   "outputs": [],
   "source": []
  },
  {
   "cell_type": "code",
   "execution_count": null,
   "metadata": {},
   "outputs": [],
   "source": []
  },
  {
   "cell_type": "markdown",
   "metadata": {},
   "source": [
    "# First, lets clean up the time in every dataframe to make it easier to manipulate!"
   ]
  },
  {
   "cell_type": "code",
   "execution_count": null,
   "metadata": {},
   "outputs": [],
   "source": [
    "activity['activity_started'] = pd.to_datetime(activity['activity_started'], unit='s')\n",
    "activity['activity_completed'] = pd.to_datetime(activity['activity_completed'], unit='s')\n",
    "activity['activity_updated'] = pd.to_datetime(activity['activity_updated'], unit='s')\n",
    "\n",
    "students['creation_time'] = pd.to_datetime(students['creation_time'], unit='s')\n",
    "teachers['creation_time'] = pd.to_datetime(teachers['creation_time'], unit='s')\n",
    "\n",
    "gymitrainer['start_time'] = pd.to_datetime(gymitrainer['startTime'], unit='s')\n",
    "gymitrainer['end_time'] = pd.to_datetime(gymitrainer['endTime'], unit='s')\n",
    "\n",
    "math_results['time'] = pd.to_datetime(math_results['time'], unit='s')\n",
    "essay_results['time'] = pd.to_datetime(essay_results['time'], unit='s')\n",
    "text_results['time'] = pd.to_datetime(text_results['time'], unit='s')\n",
    "\n",
    "all_scores['time'] = pd.to_datetime(all_scores['time'], unit='s')"
   ]
  },
  {
   "cell_type": "code",
   "execution_count": null,
   "metadata": {},
   "outputs": [],
   "source": []
  },
  {
   "cell_type": "code",
   "execution_count": null,
   "metadata": {},
   "outputs": [],
   "source": []
  },
  {
   "cell_type": "code",
   "execution_count": null,
   "metadata": {},
   "outputs": [],
   "source": []
  },
  {
   "cell_type": "markdown",
   "metadata": {},
   "source": [
    "# Cleaning the user data"
   ]
  },
  {
   "cell_type": "markdown",
   "metadata": {},
   "source": [
    "## activity dataframe "
   ]
  },
  {
   "cell_type": "code",
   "execution_count": null,
   "metadata": {},
   "outputs": [],
   "source": [
    "activity_og = activity.copy()"
   ]
  },
  {
   "cell_type": "markdown",
   "metadata": {},
   "source": [
    "### Lets look at missing or problematic data "
   ]
  },
  {
   "cell_type": "markdown",
   "metadata": {},
   "source": [
    "- First lets see if there are any missing or problematic values and also drop \"Unnamed: 0\" column since it is not usefeul"
   ]
  },
  {
   "cell_type": "code",
   "execution_count": null,
   "metadata": {},
   "outputs": [],
   "source": [
    "activity = activity.drop('Unnamed: 0', axis=1)  \n",
    "\n",
    "activity.isnull().sum().reset_index(name='Nb of NAN')"
   ]
  },
  {
   "cell_type": "markdown",
   "metadata": {},
   "source": [
    "- Only column where we have NAN and so we replace them with the last updated time and add a new column where 0 if uncompleted and 1 if completed\n",
    "\n",
    "In the activity dataset in the activity_completed column, 0 or missing value both mean that the activity was never completed which either occurs if it was abandoned, or if the activity does not record when it is completed which is the case for access and exams from course ids 3301 and 5447 (these are related to the essays).\n",
    "\n",
    "---> look into this "
   ]
  },
  {
   "cell_type": "code",
   "execution_count": null,
   "metadata": {},
   "outputs": [],
   "source": [
    "activity['Completed'] = activity['activity_completed'].notna().astype(int)\n",
    "\n",
    "## Quick check column is correct :\n",
    "print(activity_og.shape[0] - activity['Completed'].sum())"
   ]
  },
  {
   "cell_type": "code",
   "execution_count": null,
   "metadata": {},
   "outputs": [],
   "source": [
    "rows_where_updated_diff_from_completed_without_nan = activity[activity['activity_completed'] != activity['activity_updated']].shape[0] - (activity_og.shape[0] - activity['Completed'].sum())\n",
    "\n",
    "print(rows_where_updated_diff_from_completed_without_nan)\n",
    "\n",
    "### Updated time is the same as completed time except in 33933 cases when we take out the NAN this leaves : "
   ]
  },
  {
   "cell_type": "code",
   "execution_count": null,
   "metadata": {},
   "outputs": [],
   "source": [
    "activity.loc[:, 'activity_completed'] = activity['activity_completed'].fillna(activity['activity_updated'])  "
   ]
  },
  {
   "cell_type": "code",
   "execution_count": null,
   "metadata": {},
   "outputs": [],
   "source": [
    "activity.head()"
   ]
  },
  {
   "cell_type": "markdown",
   "metadata": {},
   "source": [
    "- Also we notice that some of the activity_completed column are from 1970-01-01 and so we replace them with the last updated time \n",
    "\n",
    "----> do we consider these completed or not? I consider them completed just that there was a bug"
   ]
  },
  {
   "cell_type": "code",
   "execution_count": null,
   "metadata": {},
   "outputs": [],
   "source": [
    "nb_of_unfeasible_dates = activity[activity['activity_completed'] < '2000-01-01'].shape[0]\n",
    "\n",
    "print(rows_where_updated_diff_from_completed_without_nan - nb_of_unfeasible_dates)\n",
    "\n",
    "### These also account for the majority of times the updated date is different from the completed one meaning we can assume updated = completed \n",
    "\n",
    "### (155 rows where this is not the case is negligeable for a dataset of 80000 rows)"
   ]
  },
  {
   "cell_type": "code",
   "execution_count": null,
   "metadata": {},
   "outputs": [],
   "source": [
    "activity.loc[activity['activity_completed'] < '2000-01-01', 'activity_completed'] = activity['activity_updated']"
   ]
  },
  {
   "cell_type": "markdown",
   "metadata": {},
   "source": [
    "### Lets check the time spent on various activities"
   ]
  },
  {
   "cell_type": "markdown",
   "metadata": {},
   "source": [
    "- Now we look at the time spent on activities"
   ]
  },
  {
   "cell_type": "code",
   "execution_count": null,
   "metadata": {},
   "outputs": [],
   "source": [
    "activity['time_spent'] = (activity['activity_updated'] - activity['activity_started']).dt.total_seconds()\n",
    "\n",
    "activity.shape[0]"
   ]
  },
  {
   "cell_type": "code",
   "execution_count": null,
   "metadata": {},
   "outputs": [],
   "source": [
    "activity['time_spent'].describe()"
   ]
  },
  {
   "cell_type": "code",
   "execution_count": null,
   "metadata": {},
   "outputs": [],
   "source": [
    "data = activity['time_spent'].copy()\n",
    "\n",
    "fig, axes = plt.subplots(1, 2, figsize=(9, 4)) \n",
    "\n",
    "\n",
    "axes[0].hist(data, bins=100, color='teal', edgecolor='black', alpha=0.7)\n",
    "axes[0].set_title('Histogram of Time Spent')\n",
    "axes[0].set_xlabel('Time Spent')\n",
    "axes[0].set_ylabel('Frequency')\n",
    "\n",
    "sns.boxplot(x=data, color='blue', ax=axes[1])\n",
    "axes[1].set_title('Box Plot of Time Spent')\n",
    "axes[1].set_xlabel('Time Spent (seconds)')\n",
    "\n",
    "plt.tight_layout()\n",
    "plt.show()"
   ]
  },
  {
   "cell_type": "code",
   "execution_count": null,
   "metadata": {},
   "outputs": [],
   "source": [
    "print('Nb of rows where the length of the activity is negative or zero:', activity[activity['time_spent'] < 0].shape[0])"
   ]
  },
  {
   "cell_type": "markdown",
   "metadata": {},
   "source": [
    "- Since there are few we decided to remove the problematic rows "
   ]
  },
  {
   "cell_type": "code",
   "execution_count": null,
   "metadata": {},
   "outputs": [],
   "source": [
    "activity = activity[activity['time_spent'] >= 0]"
   ]
  },
  {
   "cell_type": "markdown",
   "metadata": {},
   "source": [
    "- How much data did we lose?"
   ]
  },
  {
   "cell_type": "code",
   "execution_count": null,
   "metadata": {},
   "outputs": [],
   "source": [
    "activity_data_loss = activity.shape[0]/activity_og.shape[0]\n",
    "print('Percent of original data lost', 100 - activity_data_loss * 100)"
   ]
  },
  {
   "cell_type": "markdown",
   "metadata": {},
   "source": [
    "#### THIS IS ALOT SO MAYBE THINK ABOUT ALTERNATIVES?"
   ]
  },
  {
   "cell_type": "markdown",
   "metadata": {},
   "source": [
    "- Now lets look at the distribution of time spent on activities"
   ]
  },
  {
   "cell_type": "code",
   "execution_count": null,
   "metadata": {},
   "outputs": [],
   "source": [
    "data = activity['time_spent']\n",
    "\n",
    "plt.hist(data, bins=100, color='teal', edgecolor='black', alpha=0.7)\n",
    "plt.title('Histogram Example')\n",
    "plt.xlabel('time_spent Values')\n",
    "plt.ylabel('Frequency')\n",
    "plt.show()"
   ]
  },
  {
   "cell_type": "markdown",
   "metadata": {},
   "source": [
    "- There seems to be some outliers, so lets remove some activities that seem to be taking too long -----> NEED TO DECIDE WHAT TOO LONG IS "
   ]
  },
  {
   "cell_type": "code",
   "execution_count": null,
   "metadata": {},
   "outputs": [],
   "source": [
    "activity.groupby(by='activity_type')['time_spent'].describe()"
   ]
  },
  {
   "cell_type": "code",
   "execution_count": null,
   "metadata": {},
   "outputs": [],
   "source": [
    "quantiles = activity.groupby(by='activity_type')['time_spent'].quantile(0.95)\n",
    "\n",
    "activity = activity[activity.apply(lambda row: row['time_spent'] <= quantiles[row['activity_type']], axis=1)]"
   ]
  },
  {
   "cell_type": "markdown",
   "metadata": {},
   "source": [
    "- Now lets's see how much data deleted overall :"
   ]
  },
  {
   "cell_type": "code",
   "execution_count": null,
   "metadata": {},
   "outputs": [],
   "source": [
    "activity_data_loss = activity.shape[0]/activity_og.shape[0]\n",
    "print('Percent of data lost in total', 100 - activity_data_loss * 100)"
   ]
  },
  {
   "cell_type": "markdown",
   "metadata": {},
   "source": [
    "### Lets seperate the data out into Math, Text and Essay\n",
    "\n",
    "Difference between \"topic\", \"lesson\" and \"course\" in activity.csv: a course is the highest level on the site. There are 8 courses of which a user will normally do 3-4. Inside of those courses are lessons which then have topics under them.\n",
    "\n",
    "course ids 3301 and 5447 (these are related to the essays)"
   ]
  },
  {
   "cell_type": "code",
   "execution_count": null,
   "metadata": {},
   "outputs": [],
   "source": [
    "activity['course_id'].unique()"
   ]
  },
  {
   "cell_type": "code",
   "execution_count": null,
   "metadata": {},
   "outputs": [],
   "source": [
    "activity['course_id'].value_counts()"
   ]
  },
  {
   "cell_type": "code",
   "execution_count": null,
   "metadata": {},
   "outputs": [],
   "source": [
    "math_activity = ...\n",
    "essay_activity = ...\n",
    "text_activity = ..."
   ]
  },
  {
   "cell_type": "code",
   "execution_count": null,
   "metadata": {},
   "outputs": [],
   "source": []
  },
  {
   "cell_type": "code",
   "execution_count": null,
   "metadata": {},
   "outputs": [],
   "source": []
  },
  {
   "cell_type": "code",
   "execution_count": null,
   "metadata": {},
   "outputs": [],
   "source": []
  },
  {
   "cell_type": "markdown",
   "metadata": {},
   "source": [
    "## Cleaning the test data"
   ]
  },
  {
   "cell_type": "markdown",
   "metadata": {},
   "source": [
    "### all_scores datframe"
   ]
  },
  {
   "cell_type": "code",
   "execution_count": null,
   "metadata": {},
   "outputs": [],
   "source": [
    "all_scores_og = all_scores.copy()"
   ]
  },
  {
   "cell_type": "markdown",
   "metadata": {},
   "source": [
    "- First lets see if there are any missing or problematic values"
   ]
  },
  {
   "cell_type": "code",
   "execution_count": null,
   "metadata": {},
   "outputs": [],
   "source": [
    "all_scores.isnull().sum().reset_index(name='Nb of NAN')"
   ]
  },
  {
   "cell_type": "code",
   "execution_count": null,
   "metadata": {},
   "outputs": [],
   "source": [
    "all_scores[all_scores['time'] < '2023-01-01']"
   ]
  },
  {
   "cell_type": "markdown",
   "metadata": {},
   "source": [
    "- No problematic values so now let's see if some users redid the same exam more than once"
   ]
  },
  {
   "cell_type": "code",
   "execution_count": null,
   "metadata": {},
   "outputs": [],
   "source": [
    "attempt_count = all_scores.groupby(['user_id', 'test_id','course']).size().reset_index(name='attempt_count')\n",
    "\n",
    "attempt_count[attempt_count['attempt_count'] > 1].shape[0]"
   ]
  },
  {
   "cell_type": "markdown",
   "metadata": {},
   "source": [
    "- Let's get rid of everything past the first attempt ----> HERE DISCUSS"
   ]
  },
  {
   "cell_type": "code",
   "execution_count": null,
   "metadata": {},
   "outputs": [],
   "source": [
    "all_scores = all_scores.sort_values(by='time')\n",
    "\n",
    "all_scores = all_scores.groupby(['user_id', 'test_id', 'course']).first().reset_index()"
   ]
  },
  {
   "cell_type": "markdown",
   "metadata": {},
   "source": [
    "- Now lets's see how much data deleted overall :"
   ]
  },
  {
   "cell_type": "code",
   "execution_count": null,
   "metadata": {},
   "outputs": [],
   "source": [
    "all_scores_data_loss = all_scores.shape[0]/all_scores_og.shape[0]\n",
    "print('Percent of data lost', 100 - all_scores_data_loss * 100)"
   ]
  },
  {
   "cell_type": "markdown",
   "metadata": {},
   "source": [
    "- We also decided to round the \"percentage\" column to two decimal places to make life easier "
   ]
  },
  {
   "cell_type": "code",
   "execution_count": null,
   "metadata": {},
   "outputs": [],
   "source": [
    "all_scores['percentage'] = all_scores['percentage'].round(2)"
   ]
  },
  {
   "cell_type": "markdown",
   "metadata": {},
   "source": [
    "### Lets seperate the data out into Math, Text and Essay\n",
    "\n",
    "course ids 3301 and 5447 (these are related to the essays)"
   ]
  },
  {
   "cell_type": "code",
   "execution_count": null,
   "metadata": {},
   "outputs": [],
   "source": [
    "all_scores"
   ]
  },
  {
   "cell_type": "code",
   "execution_count": null,
   "metadata": {},
   "outputs": [],
   "source": [
    "all_scores['course'].value_counts()"
   ]
  },
  {
   "cell_type": "code",
   "execution_count": null,
   "metadata": {},
   "outputs": [],
   "source": [
    "math_scores = ...\n",
    "essay_scores = ...\n",
    "text_scores = ..."
   ]
  },
  {
   "cell_type": "code",
   "execution_count": null,
   "metadata": {},
   "outputs": [],
   "source": []
  },
  {
   "cell_type": "code",
   "execution_count": null,
   "metadata": {},
   "outputs": [],
   "source": []
  },
  {
   "cell_type": "code",
   "execution_count": null,
   "metadata": {},
   "outputs": [],
   "source": []
  },
  {
   "cell_type": "markdown",
   "metadata": {},
   "source": [
    "# Now let's export our cleaned data !"
   ]
  },
  {
   "cell_type": "markdown",
   "metadata": {},
   "source": [
    "Here will have 6 dataframes so far once seperated into the various subjects"
   ]
  },
  {
   "cell_type": "code",
   "execution_count": null,
   "metadata": {},
   "outputs": [],
   "source": [
    "# Uncomment this to save the cleaned dataframes :)\n",
    "   \n",
    "# math_scores.to_csv('math_scores.csv', index=False)\n",
    "# essay_scores.to_csv('essay_scores.csv', index=False)\n",
    "# text_scores.to_csv('text_scores.csv', index=False)    \n",
    "\n",
    "# math_activity.to_csv('math_activity.csv', index=False)\n",
    "# essay_activity.to_csv('essay_activity.csv', index=False)\n",
    "# text_activity.to_csv('text_activity.csv', index=False)    "
   ]
  }
 ],
 "metadata": {
  "kernelspec": {
   "display_name": "mdev2",
   "language": "python",
   "name": "python3"
  },
  "language_info": {
   "codemirror_mode": {
    "name": "ipython",
    "version": 3
   },
   "file_extension": ".py",
   "mimetype": "text/x-python",
   "name": "python",
   "nbconvert_exporter": "python",
   "pygments_lexer": "ipython3",
   "version": "3.13.2"
  }
 },
 "nbformat": 4,
 "nbformat_minor": 2
}
