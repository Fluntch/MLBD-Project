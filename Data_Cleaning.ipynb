{
 "cells": [
  {
   "cell_type": "code",
   "execution_count": 1,
   "metadata": {},
   "outputs": [],
   "source": [
    "import pandas as pd\n",
    "import numpy as np\n",
    "import seaborn as sns\n",
    "import matplotlib.pyplot as plt"
   ]
  },
  {
   "cell_type": "code",
   "execution_count": null,
   "metadata": {},
   "outputs": [],
   "source": []
  },
  {
   "cell_type": "code",
   "execution_count": null,
   "metadata": {},
   "outputs": [],
   "source": []
  },
  {
   "cell_type": "code",
   "execution_count": null,
   "metadata": {},
   "outputs": [],
   "source": []
  },
  {
   "cell_type": "markdown",
   "metadata": {},
   "source": [
    "# The data "
   ]
  },
  {
   "cell_type": "code",
   "execution_count": 2,
   "metadata": {},
   "outputs": [],
   "source": [
    "DATA_DIR = '/Users/fletchercollis/Desktop/Machine learning for behavioral data/PROJECT_GoGYMi/GoGymi' ### put your path here\n",
    "\n",
    "activity = pd.read_csv('{}/activity.csv'.format(DATA_DIR))\n",
    "\n",
    "\n",
    "students = pd.read_csv('{}/students.csv'.format(DATA_DIR))\n",
    "teachers = pd.read_csv('{}/teachers.csv'.format(DATA_DIR))\n",
    "\n",
    "\n",
    "gymitrainer = pd.read_csv('{}/gymitrainer.csv'.format(DATA_DIR))\n",
    "\n",
    "\n",
    "math_questions = pd.read_csv('{}/math_questions.csv'.format(DATA_DIR)) ### NOT USEFUL HERE YET SO NOT LOOKED AT OR CLEANED\n",
    "text_questions = pd.read_csv('{}/text_questions.csv'.format(DATA_DIR)) ### NOT USEFUL HERE YET SO NOT LOOKED AT OR CLEANED\n",
    "#texts = pd.read_csv('{}/texts.csv'.format(DATA_DIR)) ### NOT USEFUL HERE YET SO NOT LOOKED AT OR CLEANED\n",
    "\n",
    "\n",
    "math_results = pd.read_csv('{}/math_results.csv'.format(DATA_DIR))\n",
    "essay_results = pd.read_csv('{}/essay_results.csv'.format(DATA_DIR))\n",
    "text_results = pd.read_csv('{}/text_results.csv'.format(DATA_DIR))\n",
    "\n",
    "all_scores = pd.read_csv('{}/all_scores.csv'.format(DATA_DIR))"
   ]
  },
  {
   "cell_type": "code",
   "execution_count": null,
   "metadata": {},
   "outputs": [],
   "source": []
  },
  {
   "cell_type": "code",
   "execution_count": null,
   "metadata": {},
   "outputs": [],
   "source": []
  },
  {
   "cell_type": "code",
   "execution_count": null,
   "metadata": {},
   "outputs": [],
   "source": []
  },
  {
   "cell_type": "markdown",
   "metadata": {},
   "source": [
    "# First, lets clean up the time in every dataframe to make it easier to manipulate!"
   ]
  },
  {
   "cell_type": "code",
   "execution_count": 3,
   "metadata": {},
   "outputs": [],
   "source": [
    "activity['activity_started'] = pd.to_datetime(activity['activity_started'], unit='s')\n",
    "activity['activity_completed'] = pd.to_datetime(activity['activity_completed'], unit='s')\n",
    "activity['activity_updated'] = pd.to_datetime(activity['activity_updated'], unit='s')\n",
    "\n",
    "students['creation_time'] = pd.to_datetime(students['creation_time'], unit='s')\n",
    "teachers['creation_time'] = pd.to_datetime(teachers['creation_time'], unit='s')\n",
    "\n",
    "gymitrainer['start_time'] = pd.to_datetime(gymitrainer['startTime'], unit='s')\n",
    "gymitrainer['end_time'] = pd.to_datetime(gymitrainer['endTime'], unit='s')\n",
    "\n",
    "math_results['time'] = pd.to_datetime(math_results['time'], unit='s')\n",
    "essay_results['time'] = pd.to_datetime(essay_results['time'], unit='s')\n",
    "text_results['time'] = pd.to_datetime(text_results['time'], unit='s')\n",
    "\n",
    "all_scores['time'] = pd.to_datetime(all_scores['time'], unit='s')"
   ]
  },
  {
   "cell_type": "code",
   "execution_count": null,
   "metadata": {},
   "outputs": [],
   "source": []
  },
  {
   "cell_type": "code",
   "execution_count": null,
   "metadata": {},
   "outputs": [],
   "source": []
  },
  {
   "cell_type": "code",
   "execution_count": null,
   "metadata": {},
   "outputs": [],
   "source": []
  },
  {
   "cell_type": "markdown",
   "metadata": {},
   "source": [
    "# Cleaning the user data"
   ]
  },
  {
   "cell_type": "markdown",
   "metadata": {},
   "source": [
    "## activity dataframe "
   ]
  },
  {
   "cell_type": "code",
   "execution_count": 4,
   "metadata": {},
   "outputs": [],
   "source": [
    "activity_og = activity.copy()"
   ]
  },
  {
   "cell_type": "markdown",
   "metadata": {},
   "source": [
    "### Lets look at missing or problematic data "
   ]
  },
  {
   "cell_type": "markdown",
   "metadata": {},
   "source": [
    "- First lets see if there are any missing or problematic values and also drop \"Unnamed: 0\" column since it is not usefeul"
   ]
  },
  {
   "cell_type": "code",
   "execution_count": 5,
   "metadata": {},
   "outputs": [
    {
     "data": {
      "text/html": [
       "<div>\n",
       "<style scoped>\n",
       "    .dataframe tbody tr th:only-of-type {\n",
       "        vertical-align: middle;\n",
       "    }\n",
       "\n",
       "    .dataframe tbody tr th {\n",
       "        vertical-align: top;\n",
       "    }\n",
       "\n",
       "    .dataframe thead th {\n",
       "        text-align: right;\n",
       "    }\n",
       "</style>\n",
       "<table border=\"1\" class=\"dataframe\">\n",
       "  <thead>\n",
       "    <tr style=\"text-align: right;\">\n",
       "      <th></th>\n",
       "      <th>index</th>\n",
       "      <th>Nb of NAN</th>\n",
       "    </tr>\n",
       "  </thead>\n",
       "  <tbody>\n",
       "    <tr>\n",
       "      <th>0</th>\n",
       "      <td>activity_id</td>\n",
       "      <td>0</td>\n",
       "    </tr>\n",
       "    <tr>\n",
       "      <th>1</th>\n",
       "      <td>user_id</td>\n",
       "      <td>0</td>\n",
       "    </tr>\n",
       "    <tr>\n",
       "      <th>2</th>\n",
       "      <td>post_id</td>\n",
       "      <td>0</td>\n",
       "    </tr>\n",
       "    <tr>\n",
       "      <th>3</th>\n",
       "      <td>course_id</td>\n",
       "      <td>0</td>\n",
       "    </tr>\n",
       "    <tr>\n",
       "      <th>4</th>\n",
       "      <td>activity_type</td>\n",
       "      <td>0</td>\n",
       "    </tr>\n",
       "    <tr>\n",
       "      <th>5</th>\n",
       "      <td>activity_status</td>\n",
       "      <td>0</td>\n",
       "    </tr>\n",
       "    <tr>\n",
       "      <th>6</th>\n",
       "      <td>activity_started</td>\n",
       "      <td>0</td>\n",
       "    </tr>\n",
       "    <tr>\n",
       "      <th>7</th>\n",
       "      <td>activity_completed</td>\n",
       "      <td>31644</td>\n",
       "    </tr>\n",
       "    <tr>\n",
       "      <th>8</th>\n",
       "      <td>activity_updated</td>\n",
       "      <td>0</td>\n",
       "    </tr>\n",
       "  </tbody>\n",
       "</table>\n",
       "</div>"
      ],
      "text/plain": [
       "                index  Nb of NAN\n",
       "0         activity_id          0\n",
       "1             user_id          0\n",
       "2             post_id          0\n",
       "3           course_id          0\n",
       "4       activity_type          0\n",
       "5     activity_status          0\n",
       "6    activity_started          0\n",
       "7  activity_completed      31644\n",
       "8    activity_updated          0"
      ]
     },
     "execution_count": 5,
     "metadata": {},
     "output_type": "execute_result"
    }
   ],
   "source": [
    "activity = activity.drop('Unnamed: 0', axis=1)  \n",
    "\n",
    "activity.isnull().sum().reset_index(name='Nb of NAN')"
   ]
  },
  {
   "cell_type": "markdown",
   "metadata": {},
   "source": [
    "- Only column where we have NAN and so we replace them with the last updated time and add a new column where 0 if uncompleted and 1 if completed\n",
    "\n",
    "In the activity dataset in the activity_completed column, 0 or missing value both mean that the activity was never completed which either occurs if it was abandoned, or if the activity does not record when it is completed which is the case for access and exams from course ids 3301 and 5447 (these are related to the essays).\n",
    "\n",
    "---> look into this "
   ]
  },
  {
   "cell_type": "code",
   "execution_count": 6,
   "metadata": {},
   "outputs": [
    {
     "name": "stdout",
     "output_type": "stream",
     "text": [
      "31644\n"
     ]
    }
   ],
   "source": [
    "activity['Completed'] = activity['activity_completed'].notna().astype(int)\n",
    "\n",
    "## Quick check column is correct :\n",
    "print(activity_og.shape[0] - activity['Completed'].sum())"
   ]
  },
  {
   "cell_type": "code",
   "execution_count": 7,
   "metadata": {},
   "outputs": [
    {
     "name": "stdout",
     "output_type": "stream",
     "text": [
      "2289\n"
     ]
    }
   ],
   "source": [
    "rows_where_updated_diff_from_completed_without_nan = activity[activity['activity_completed'] != activity['activity_updated']].shape[0] - (activity_og.shape[0] - activity['Completed'].sum())\n",
    "\n",
    "print(rows_where_updated_diff_from_completed_without_nan)\n",
    "\n",
    "### Updated time is the same as completed time except in 33933 cases when we take out the NAN this leaves : "
   ]
  },
  {
   "cell_type": "code",
   "execution_count": 8,
   "metadata": {},
   "outputs": [],
   "source": [
    "activity.loc[:, 'activity_completed'] = activity['activity_completed'].fillna(activity['activity_updated'])  "
   ]
  },
  {
   "cell_type": "code",
   "execution_count": 9,
   "metadata": {},
   "outputs": [
    {
     "data": {
      "text/html": [
       "<div>\n",
       "<style scoped>\n",
       "    .dataframe tbody tr th:only-of-type {\n",
       "        vertical-align: middle;\n",
       "    }\n",
       "\n",
       "    .dataframe tbody tr th {\n",
       "        vertical-align: top;\n",
       "    }\n",
       "\n",
       "    .dataframe thead th {\n",
       "        text-align: right;\n",
       "    }\n",
       "</style>\n",
       "<table border=\"1\" class=\"dataframe\">\n",
       "  <thead>\n",
       "    <tr style=\"text-align: right;\">\n",
       "      <th></th>\n",
       "      <th>activity_id</th>\n",
       "      <th>user_id</th>\n",
       "      <th>post_id</th>\n",
       "      <th>course_id</th>\n",
       "      <th>activity_type</th>\n",
       "      <th>activity_status</th>\n",
       "      <th>activity_started</th>\n",
       "      <th>activity_completed</th>\n",
       "      <th>activity_updated</th>\n",
       "      <th>Completed</th>\n",
       "    </tr>\n",
       "  </thead>\n",
       "  <tbody>\n",
       "    <tr>\n",
       "      <th>0</th>\n",
       "      <td>1111</td>\n",
       "      <td>2533</td>\n",
       "      <td>1696</td>\n",
       "      <td>1696</td>\n",
       "      <td>access</td>\n",
       "      <td>0</td>\n",
       "      <td>2023-04-07 16:16:41</td>\n",
       "      <td>2023-04-07 16:16:41</td>\n",
       "      <td>2023-04-07 16:16:41</td>\n",
       "      <td>0</td>\n",
       "    </tr>\n",
       "    <tr>\n",
       "      <th>1</th>\n",
       "      <td>1112</td>\n",
       "      <td>2533</td>\n",
       "      <td>1696</td>\n",
       "      <td>1696</td>\n",
       "      <td>course</td>\n",
       "      <td>0</td>\n",
       "      <td>2023-04-07 16:16:45</td>\n",
       "      <td>1970-01-01 00:00:00</td>\n",
       "      <td>2023-04-07 16:40:34</td>\n",
       "      <td>1</td>\n",
       "    </tr>\n",
       "    <tr>\n",
       "      <th>2</th>\n",
       "      <td>1113</td>\n",
       "      <td>2533</td>\n",
       "      <td>1699</td>\n",
       "      <td>1696</td>\n",
       "      <td>lesson</td>\n",
       "      <td>1</td>\n",
       "      <td>2023-04-07 16:16:45</td>\n",
       "      <td>2023-04-07 16:33:31</td>\n",
       "      <td>2023-04-07 16:33:31</td>\n",
       "      <td>1</td>\n",
       "    </tr>\n",
       "    <tr>\n",
       "      <th>3</th>\n",
       "      <td>1114</td>\n",
       "      <td>2533</td>\n",
       "      <td>1769</td>\n",
       "      <td>1696</td>\n",
       "      <td>topic</td>\n",
       "      <td>1</td>\n",
       "      <td>2023-04-07 16:16:57</td>\n",
       "      <td>2023-04-07 16:18:08</td>\n",
       "      <td>2023-04-07 16:18:08</td>\n",
       "      <td>1</td>\n",
       "    </tr>\n",
       "    <tr>\n",
       "      <th>4</th>\n",
       "      <td>1115</td>\n",
       "      <td>2533</td>\n",
       "      <td>1711</td>\n",
       "      <td>1696</td>\n",
       "      <td>topic</td>\n",
       "      <td>1</td>\n",
       "      <td>2023-04-07 16:18:09</td>\n",
       "      <td>2023-04-07 16:31:59</td>\n",
       "      <td>2023-04-07 16:31:59</td>\n",
       "      <td>1</td>\n",
       "    </tr>\n",
       "  </tbody>\n",
       "</table>\n",
       "</div>"
      ],
      "text/plain": [
       "   activity_id  user_id  post_id  course_id activity_type  activity_status  \\\n",
       "0         1111     2533     1696       1696        access                0   \n",
       "1         1112     2533     1696       1696        course                0   \n",
       "2         1113     2533     1699       1696        lesson                1   \n",
       "3         1114     2533     1769       1696         topic                1   \n",
       "4         1115     2533     1711       1696         topic                1   \n",
       "\n",
       "     activity_started  activity_completed    activity_updated  Completed  \n",
       "0 2023-04-07 16:16:41 2023-04-07 16:16:41 2023-04-07 16:16:41          0  \n",
       "1 2023-04-07 16:16:45 1970-01-01 00:00:00 2023-04-07 16:40:34          1  \n",
       "2 2023-04-07 16:16:45 2023-04-07 16:33:31 2023-04-07 16:33:31          1  \n",
       "3 2023-04-07 16:16:57 2023-04-07 16:18:08 2023-04-07 16:18:08          1  \n",
       "4 2023-04-07 16:18:09 2023-04-07 16:31:59 2023-04-07 16:31:59          1  "
      ]
     },
     "execution_count": 9,
     "metadata": {},
     "output_type": "execute_result"
    }
   ],
   "source": [
    "activity.head()"
   ]
  },
  {
   "cell_type": "markdown",
   "metadata": {},
   "source": [
    "- Also we notice that some of the activity_completed column are from 1970-01-01 and so we replace them with the last updated time \n",
    "\n",
    "----> do we consider these completed or not? I consider them completed just that there was a bug"
   ]
  },
  {
   "cell_type": "code",
   "execution_count": 10,
   "metadata": {},
   "outputs": [
    {
     "name": "stdout",
     "output_type": "stream",
     "text": [
      "155\n"
     ]
    }
   ],
   "source": [
    "nb_of_unfeasible_dates = activity[activity['activity_completed'] < '2000-01-01'].shape[0]\n",
    "\n",
    "print(rows_where_updated_diff_from_completed_without_nan - nb_of_unfeasible_dates)\n",
    "\n",
    "### These also account for the majority of times the updated date is different from the completed one meaning we can assume updated = completed \n",
    "\n",
    "### (155 rows where this is not the case is negligeable for a dataset of 80000 rows)"
   ]
  },
  {
   "cell_type": "code",
   "execution_count": 11,
   "metadata": {},
   "outputs": [],
   "source": [
    "activity.loc[activity['activity_completed'] < '2000-01-01', 'activity_completed'] = activity['activity_updated']"
   ]
  },
  {
   "cell_type": "markdown",
   "metadata": {},
   "source": [
    "### Lets check the time spent on various activities"
   ]
  },
  {
   "cell_type": "markdown",
   "metadata": {},
   "source": [
    "- Now we look at the time spent on activities"
   ]
  },
  {
   "cell_type": "code",
   "execution_count": 12,
   "metadata": {},
   "outputs": [
    {
     "data": {
      "text/plain": [
       "72897"
      ]
     },
     "execution_count": 12,
     "metadata": {},
     "output_type": "execute_result"
    }
   ],
   "source": [
    "activity['time_spent'] = (activity['activity_completed'] - activity['activity_started']).dt.total_seconds()\n",
    "\n",
    "activity.shape[0]"
   ]
  },
  {
   "cell_type": "code",
   "execution_count": 13,
   "metadata": {},
   "outputs": [
    {
     "data": {
      "text/plain": [
       "count    7.289700e+04\n",
       "mean     5.597036e+05\n",
       "std      1.886669e+06\n",
       "min     -2.253558e+07\n",
       "25%      0.000000e+00\n",
       "50%      2.900000e+01\n",
       "75%      2.689000e+03\n",
       "max      3.388067e+07\n",
       "Name: time_spent, dtype: float64"
      ]
     },
     "execution_count": 13,
     "metadata": {},
     "output_type": "execute_result"
    }
   ],
   "source": [
    "activity['time_spent'].describe()"
   ]
  },
  {
   "cell_type": "code",
   "execution_count": 14,
   "metadata": {},
   "outputs": [
    {
     "data": {
      "image/png": "[encoded data removed]",
      "text/plain": [
       "<Figure size 900x400 with 2 Axes>"
      ]
     },
     "metadata": {},
     "output_type": "display_data"
    }
   ],
   "source": [
    "data = activity['time_spent'].copy()\n",
    "\n",
    "fig, axes = plt.subplots(1, 2, figsize=(9, 4)) \n",
    "\n",
    "\n",
    "axes[0].hist(data, bins=100, color='teal', edgecolor='black', alpha=0.7)\n",
    "axes[0].set_title('Histogram of Time Spent')\n",
    "axes[0].set_xlabel('Time Spent')\n",
    "axes[0].set_ylabel('Frequency')\n",
    "\n",
    "sns.boxplot(x=data, color='blue', ax=axes[1])\n",
    "axes[1].set_title('Box Plot of Time Spent')\n",
    "axes[1].set_xlabel('Time Spent (seconds)')\n",
    "\n",
    "plt.tight_layout()\n",
    "plt.show()"
   ]
  },
  {
   "cell_type": "code",
   "execution_count": 15,
   "metadata": {},
   "outputs": [
    {
     "name": "stdout",
     "output_type": "stream",
     "text": [
      "Nb of rows where the length of the activity is negative or zero: 31816\n"
     ]
    }
   ],
   "source": [
    "print('Nb of rows where the length of the activity is negative or zero:', activity[activity['time_spent'] <= 0].shape[0])"
   ]
  },
  {
   "cell_type": "markdown",
   "metadata": {},
   "source": [
    "- Since there are few we decided to remove the problematic rows "
   ]
  },
  {
   "cell_type": "code",
   "execution_count": 16,
   "metadata": {},
   "outputs": [],
   "source": [
    "activity = activity[activity['time_spent'] > 0]"
   ]
  },
  {
   "cell_type": "markdown",
   "metadata": {},
   "source": [
    "- How much data did we lose?"
   ]
  },
  {
   "cell_type": "code",
   "execution_count": 17,
   "metadata": {},
   "outputs": [
    {
     "name": "stdout",
     "output_type": "stream",
     "text": [
      "Percent of original data lost 43.645143147180264\n"
     ]
    }
   ],
   "source": [
    "activity_data_loss = activity.shape[0]/activity_og.shape[0]\n",
    "print('Percent of original data lost', 100 - activity_data_loss * 100)"
   ]
  },
  {
   "cell_type": "markdown",
   "metadata": {},
   "source": [
    "#### THIS IS ALOT SO MAYBE THINK ABOUT ALTERNATIVES?"
   ]
  },
  {
   "cell_type": "markdown",
   "metadata": {},
   "source": [
    "- Now lets look at the distribution of time spent on activities"
   ]
  },
  {
   "cell_type": "code",
   "execution_count": 18,
   "metadata": {},
   "outputs": [
    {
     "data": {
      "image/png": "[encoded data removed]",
      "text/plain": [
       "<Figure size 640x480 with 1 Axes>"
      ]
     },
     "metadata": {},
     "output_type": "display_data"
    }
   ],
   "source": [
    "data = activity['time_spent']\n",
    "\n",
    "plt.hist(data, bins=100, color='teal', edgecolor='black', alpha=0.7)\n",
    "plt.title('Histogram Example')\n",
    "plt.xlabel('time_spent Values')\n",
    "plt.ylabel('Frequency')\n",
    "plt.show()"
   ]
  },
  {
   "cell_type": "markdown",
   "metadata": {},
   "source": [
    "- There seems to be some outliers, so lets remove some activities that seem to be taking too long -----> NEED TO DECIDE WHAT TOO LONG IS "
   ]
  },
  {
   "cell_type": "code",
   "execution_count": 19,
   "metadata": {},
   "outputs": [
    {
     "data": {
      "text/html": [
       "<div>\n",
       "<style scoped>\n",
       "    .dataframe tbody tr th:only-of-type {\n",
       "        vertical-align: middle;\n",
       "    }\n",
       "\n",
       "    .dataframe tbody tr th {\n",
       "        vertical-align: top;\n",
       "    }\n",
       "\n",
       "    .dataframe thead th {\n",
       "        text-align: right;\n",
       "    }\n",
       "</style>\n",
       "<table border=\"1\" class=\"dataframe\">\n",
       "  <thead>\n",
       "    <tr style=\"text-align: right;\">\n",
       "      <th></th>\n",
       "      <th>count</th>\n",
       "      <th>mean</th>\n",
       "      <th>std</th>\n",
       "      <th>min</th>\n",
       "      <th>25%</th>\n",
       "      <th>50%</th>\n",
       "      <th>75%</th>\n",
       "      <th>max</th>\n",
       "    </tr>\n",
       "    <tr>\n",
       "      <th>activity_type</th>\n",
       "      <th></th>\n",
       "      <th></th>\n",
       "      <th></th>\n",
       "      <th></th>\n",
       "      <th></th>\n",
       "      <th></th>\n",
       "      <th></th>\n",
       "      <th></th>\n",
       "    </tr>\n",
       "  </thead>\n",
       "  <tbody>\n",
       "    <tr>\n",
       "      <th>access</th>\n",
       "      <td>244.0</td>\n",
       "      <td>2.473115e+02</td>\n",
       "      <td>2.012461e+03</td>\n",
       "      <td>1.0</td>\n",
       "      <td>6.00</td>\n",
       "      <td>6.0</td>\n",
       "      <td>8.00</td>\n",
       "      <td>18223.0</td>\n",
       "    </tr>\n",
       "    <tr>\n",
       "      <th>course</th>\n",
       "      <td>1988.0</td>\n",
       "      <td>4.361600e+06</td>\n",
       "      <td>4.716114e+06</td>\n",
       "      <td>1.0</td>\n",
       "      <td>264321.75</td>\n",
       "      <td>2704738.5</td>\n",
       "      <td>7392923.25</td>\n",
       "      <td>33880667.0</td>\n",
       "    </tr>\n",
       "    <tr>\n",
       "      <th>exam</th>\n",
       "      <td>394.0</td>\n",
       "      <td>7.022218e+03</td>\n",
       "      <td>2.383318e+04</td>\n",
       "      <td>1.0</td>\n",
       "      <td>1203.00</td>\n",
       "      <td>2125.5</td>\n",
       "      <td>3289.75</td>\n",
       "      <td>236754.0</td>\n",
       "    </tr>\n",
       "    <tr>\n",
       "      <th>group_progress</th>\n",
       "      <td>48.0</td>\n",
       "      <td>5.920721e+06</td>\n",
       "      <td>4.551479e+06</td>\n",
       "      <td>324685.0</td>\n",
       "      <td>2649326.75</td>\n",
       "      <td>3628423.5</td>\n",
       "      <td>10536267.25</td>\n",
       "      <td>16518986.0</td>\n",
       "    </tr>\n",
       "    <tr>\n",
       "      <th>lesson</th>\n",
       "      <td>4017.0</td>\n",
       "      <td>2.907315e+06</td>\n",
       "      <td>3.519512e+06</td>\n",
       "      <td>1.0</td>\n",
       "      <td>80451.00</td>\n",
       "      <td>1386480.0</td>\n",
       "      <td>4491499.00</td>\n",
       "      <td>16127845.0</td>\n",
       "    </tr>\n",
       "    <tr>\n",
       "      <th>quiz</th>\n",
       "      <td>6799.0</td>\n",
       "      <td>1.492669e+03</td>\n",
       "      <td>7.024487e+03</td>\n",
       "      <td>3.0</td>\n",
       "      <td>129.00</td>\n",
       "      <td>463.0</td>\n",
       "      <td>1331.50</td>\n",
       "      <td>446287.0</td>\n",
       "    </tr>\n",
       "    <tr>\n",
       "      <th>topic</th>\n",
       "      <td>27591.0</td>\n",
       "      <td>7.406210e+05</td>\n",
       "      <td>1.856762e+06</td>\n",
       "      <td>1.0</td>\n",
       "      <td>127.00</td>\n",
       "      <td>1259.0</td>\n",
       "      <td>450706.00</td>\n",
       "      <td>26871427.0</td>\n",
       "    </tr>\n",
       "  </tbody>\n",
       "</table>\n",
       "</div>"
      ],
      "text/plain": [
       "                  count          mean           std       min         25%  \\\n",
       "activity_type                                                               \n",
       "access            244.0  2.473115e+02  2.012461e+03       1.0        6.00   \n",
       "course           1988.0  4.361600e+06  4.716114e+06       1.0   264321.75   \n",
       "exam              394.0  7.022218e+03  2.383318e+04       1.0     1203.00   \n",
       "group_progress     48.0  5.920721e+06  4.551479e+06  324685.0  2649326.75   \n",
       "lesson           4017.0  2.907315e+06  3.519512e+06       1.0    80451.00   \n",
       "quiz             6799.0  1.492669e+03  7.024487e+03       3.0      129.00   \n",
       "topic           27591.0  7.406210e+05  1.856762e+06       1.0      127.00   \n",
       "\n",
       "                      50%          75%         max  \n",
       "activity_type                                       \n",
       "access                6.0         8.00     18223.0  \n",
       "course          2704738.5   7392923.25  33880667.0  \n",
       "exam               2125.5      3289.75    236754.0  \n",
       "group_progress  3628423.5  10536267.25  16518986.0  \n",
       "lesson          1386480.0   4491499.00  16127845.0  \n",
       "quiz                463.0      1331.50    446287.0  \n",
       "topic              1259.0    450706.00  26871427.0  "
      ]
     },
     "execution_count": 19,
     "metadata": {},
     "output_type": "execute_result"
    }
   ],
   "source": [
    "activity.groupby(by='activity_type')['time_spent'].describe()"
   ]
  },
  {
   "cell_type": "code",
   "execution_count": 20,
   "metadata": {},
   "outputs": [],
   "source": [
    "quantiles = activity.groupby(by='activity_type')['time_spent'].quantile(0.95)\n",
    "\n",
    "activity = activity[activity.apply(lambda row: row['time_spent'] <= quantiles[row['activity_type']], axis=1)]"
   ]
  },
  {
   "cell_type": "markdown",
   "metadata": {},
   "source": [
    "- Now lets's see how much data deleted overall :"
   ]
  },
  {
   "cell_type": "code",
   "execution_count": 21,
   "metadata": {},
   "outputs": [
    {
     "name": "stdout",
     "output_type": "stream",
     "text": [
      "Percent of data lost in total 46.4669327955883\n"
     ]
    }
   ],
   "source": [
    "activity_data_loss = activity.shape[0]/activity_og.shape[0]\n",
    "print('Percent of data lost in total', 100 - activity_data_loss * 100)"
   ]
  },
  {
   "cell_type": "markdown",
   "metadata": {},
   "source": [
    "### Lets seperate the data out into Math, Text and Essay\n",
    "\n",
    "Difference between \"topic\", \"lesson\" and \"course\" in activity.csv: a course is the highest level on the site. There are 8 courses of which a user will normally do 3-4. Inside of those courses are lessons which then have topics under them."
   ]
  },
  {
   "cell_type": "code",
   "execution_count": 41,
   "metadata": {},
   "outputs": [
    {
     "data": {
      "text/plain": [
       "array([1696,   42, 2115, 3865, 8117, 5009, 3301, 5447, 2019,    0])"
      ]
     },
     "execution_count": 41,
     "metadata": {},
     "output_type": "execute_result"
    }
   ],
   "source": [
    "activity['course_id'].unique()"
   ]
  },
  {
   "cell_type": "code",
   "execution_count": 38,
   "metadata": {},
   "outputs": [
    {
     "data": {
      "text/plain": [
       "course_id\n",
       "3865    9765\n",
       "42      9152\n",
       "2115    5079\n",
       "5447    4269\n",
       "5009    4056\n",
       "3301    3336\n",
       "1696    2422\n",
       "8117     898\n",
       "0         45\n",
       "2019       2\n",
       "Name: count, dtype: int64"
      ]
     },
     "execution_count": 38,
     "metadata": {},
     "output_type": "execute_result"
    }
   ],
   "source": [
    "activity['course_id'].value_counts()"
   ]
  },
  {
   "cell_type": "code",
   "execution_count": null,
   "metadata": {},
   "outputs": [],
   "source": []
  },
  {
   "cell_type": "code",
   "execution_count": null,
   "metadata": {},
   "outputs": [],
   "source": []
  },
  {
   "cell_type": "code",
   "execution_count": null,
   "metadata": {},
   "outputs": [],
   "source": []
  },
  {
   "cell_type": "markdown",
   "metadata": {},
   "source": [
    "## Cleaning the test data"
   ]
  },
  {
   "cell_type": "markdown",
   "metadata": {},
   "source": [
    "### all_scores datframe"
   ]
  },
  {
   "cell_type": "code",
   "execution_count": 23,
   "metadata": {},
   "outputs": [],
   "source": [
    "all_scores_og = all_scores.copy()"
   ]
  },
  {
   "cell_type": "markdown",
   "metadata": {},
   "source": [
    "- First lets see if there are any missing or problematic values"
   ]
  },
  {
   "cell_type": "code",
   "execution_count": 24,
   "metadata": {},
   "outputs": [
    {
     "data": {
      "text/html": [
       "<div>\n",
       "<style scoped>\n",
       "    .dataframe tbody tr th:only-of-type {\n",
       "        vertical-align: middle;\n",
       "    }\n",
       "\n",
       "    .dataframe tbody tr th {\n",
       "        vertical-align: top;\n",
       "    }\n",
       "\n",
       "    .dataframe thead th {\n",
       "        text-align: right;\n",
       "    }\n",
       "</style>\n",
       "<table border=\"1\" class=\"dataframe\">\n",
       "  <thead>\n",
       "    <tr style=\"text-align: right;\">\n",
       "      <th></th>\n",
       "      <th>index</th>\n",
       "      <th>Nb of NAN</th>\n",
       "    </tr>\n",
       "  </thead>\n",
       "  <tbody>\n",
       "    <tr>\n",
       "      <th>0</th>\n",
       "      <td>Unnamed: 0</td>\n",
       "      <td>0</td>\n",
       "    </tr>\n",
       "    <tr>\n",
       "      <th>1</th>\n",
       "      <td>user_id</td>\n",
       "      <td>0</td>\n",
       "    </tr>\n",
       "    <tr>\n",
       "      <th>2</th>\n",
       "      <td>test_id</td>\n",
       "      <td>0</td>\n",
       "    </tr>\n",
       "    <tr>\n",
       "      <th>3</th>\n",
       "      <td>course</td>\n",
       "      <td>0</td>\n",
       "    </tr>\n",
       "    <tr>\n",
       "      <th>4</th>\n",
       "      <td>percentage</td>\n",
       "      <td>0</td>\n",
       "    </tr>\n",
       "    <tr>\n",
       "      <th>5</th>\n",
       "      <td>time</td>\n",
       "      <td>0</td>\n",
       "    </tr>\n",
       "  </tbody>\n",
       "</table>\n",
       "</div>"
      ],
      "text/plain": [
       "        index  Nb of NAN\n",
       "0  Unnamed: 0          0\n",
       "1     user_id          0\n",
       "2     test_id          0\n",
       "3      course          0\n",
       "4  percentage          0\n",
       "5        time          0"
      ]
     },
     "execution_count": 24,
     "metadata": {},
     "output_type": "execute_result"
    }
   ],
   "source": [
    "all_scores.isnull().sum().reset_index(name='Nb of NAN')"
   ]
  },
  {
   "cell_type": "code",
   "execution_count": 25,
   "metadata": {},
   "outputs": [
    {
     "data": {
      "text/html": [
       "<div>\n",
       "<style scoped>\n",
       "    .dataframe tbody tr th:only-of-type {\n",
       "        vertical-align: middle;\n",
       "    }\n",
       "\n",
       "    .dataframe tbody tr th {\n",
       "        vertical-align: top;\n",
       "    }\n",
       "\n",
       "    .dataframe thead th {\n",
       "        text-align: right;\n",
       "    }\n",
       "</style>\n",
       "<table border=\"1\" class=\"dataframe\">\n",
       "  <thead>\n",
       "    <tr style=\"text-align: right;\">\n",
       "      <th></th>\n",
       "      <th>Unnamed: 0</th>\n",
       "      <th>user_id</th>\n",
       "      <th>test_id</th>\n",
       "      <th>course</th>\n",
       "      <th>percentage</th>\n",
       "      <th>time</th>\n",
       "    </tr>\n",
       "  </thead>\n",
       "  <tbody>\n",
       "  </tbody>\n",
       "</table>\n",
       "</div>"
      ],
      "text/plain": [
       "Empty DataFrame\n",
       "Columns: [Unnamed: 0, user_id, test_id, course, percentage, time]\n",
       "Index: []"
      ]
     },
     "execution_count": 25,
     "metadata": {},
     "output_type": "execute_result"
    }
   ],
   "source": [
    "all_scores[all_scores['time'] < '2023-01-01']"
   ]
  },
  {
   "cell_type": "markdown",
   "metadata": {},
   "source": [
    "- No problematic values so now let's see if some users redid the same exam more than once"
   ]
  },
  {
   "cell_type": "code",
   "execution_count": 26,
   "metadata": {},
   "outputs": [
    {
     "data": {
      "text/plain": [
       "441"
      ]
     },
     "execution_count": 26,
     "metadata": {},
     "output_type": "execute_result"
    }
   ],
   "source": [
    "attempt_count = all_scores.groupby(['user_id', 'test_id','course']).size().reset_index(name='attempt_count')\n",
    "\n",
    "attempt_count[attempt_count['attempt_count'] > 1].shape[0]"
   ]
  },
  {
   "cell_type": "markdown",
   "metadata": {},
   "source": [
    "- Let's get rid of everything past the first attempt ----> HERE DISCUSS"
   ]
  },
  {
   "cell_type": "code",
   "execution_count": 27,
   "metadata": {},
   "outputs": [],
   "source": [
    "all_scores = all_scores.sort_values(by='time')\n",
    "\n",
    "all_scores = all_scores.groupby(['user_id', 'test_id', 'course']).first().reset_index()"
   ]
  },
  {
   "cell_type": "markdown",
   "metadata": {},
   "source": [
    "- Now lets's see how much data deleted overall :"
   ]
  },
  {
   "cell_type": "code",
   "execution_count": 28,
   "metadata": {},
   "outputs": [
    {
     "name": "stdout",
     "output_type": "stream",
     "text": [
      "Percent of data lost 23.647388059701484\n"
     ]
    }
   ],
   "source": [
    "all_scores_data_loss = all_scores.shape[0]/all_scores_og.shape[0]\n",
    "print('Percent of data lost', 100 - all_scores_data_loss * 100)"
   ]
  },
  {
   "cell_type": "markdown",
   "metadata": {},
   "source": [
    "- We also decided to round the \"percentage\" column to two decimal places to make life easier "
   ]
  },
  {
   "cell_type": "code",
   "execution_count": 31,
   "metadata": {},
   "outputs": [],
   "source": [
    "all_scores['percentage'] = all_scores['percentage'].round(2)"
   ]
  },
  {
   "cell_type": "markdown",
   "metadata": {},
   "source": [
    "### Lets seperate the data out into Math, Text and Essay"
   ]
  },
  {
   "cell_type": "code",
   "execution_count": 35,
   "metadata": {},
   "outputs": [
    {
     "data": {
      "text/html": [
       "<div>\n",
       "<style scoped>\n",
       "    .dataframe tbody tr th:only-of-type {\n",
       "        vertical-align: middle;\n",
       "    }\n",
       "\n",
       "    .dataframe tbody tr th {\n",
       "        vertical-align: top;\n",
       "    }\n",
       "\n",
       "    .dataframe thead th {\n",
       "        text-align: right;\n",
       "    }\n",
       "</style>\n",
       "<table border=\"1\" class=\"dataframe\">\n",
       "  <thead>\n",
       "    <tr style=\"text-align: right;\">\n",
       "      <th></th>\n",
       "      <th>user_id</th>\n",
       "      <th>test_id</th>\n",
       "      <th>course</th>\n",
       "      <th>Unnamed: 0</th>\n",
       "      <th>percentage</th>\n",
       "      <th>time</th>\n",
       "    </tr>\n",
       "  </thead>\n",
       "  <tbody>\n",
       "    <tr>\n",
       "      <th>0</th>\n",
       "      <td>1</td>\n",
       "      <td>eroerterung</td>\n",
       "      <td>3301</td>\n",
       "      <td>1295</td>\n",
       "      <td>63.00</td>\n",
       "      <td>2024-11-29 23:52:33</td>\n",
       "    </tr>\n",
       "    <tr>\n",
       "      <th>1</th>\n",
       "      <td>1</td>\n",
       "      <td>erzaehlung</td>\n",
       "      <td>5447</td>\n",
       "      <td>581</td>\n",
       "      <td>55.29</td>\n",
       "      <td>2024-10-26 07:24:30</td>\n",
       "    </tr>\n",
       "    <tr>\n",
       "      <th>2</th>\n",
       "      <td>4</td>\n",
       "      <td>eroerterung</td>\n",
       "      <td>3301</td>\n",
       "      <td>1176</td>\n",
       "      <td>66.00</td>\n",
       "      <td>2024-11-21 17:23:46</td>\n",
       "    </tr>\n",
       "    <tr>\n",
       "      <th>3</th>\n",
       "      <td>4</td>\n",
       "      <td>erzaehlung</td>\n",
       "      <td>3301</td>\n",
       "      <td>868</td>\n",
       "      <td>71.00</td>\n",
       "      <td>2024-11-07 16:13:25</td>\n",
       "    </tr>\n",
       "    <tr>\n",
       "      <th>4</th>\n",
       "      <td>5</td>\n",
       "      <td>erzaehlung</td>\n",
       "      <td>5447</td>\n",
       "      <td>579</td>\n",
       "      <td>44.71</td>\n",
       "      <td>2024-10-26 07:23:58</td>\n",
       "    </tr>\n",
       "    <tr>\n",
       "      <th>...</th>\n",
       "      <td>...</td>\n",
       "      <td>...</td>\n",
       "      <td>...</td>\n",
       "      <td>...</td>\n",
       "      <td>...</td>\n",
       "      <td>...</td>\n",
       "    </tr>\n",
       "    <tr>\n",
       "      <th>4906</th>\n",
       "      <td>4095</td>\n",
       "      <td>50</td>\n",
       "      <td>3865</td>\n",
       "      <td>824</td>\n",
       "      <td>0.00</td>\n",
       "      <td>2024-10-18 15:49:00</td>\n",
       "    </tr>\n",
       "    <tr>\n",
       "      <th>4907</th>\n",
       "      <td>4095</td>\n",
       "      <td>51</td>\n",
       "      <td>3865</td>\n",
       "      <td>439</td>\n",
       "      <td>20.00</td>\n",
       "      <td>2024-09-24 16:00:51</td>\n",
       "    </tr>\n",
       "    <tr>\n",
       "      <th>4908</th>\n",
       "      <td>4095</td>\n",
       "      <td>53</td>\n",
       "      <td>3865</td>\n",
       "      <td>441</td>\n",
       "      <td>0.00</td>\n",
       "      <td>2024-09-24 16:07:01</td>\n",
       "    </tr>\n",
       "    <tr>\n",
       "      <th>4909</th>\n",
       "      <td>4095</td>\n",
       "      <td>54</td>\n",
       "      <td>3865</td>\n",
       "      <td>1154</td>\n",
       "      <td>28.57</td>\n",
       "      <td>2024-10-30 16:59:44</td>\n",
       "    </tr>\n",
       "    <tr>\n",
       "      <th>4910</th>\n",
       "      <td>4095</td>\n",
       "      <td>eroerterung</td>\n",
       "      <td>3301</td>\n",
       "      <td>1511</td>\n",
       "      <td>58.00</td>\n",
       "      <td>2024-12-09 18:28:07</td>\n",
       "    </tr>\n",
       "  </tbody>\n",
       "</table>\n",
       "<p>4911 rows × 6 columns</p>\n",
       "</div>"
      ],
      "text/plain": [
       "      user_id      test_id  course  Unnamed: 0  percentage                time\n",
       "0           1  eroerterung    3301        1295       63.00 2024-11-29 23:52:33\n",
       "1           1   erzaehlung    5447         581       55.29 2024-10-26 07:24:30\n",
       "2           4  eroerterung    3301        1176       66.00 2024-11-21 17:23:46\n",
       "3           4   erzaehlung    3301         868       71.00 2024-11-07 16:13:25\n",
       "4           5   erzaehlung    5447         579       44.71 2024-10-26 07:23:58\n",
       "...       ...          ...     ...         ...         ...                 ...\n",
       "4906     4095           50    3865         824        0.00 2024-10-18 15:49:00\n",
       "4907     4095           51    3865         439       20.00 2024-09-24 16:00:51\n",
       "4908     4095           53    3865         441        0.00 2024-09-24 16:07:01\n",
       "4909     4095           54    3865        1154       28.57 2024-10-30 16:59:44\n",
       "4910     4095  eroerterung    3301        1511       58.00 2024-12-09 18:28:07\n",
       "\n",
       "[4911 rows x 6 columns]"
      ]
     },
     "execution_count": 35,
     "metadata": {},
     "output_type": "execute_result"
    }
   ],
   "source": [
    "all_scores"
   ]
  },
  {
   "cell_type": "code",
   "execution_count": 42,
   "metadata": {},
   "outputs": [
    {
     "data": {
      "text/plain": [
       "course\n",
       "3865    1932\n",
       "42      1883\n",
       "3301     366\n",
       "5447     279\n",
       "5009     241\n",
       "2115     210\n",
       "Name: count, dtype: int64"
      ]
     },
     "execution_count": 42,
     "metadata": {},
     "output_type": "execute_result"
    }
   ],
   "source": [
    "all_scores['course'].value_counts()"
   ]
  },
  {
   "cell_type": "code",
   "execution_count": null,
   "metadata": {},
   "outputs": [],
   "source": []
  },
  {
   "cell_type": "code",
   "execution_count": null,
   "metadata": {},
   "outputs": [],
   "source": []
  },
  {
   "cell_type": "code",
   "execution_count": null,
   "metadata": {},
   "outputs": [],
   "source": []
  },
  {
   "cell_type": "markdown",
   "metadata": {},
   "source": [
    "# Now let's export our cleaned data !"
   ]
  },
  {
   "cell_type": "code",
   "execution_count": null,
   "metadata": {},
   "outputs": [],
   "source": [
    "# Uncomment this to save the cleaned dataframes :)\n",
    "\n",
    "# activity.to_csv('activity_cleaned.csv', index=False)    \n",
    "# all_scores.to_csv('all_scores_cleaned.csv', index=False)        "
   ]
  }
 ],
 "metadata": {
  "kernelspec": {
   "display_name": "mdev2",
   "language": "python",
   "name": "python3"
  },
  "language_info": {
   "codemirror_mode": {
    "name": "ipython",
    "version": 3
   },
   "file_extension": ".py",
   "mimetype": "text/x-python",
   "name": "python",
   "nbconvert_exporter": "python",
   "pygments_lexer": "ipython3",
   "version": "3.13.2"
  }
 },
 "nbformat": 4,
 "nbformat_minor": 2
}
