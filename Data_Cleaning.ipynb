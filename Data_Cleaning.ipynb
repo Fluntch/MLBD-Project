{
 "cells": [
  {
   "cell_type": "code",
   "execution_count": 1,
   "metadata": {},
   "outputs": [],
   "source": [
    "import pandas as pd\n",
    "import numpy as np\n",
    "import seaborn as sns\n",
    "import matplotlib.pyplot as plt"
   ]
  },
  {
   "cell_type": "code",
   "execution_count": null,
   "metadata": {},
   "outputs": [],
   "source": []
  },
  {
   "cell_type": "code",
   "execution_count": null,
   "metadata": {},
   "outputs": [],
   "source": []
  },
  {
   "cell_type": "code",
   "execution_count": null,
   "metadata": {},
   "outputs": [],
   "source": []
  },
  {
   "cell_type": "markdown",
   "metadata": {},
   "source": [
    "# The data "
   ]
  },
  {
   "cell_type": "code",
   "execution_count": 2,
   "metadata": {},
   "outputs": [],
   "source": [
    "DATA_DIR = '/Users/fletchercollis/Desktop/Machine learning for behavioral data/PROJECT_GoGYMi/GoGymi' ### put your path here\n",
    "\n",
    "activity = pd.read_csv('{}/activity.csv'.format(DATA_DIR))\n",
    "\n",
    "\n",
    "students = pd.read_csv('{}/students.csv'.format(DATA_DIR))\n",
    "teachers = pd.read_csv('{}/teachers.csv'.format(DATA_DIR))\n",
    "\n",
    "\n",
    "gymitrainer = pd.read_csv('{}/gymitrainer.csv'.format(DATA_DIR))\n",
    "\n",
    "\n",
    "math_questions = pd.read_csv('{}/math_questions.csv'.format(DATA_DIR)) ### NOT USEFUL HERE YET SO NOT LOOKED AT OR CLEANED\n",
    "text_questions = pd.read_csv('{}/text_questions.csv'.format(DATA_DIR)) ### NOT USEFUL HERE YET SO NOT LOOKED AT OR CLEANED\n",
    "#texts = pd.read_csv('{}/texts.csv'.format(DATA_DIR)) ### NOT USEFUL HERE YET SO NOT LOOKED AT OR CLEANED\n",
    "\n",
    "\n",
    "math_results = pd.read_csv('{}/math_results.csv'.format(DATA_DIR))\n",
    "essay_results = pd.read_csv('{}/essay_results.csv'.format(DATA_DIR))\n",
    "text_results = pd.read_csv('{}/text_results.csv'.format(DATA_DIR))\n",
    "\n",
    "all_scores = pd.read_csv('{}/all_scores.csv'.format(DATA_DIR))"
   ]
  },
  {
   "cell_type": "code",
   "execution_count": 3,
   "metadata": {},
   "outputs": [
    {
     "data": {
      "text/html": [
       "<div>\n",
       "<style scoped>\n",
       "    .dataframe tbody tr th:only-of-type {\n",
       "        vertical-align: middle;\n",
       "    }\n",
       "\n",
       "    .dataframe tbody tr th {\n",
       "        vertical-align: top;\n",
       "    }\n",
       "\n",
       "    .dataframe thead th {\n",
       "        text-align: right;\n",
       "    }\n",
       "</style>\n",
       "<table border=\"1\" class=\"dataframe\">\n",
       "  <thead>\n",
       "    <tr style=\"text-align: right;\">\n",
       "      <th></th>\n",
       "      <th>Unnamed: 0</th>\n",
       "      <th>session_id</th>\n",
       "      <th>user_id</th>\n",
       "      <th>course_id</th>\n",
       "      <th>exam_id</th>\n",
       "      <th>question</th>\n",
       "      <th>points</th>\n",
       "      <th>max_points</th>\n",
       "      <th>time</th>\n",
       "      <th>hint_count</th>\n",
       "      <th>time_spent</th>\n",
       "      <th>correct</th>\n",
       "    </tr>\n",
       "  </thead>\n",
       "  <tbody>\n",
       "    <tr>\n",
       "      <th>0</th>\n",
       "      <td>0</td>\n",
       "      <td>1</td>\n",
       "      <td>2437</td>\n",
       "      <td>42</td>\n",
       "      <td>2</td>\n",
       "      <td>1</td>\n",
       "      <td>0</td>\n",
       "      <td>1</td>\n",
       "      <td>1665067915</td>\n",
       "      <td>0</td>\n",
       "      <td>0</td>\n",
       "      <td>0</td>\n",
       "    </tr>\n",
       "    <tr>\n",
       "      <th>1</th>\n",
       "      <td>1</td>\n",
       "      <td>2</td>\n",
       "      <td>2437</td>\n",
       "      <td>42</td>\n",
       "      <td>2</td>\n",
       "      <td>2</td>\n",
       "      <td>0</td>\n",
       "      <td>1</td>\n",
       "      <td>1665069310</td>\n",
       "      <td>0</td>\n",
       "      <td>0</td>\n",
       "      <td>0</td>\n",
       "    </tr>\n",
       "    <tr>\n",
       "      <th>2</th>\n",
       "      <td>2</td>\n",
       "      <td>3</td>\n",
       "      <td>2437</td>\n",
       "      <td>42</td>\n",
       "      <td>2</td>\n",
       "      <td>3</td>\n",
       "      <td>0</td>\n",
       "      <td>1</td>\n",
       "      <td>1665070759</td>\n",
       "      <td>0</td>\n",
       "      <td>0</td>\n",
       "      <td>0</td>\n",
       "    </tr>\n",
       "    <tr>\n",
       "      <th>3</th>\n",
       "      <td>3</td>\n",
       "      <td>4</td>\n",
       "      <td>2437</td>\n",
       "      <td>42</td>\n",
       "      <td>2</td>\n",
       "      <td>6</td>\n",
       "      <td>0</td>\n",
       "      <td>1</td>\n",
       "      <td>1665074330</td>\n",
       "      <td>0</td>\n",
       "      <td>0</td>\n",
       "      <td>0</td>\n",
       "    </tr>\n",
       "    <tr>\n",
       "      <th>4</th>\n",
       "      <td>4</td>\n",
       "      <td>4</td>\n",
       "      <td>2437</td>\n",
       "      <td>42</td>\n",
       "      <td>2</td>\n",
       "      <td>7</td>\n",
       "      <td>0</td>\n",
       "      <td>1</td>\n",
       "      <td>1665074330</td>\n",
       "      <td>0</td>\n",
       "      <td>2</td>\n",
       "      <td>0</td>\n",
       "    </tr>\n",
       "    <tr>\n",
       "      <th>...</th>\n",
       "      <td>...</td>\n",
       "      <td>...</td>\n",
       "      <td>...</td>\n",
       "      <td>...</td>\n",
       "      <td>...</td>\n",
       "      <td>...</td>\n",
       "      <td>...</td>\n",
       "      <td>...</td>\n",
       "      <td>...</td>\n",
       "      <td>...</td>\n",
       "      <td>...</td>\n",
       "      <td>...</td>\n",
       "    </tr>\n",
       "    <tr>\n",
       "      <th>56802</th>\n",
       "      <td>56802</td>\n",
       "      <td>11990</td>\n",
       "      <td>955</td>\n",
       "      <td>42</td>\n",
       "      <td>37</td>\n",
       "      <td>869</td>\n",
       "      <td>1</td>\n",
       "      <td>1</td>\n",
       "      <td>1741330461</td>\n",
       "      <td>0</td>\n",
       "      <td>48</td>\n",
       "      <td>1</td>\n",
       "    </tr>\n",
       "    <tr>\n",
       "      <th>56803</th>\n",
       "      <td>56803</td>\n",
       "      <td>11990</td>\n",
       "      <td>955</td>\n",
       "      <td>42</td>\n",
       "      <td>37</td>\n",
       "      <td>870</td>\n",
       "      <td>1</td>\n",
       "      <td>1</td>\n",
       "      <td>1741330461</td>\n",
       "      <td>0</td>\n",
       "      <td>102</td>\n",
       "      <td>1</td>\n",
       "    </tr>\n",
       "    <tr>\n",
       "      <th>56804</th>\n",
       "      <td>56804</td>\n",
       "      <td>11990</td>\n",
       "      <td>955</td>\n",
       "      <td>42</td>\n",
       "      <td>37</td>\n",
       "      <td>871</td>\n",
       "      <td>1</td>\n",
       "      <td>1</td>\n",
       "      <td>1741330461</td>\n",
       "      <td>0</td>\n",
       "      <td>59</td>\n",
       "      <td>1</td>\n",
       "    </tr>\n",
       "    <tr>\n",
       "      <th>56805</th>\n",
       "      <td>56805</td>\n",
       "      <td>11990</td>\n",
       "      <td>955</td>\n",
       "      <td>42</td>\n",
       "      <td>37</td>\n",
       "      <td>872</td>\n",
       "      <td>1</td>\n",
       "      <td>1</td>\n",
       "      <td>1741330461</td>\n",
       "      <td>1</td>\n",
       "      <td>19</td>\n",
       "      <td>1</td>\n",
       "    </tr>\n",
       "    <tr>\n",
       "      <th>56806</th>\n",
       "      <td>56806</td>\n",
       "      <td>11990</td>\n",
       "      <td>955</td>\n",
       "      <td>42</td>\n",
       "      <td>37</td>\n",
       "      <td>873</td>\n",
       "      <td>1</td>\n",
       "      <td>1</td>\n",
       "      <td>1741330461</td>\n",
       "      <td>1</td>\n",
       "      <td>23</td>\n",
       "      <td>1</td>\n",
       "    </tr>\n",
       "  </tbody>\n",
       "</table>\n",
       "<p>56807 rows × 12 columns</p>\n",
       "</div>"
      ],
      "text/plain": [
       "       Unnamed: 0  session_id  user_id  course_id  exam_id  question  points  \\\n",
       "0               0           1     2437         42        2         1       0   \n",
       "1               1           2     2437         42        2         2       0   \n",
       "2               2           3     2437         42        2         3       0   \n",
       "3               3           4     2437         42        2         6       0   \n",
       "4               4           4     2437         42        2         7       0   \n",
       "...           ...         ...      ...        ...      ...       ...     ...   \n",
       "56802       56802       11990      955         42       37       869       1   \n",
       "56803       56803       11990      955         42       37       870       1   \n",
       "56804       56804       11990      955         42       37       871       1   \n",
       "56805       56805       11990      955         42       37       872       1   \n",
       "56806       56806       11990      955         42       37       873       1   \n",
       "\n",
       "       max_points        time  hint_count  time_spent  correct  \n",
       "0               1  1665067915           0           0        0  \n",
       "1               1  1665069310           0           0        0  \n",
       "2               1  1665070759           0           0        0  \n",
       "3               1  1665074330           0           0        0  \n",
       "4               1  1665074330           0           2        0  \n",
       "...           ...         ...         ...         ...      ...  \n",
       "56802           1  1741330461           0          48        1  \n",
       "56803           1  1741330461           0         102        1  \n",
       "56804           1  1741330461           0          59        1  \n",
       "56805           1  1741330461           1          19        1  \n",
       "56806           1  1741330461           1          23        1  \n",
       "\n",
       "[56807 rows x 12 columns]"
      ]
     },
     "execution_count": 3,
     "metadata": {},
     "output_type": "execute_result"
    }
   ],
   "source": [
    "math_results"
   ]
  },
  {
   "cell_type": "code",
   "execution_count": 4,
   "metadata": {},
   "outputs": [
    {
     "data": {
      "text/html": [
       "<div>\n",
       "<style scoped>\n",
       "    .dataframe tbody tr th:only-of-type {\n",
       "        vertical-align: middle;\n",
       "    }\n",
       "\n",
       "    .dataframe tbody tr th {\n",
       "        vertical-align: top;\n",
       "    }\n",
       "\n",
       "    .dataframe thead th {\n",
       "        text-align: right;\n",
       "    }\n",
       "</style>\n",
       "<table border=\"1\" class=\"dataframe\">\n",
       "  <thead>\n",
       "    <tr style=\"text-align: right;\">\n",
       "      <th></th>\n",
       "      <th>Unnamed: 0</th>\n",
       "      <th>session_id</th>\n",
       "      <th>user_id</th>\n",
       "      <th>course_id</th>\n",
       "      <th>exam_id</th>\n",
       "      <th>question</th>\n",
       "      <th>points</th>\n",
       "      <th>max_points</th>\n",
       "      <th>time</th>\n",
       "    </tr>\n",
       "  </thead>\n",
       "  <tbody>\n",
       "    <tr>\n",
       "      <th>0</th>\n",
       "      <td>0</td>\n",
       "      <td>f29259b3-adca-468e-a9c3-2a3ab76684c6-3</td>\n",
       "      <td>3174</td>\n",
       "      <td>2115</td>\n",
       "      <td>3</td>\n",
       "      <td>Aufgabe 2</td>\n",
       "      <td>1.0</td>\n",
       "      <td>1.0</td>\n",
       "      <td>1720874168</td>\n",
       "    </tr>\n",
       "    <tr>\n",
       "      <th>1</th>\n",
       "      <td>1</td>\n",
       "      <td>f29259b3-adca-468e-a9c3-2a3ab76684c6-3</td>\n",
       "      <td>3174</td>\n",
       "      <td>2115</td>\n",
       "      <td>3</td>\n",
       "      <td>Aufgabe 3</td>\n",
       "      <td>1.0</td>\n",
       "      <td>3.0</td>\n",
       "      <td>1720874193</td>\n",
       "    </tr>\n",
       "    <tr>\n",
       "      <th>2</th>\n",
       "      <td>2</td>\n",
       "      <td>f29259b3-adca-468e-a9c3-2a3ab76684c6-1</td>\n",
       "      <td>3174</td>\n",
       "      <td>2115</td>\n",
       "      <td>1</td>\n",
       "      <td>Aufgabe 1</td>\n",
       "      <td>0.0</td>\n",
       "      <td>1.0</td>\n",
       "      <td>1720874205</td>\n",
       "    </tr>\n",
       "    <tr>\n",
       "      <th>3</th>\n",
       "      <td>3</td>\n",
       "      <td>f29259b3-adca-468e-a9c3-2a3ab76684c6-1</td>\n",
       "      <td>3174</td>\n",
       "      <td>2115</td>\n",
       "      <td>1</td>\n",
       "      <td>Aufgabe 4a</td>\n",
       "      <td>0.0</td>\n",
       "      <td>2.0</td>\n",
       "      <td>1720874205</td>\n",
       "    </tr>\n",
       "    <tr>\n",
       "      <th>4</th>\n",
       "      <td>4</td>\n",
       "      <td>f29259b3-adca-468e-a9c3-2a3ab76684c6-1</td>\n",
       "      <td>3174</td>\n",
       "      <td>2115</td>\n",
       "      <td>1</td>\n",
       "      <td>Aufgabe 4b</td>\n",
       "      <td>0.0</td>\n",
       "      <td>2.0</td>\n",
       "      <td>1720874205</td>\n",
       "    </tr>\n",
       "    <tr>\n",
       "      <th>...</th>\n",
       "      <td>...</td>\n",
       "      <td>...</td>\n",
       "      <td>...</td>\n",
       "      <td>...</td>\n",
       "      <td>...</td>\n",
       "      <td>...</td>\n",
       "      <td>...</td>\n",
       "      <td>...</td>\n",
       "      <td>...</td>\n",
       "    </tr>\n",
       "    <tr>\n",
       "      <th>21283</th>\n",
       "      <td>21283</td>\n",
       "      <td>d2f58ed2-f73f-4afc-933f-1e05b12dbf17-1</td>\n",
       "      <td>3776</td>\n",
       "      <td>2115</td>\n",
       "      <td>1</td>\n",
       "      <td>Aufgabe 14.1</td>\n",
       "      <td>0.0</td>\n",
       "      <td>1.0</td>\n",
       "      <td>1736255136</td>\n",
       "    </tr>\n",
       "    <tr>\n",
       "      <th>21284</th>\n",
       "      <td>21284</td>\n",
       "      <td>d2f58ed2-f73f-4afc-933f-1e05b12dbf17-1</td>\n",
       "      <td>3776</td>\n",
       "      <td>2115</td>\n",
       "      <td>1</td>\n",
       "      <td>Aufgabe 14.2</td>\n",
       "      <td>0.0</td>\n",
       "      <td>1.0</td>\n",
       "      <td>1736255136</td>\n",
       "    </tr>\n",
       "    <tr>\n",
       "      <th>21285</th>\n",
       "      <td>21285</td>\n",
       "      <td>d2f58ed2-f73f-4afc-933f-1e05b12dbf17-1</td>\n",
       "      <td>3776</td>\n",
       "      <td>2115</td>\n",
       "      <td>1</td>\n",
       "      <td>Aufgabe 14.3</td>\n",
       "      <td>0.0</td>\n",
       "      <td>1.0</td>\n",
       "      <td>1736255136</td>\n",
       "    </tr>\n",
       "    <tr>\n",
       "      <th>21286</th>\n",
       "      <td>21286</td>\n",
       "      <td>d2f58ed2-f73f-4afc-933f-1e05b12dbf17-1</td>\n",
       "      <td>3776</td>\n",
       "      <td>2115</td>\n",
       "      <td>1</td>\n",
       "      <td>Aufgabe 14.4</td>\n",
       "      <td>0.0</td>\n",
       "      <td>1.0</td>\n",
       "      <td>1736255136</td>\n",
       "    </tr>\n",
       "    <tr>\n",
       "      <th>21287</th>\n",
       "      <td>21287</td>\n",
       "      <td>d2f58ed2-f73f-4afc-933f-1e05b12dbf17-1</td>\n",
       "      <td>3776</td>\n",
       "      <td>2115</td>\n",
       "      <td>1</td>\n",
       "      <td>Aufgabe 15</td>\n",
       "      <td>0.0</td>\n",
       "      <td>5.0</td>\n",
       "      <td>1736255136</td>\n",
       "    </tr>\n",
       "  </tbody>\n",
       "</table>\n",
       "<p>21288 rows × 9 columns</p>\n",
       "</div>"
      ],
      "text/plain": [
       "       Unnamed: 0                              session_id  user_id  course_id  \\\n",
       "0               0  f29259b3-adca-468e-a9c3-2a3ab76684c6-3     3174       2115   \n",
       "1               1  f29259b3-adca-468e-a9c3-2a3ab76684c6-3     3174       2115   \n",
       "2               2  f29259b3-adca-468e-a9c3-2a3ab76684c6-1     3174       2115   \n",
       "3               3  f29259b3-adca-468e-a9c3-2a3ab76684c6-1     3174       2115   \n",
       "4               4  f29259b3-adca-468e-a9c3-2a3ab76684c6-1     3174       2115   \n",
       "...           ...                                     ...      ...        ...   \n",
       "21283       21283  d2f58ed2-f73f-4afc-933f-1e05b12dbf17-1     3776       2115   \n",
       "21284       21284  d2f58ed2-f73f-4afc-933f-1e05b12dbf17-1     3776       2115   \n",
       "21285       21285  d2f58ed2-f73f-4afc-933f-1e05b12dbf17-1     3776       2115   \n",
       "21286       21286  d2f58ed2-f73f-4afc-933f-1e05b12dbf17-1     3776       2115   \n",
       "21287       21287  d2f58ed2-f73f-4afc-933f-1e05b12dbf17-1     3776       2115   \n",
       "\n",
       "       exam_id      question  points  max_points        time  \n",
       "0            3     Aufgabe 2     1.0         1.0  1720874168  \n",
       "1            3     Aufgabe 3     1.0         3.0  1720874193  \n",
       "2            1     Aufgabe 1     0.0         1.0  1720874205  \n",
       "3            1    Aufgabe 4a     0.0         2.0  1720874205  \n",
       "4            1    Aufgabe 4b     0.0         2.0  1720874205  \n",
       "...        ...           ...     ...         ...         ...  \n",
       "21283        1  Aufgabe 14.1     0.0         1.0  1736255136  \n",
       "21284        1  Aufgabe 14.2     0.0         1.0  1736255136  \n",
       "21285        1  Aufgabe 14.3     0.0         1.0  1736255136  \n",
       "21286        1  Aufgabe 14.4     0.0         1.0  1736255136  \n",
       "21287        1    Aufgabe 15     0.0         5.0  1736255136  \n",
       "\n",
       "[21288 rows x 9 columns]"
      ]
     },
     "execution_count": 4,
     "metadata": {},
     "output_type": "execute_result"
    }
   ],
   "source": [
    "text_results"
   ]
  },
  {
   "cell_type": "code",
   "execution_count": 5,
   "metadata": {},
   "outputs": [
    {
     "data": {
      "text/html": [
       "<div>\n",
       "<style scoped>\n",
       "    .dataframe tbody tr th:only-of-type {\n",
       "        vertical-align: middle;\n",
       "    }\n",
       "\n",
       "    .dataframe tbody tr th {\n",
       "        vertical-align: top;\n",
       "    }\n",
       "\n",
       "    .dataframe thead th {\n",
       "        text-align: right;\n",
       "    }\n",
       "</style>\n",
       "<table border=\"1\" class=\"dataframe\">\n",
       "  <thead>\n",
       "    <tr style=\"text-align: right;\">\n",
       "      <th></th>\n",
       "      <th>Unnamed: 0</th>\n",
       "      <th>activity_id</th>\n",
       "      <th>user_id</th>\n",
       "      <th>post_id</th>\n",
       "      <th>course_id</th>\n",
       "      <th>activity_type</th>\n",
       "      <th>activity_status</th>\n",
       "      <th>activity_started</th>\n",
       "      <th>activity_completed</th>\n",
       "      <th>activity_updated</th>\n",
       "      <th>time_spent</th>\n",
       "    </tr>\n",
       "  </thead>\n",
       "  <tbody>\n",
       "    <tr>\n",
       "      <th>0</th>\n",
       "      <td>75</td>\n",
       "      <td>1111</td>\n",
       "      <td>2533</td>\n",
       "      <td>1696</td>\n",
       "      <td>1696</td>\n",
       "      <td>access</td>\n",
       "      <td>0</td>\n",
       "      <td>1680884201</td>\n",
       "      <td>NaN</td>\n",
       "      <td>1680884201</td>\n",
       "      <td>0</td>\n",
       "    </tr>\n",
       "    <tr>\n",
       "      <th>14</th>\n",
       "      <td>89</td>\n",
       "      <td>1125</td>\n",
       "      <td>2533</td>\n",
       "      <td>1705</td>\n",
       "      <td>1696</td>\n",
       "      <td>lesson</td>\n",
       "      <td>0</td>\n",
       "      <td>1680885635</td>\n",
       "      <td>NaN</td>\n",
       "      <td>1680885635</td>\n",
       "      <td>0</td>\n",
       "    </tr>\n",
       "    <tr>\n",
       "      <th>15</th>\n",
       "      <td>90</td>\n",
       "      <td>1126</td>\n",
       "      <td>2533</td>\n",
       "      <td>1735</td>\n",
       "      <td>1696</td>\n",
       "      <td>topic</td>\n",
       "      <td>0</td>\n",
       "      <td>1680885638</td>\n",
       "      <td>NaN</td>\n",
       "      <td>1680885638</td>\n",
       "      <td>0</td>\n",
       "    </tr>\n",
       "    <tr>\n",
       "      <th>16</th>\n",
       "      <td>91</td>\n",
       "      <td>1127</td>\n",
       "      <td>2533</td>\n",
       "      <td>42</td>\n",
       "      <td>42</td>\n",
       "      <td>access</td>\n",
       "      <td>0</td>\n",
       "      <td>1689950337</td>\n",
       "      <td>0.000000e+00</td>\n",
       "      <td>1680885731</td>\n",
       "      <td>-9064606</td>\n",
       "    </tr>\n",
       "    <tr>\n",
       "      <th>18</th>\n",
       "      <td>93</td>\n",
       "      <td>1129</td>\n",
       "      <td>2533</td>\n",
       "      <td>55</td>\n",
       "      <td>42</td>\n",
       "      <td>lesson</td>\n",
       "      <td>0</td>\n",
       "      <td>1680885755</td>\n",
       "      <td>NaN</td>\n",
       "      <td>1680885755</td>\n",
       "      <td>0</td>\n",
       "    </tr>\n",
       "    <tr>\n",
       "      <th>...</th>\n",
       "      <td>...</td>\n",
       "      <td>...</td>\n",
       "      <td>...</td>\n",
       "      <td>...</td>\n",
       "      <td>...</td>\n",
       "      <td>...</td>\n",
       "      <td>...</td>\n",
       "      <td>...</td>\n",
       "      <td>...</td>\n",
       "      <td>...</td>\n",
       "      <td>...</td>\n",
       "    </tr>\n",
       "    <tr>\n",
       "      <th>72884</th>\n",
       "      <td>619</td>\n",
       "      <td>619</td>\n",
       "      <td>1653</td>\n",
       "      <td>2000619</td>\n",
       "      <td>2115</td>\n",
       "      <td>exam</td>\n",
       "      <td>1</td>\n",
       "      <td>1733167480</td>\n",
       "      <td>1.733167e+09</td>\n",
       "      <td>1733167480</td>\n",
       "      <td>0</td>\n",
       "    </tr>\n",
       "    <tr>\n",
       "      <th>72885</th>\n",
       "      <td>620</td>\n",
       "      <td>620</td>\n",
       "      <td>1828</td>\n",
       "      <td>2000620</td>\n",
       "      <td>2115</td>\n",
       "      <td>exam</td>\n",
       "      <td>1</td>\n",
       "      <td>1731932980</td>\n",
       "      <td>1.731933e+09</td>\n",
       "      <td>1731932980</td>\n",
       "      <td>0</td>\n",
       "    </tr>\n",
       "    <tr>\n",
       "      <th>72886</th>\n",
       "      <td>621</td>\n",
       "      <td>621</td>\n",
       "      <td>1607</td>\n",
       "      <td>2000621</td>\n",
       "      <td>2115</td>\n",
       "      <td>exam</td>\n",
       "      <td>1</td>\n",
       "      <td>1729668555</td>\n",
       "      <td>1.729669e+09</td>\n",
       "      <td>1729668555</td>\n",
       "      <td>0</td>\n",
       "    </tr>\n",
       "    <tr>\n",
       "      <th>72889</th>\n",
       "      <td>624</td>\n",
       "      <td>624</td>\n",
       "      <td>1629</td>\n",
       "      <td>2000624</td>\n",
       "      <td>2115</td>\n",
       "      <td>exam</td>\n",
       "      <td>1</td>\n",
       "      <td>1724696761</td>\n",
       "      <td>1.724697e+09</td>\n",
       "      <td>1724696761</td>\n",
       "      <td>0</td>\n",
       "    </tr>\n",
       "    <tr>\n",
       "      <th>72892</th>\n",
       "      <td>627</td>\n",
       "      <td>627</td>\n",
       "      <td>2516</td>\n",
       "      <td>2000627</td>\n",
       "      <td>2115</td>\n",
       "      <td>exam</td>\n",
       "      <td>1</td>\n",
       "      <td>1735998125</td>\n",
       "      <td>1.735998e+09</td>\n",
       "      <td>1735998125</td>\n",
       "      <td>0</td>\n",
       "    </tr>\n",
       "  </tbody>\n",
       "</table>\n",
       "<p>31816 rows × 11 columns</p>\n",
       "</div>"
      ],
      "text/plain": [
       "       Unnamed: 0  activity_id  user_id  post_id  course_id activity_type  \\\n",
       "0              75         1111     2533     1696       1696        access   \n",
       "14             89         1125     2533     1705       1696        lesson   \n",
       "15             90         1126     2533     1735       1696         topic   \n",
       "16             91         1127     2533       42         42        access   \n",
       "18             93         1129     2533       55         42        lesson   \n",
       "...           ...          ...      ...      ...        ...           ...   \n",
       "72884         619          619     1653  2000619       2115          exam   \n",
       "72885         620          620     1828  2000620       2115          exam   \n",
       "72886         621          621     1607  2000621       2115          exam   \n",
       "72889         624          624     1629  2000624       2115          exam   \n",
       "72892         627          627     2516  2000627       2115          exam   \n",
       "\n",
       "       activity_status  activity_started  activity_completed  \\\n",
       "0                    0        1680884201                 NaN   \n",
       "14                   0        1680885635                 NaN   \n",
       "15                   0        1680885638                 NaN   \n",
       "16                   0        1689950337        0.000000e+00   \n",
       "18                   0        1680885755                 NaN   \n",
       "...                ...               ...                 ...   \n",
       "72884                1        1733167480        1.733167e+09   \n",
       "72885                1        1731932980        1.731933e+09   \n",
       "72886                1        1729668555        1.729669e+09   \n",
       "72889                1        1724696761        1.724697e+09   \n",
       "72892                1        1735998125        1.735998e+09   \n",
       "\n",
       "       activity_updated  time_spent  \n",
       "0            1680884201           0  \n",
       "14           1680885635           0  \n",
       "15           1680885638           0  \n",
       "16           1680885731    -9064606  \n",
       "18           1680885755           0  \n",
       "...                 ...         ...  \n",
       "72884        1733167480           0  \n",
       "72885        1731932980           0  \n",
       "72886        1729668555           0  \n",
       "72889        1724696761           0  \n",
       "72892        1735998125           0  \n",
       "\n",
       "[31816 rows x 11 columns]"
      ]
     },
     "execution_count": 5,
     "metadata": {},
     "output_type": "execute_result"
    }
   ],
   "source": [
    "activity['time_spent'] = (activity['activity_updated'] - activity['activity_started'])\n",
    "\n",
    "activity[activity['time_spent'] <= 0]"
   ]
  },
  {
   "cell_type": "code",
   "execution_count": null,
   "metadata": {},
   "outputs": [],
   "source": []
  },
  {
   "cell_type": "code",
   "execution_count": null,
   "metadata": {},
   "outputs": [],
   "source": []
  },
  {
   "cell_type": "code",
   "execution_count": null,
   "metadata": {},
   "outputs": [],
   "source": []
  },
  {
   "cell_type": "markdown",
   "metadata": {},
   "source": [
    "# First, lets clean up the time in every dataframe to make it easier to manipulate!"
   ]
  },
  {
   "cell_type": "code",
   "execution_count": 6,
   "metadata": {},
   "outputs": [],
   "source": [
    "activity['activity_started'] = pd.to_datetime(activity['activity_started'], unit='s')\n",
    "activity['activity_completed'] = pd.to_datetime(activity['activity_completed'], unit='s')\n",
    "activity['activity_updated'] = pd.to_datetime(activity['activity_updated'], unit='s')\n",
    "\n",
    "students['creation_time'] = pd.to_datetime(students['creation_time'], unit='s')\n",
    "teachers['creation_time'] = pd.to_datetime(teachers['creation_time'], unit='s')\n",
    "\n",
    "gymitrainer['start_time'] = pd.to_datetime(gymitrainer['startTime'], unit='s')\n",
    "gymitrainer['end_time'] = pd.to_datetime(gymitrainer['endTime'], unit='s')\n",
    "\n",
    "math_results['time'] = pd.to_datetime(math_results['time'], unit='s')\n",
    "essay_results['time'] = pd.to_datetime(essay_results['time'], unit='s')\n",
    "text_results['time'] = pd.to_datetime(text_results['time'], unit='s')\n",
    "\n",
    "all_scores['time'] = pd.to_datetime(all_scores['time'], unit='s')"
   ]
  },
  {
   "cell_type": "code",
   "execution_count": null,
   "metadata": {},
   "outputs": [],
   "source": []
  },
  {
   "cell_type": "code",
   "execution_count": null,
   "metadata": {},
   "outputs": [],
   "source": []
  },
  {
   "cell_type": "code",
   "execution_count": null,
   "metadata": {},
   "outputs": [],
   "source": []
  },
  {
   "cell_type": "markdown",
   "metadata": {},
   "source": [
    "# Cleaning the user data"
   ]
  },
  {
   "cell_type": "markdown",
   "metadata": {},
   "source": [
    "## activity dataframe "
   ]
  },
  {
   "cell_type": "code",
   "execution_count": 7,
   "metadata": {},
   "outputs": [],
   "source": [
    "activity_og = activity.copy()"
   ]
  },
  {
   "cell_type": "markdown",
   "metadata": {},
   "source": [
    "### Lets look at missing or problematic data "
   ]
  },
  {
   "cell_type": "markdown",
   "metadata": {},
   "source": [
    "- First lets see if there are any missing or problematic values and also drop \"Unnamed: 0\" column since it is not usefeul"
   ]
  },
  {
   "cell_type": "code",
   "execution_count": 8,
   "metadata": {},
   "outputs": [
    {
     "data": {
      "text/html": [
       "<div>\n",
       "<style scoped>\n",
       "    .dataframe tbody tr th:only-of-type {\n",
       "        vertical-align: middle;\n",
       "    }\n",
       "\n",
       "    .dataframe tbody tr th {\n",
       "        vertical-align: top;\n",
       "    }\n",
       "\n",
       "    .dataframe thead th {\n",
       "        text-align: right;\n",
       "    }\n",
       "</style>\n",
       "<table border=\"1\" class=\"dataframe\">\n",
       "  <thead>\n",
       "    <tr style=\"text-align: right;\">\n",
       "      <th></th>\n",
       "      <th>index</th>\n",
       "      <th>Nb of NAN</th>\n",
       "    </tr>\n",
       "  </thead>\n",
       "  <tbody>\n",
       "    <tr>\n",
       "      <th>0</th>\n",
       "      <td>activity_id</td>\n",
       "      <td>0</td>\n",
       "    </tr>\n",
       "    <tr>\n",
       "      <th>1</th>\n",
       "      <td>user_id</td>\n",
       "      <td>0</td>\n",
       "    </tr>\n",
       "    <tr>\n",
       "      <th>2</th>\n",
       "      <td>post_id</td>\n",
       "      <td>0</td>\n",
       "    </tr>\n",
       "    <tr>\n",
       "      <th>3</th>\n",
       "      <td>course_id</td>\n",
       "      <td>0</td>\n",
       "    </tr>\n",
       "    <tr>\n",
       "      <th>4</th>\n",
       "      <td>activity_type</td>\n",
       "      <td>0</td>\n",
       "    </tr>\n",
       "    <tr>\n",
       "      <th>5</th>\n",
       "      <td>activity_status</td>\n",
       "      <td>0</td>\n",
       "    </tr>\n",
       "    <tr>\n",
       "      <th>6</th>\n",
       "      <td>activity_started</td>\n",
       "      <td>0</td>\n",
       "    </tr>\n",
       "    <tr>\n",
       "      <th>7</th>\n",
       "      <td>activity_completed</td>\n",
       "      <td>31644</td>\n",
       "    </tr>\n",
       "    <tr>\n",
       "      <th>8</th>\n",
       "      <td>activity_updated</td>\n",
       "      <td>0</td>\n",
       "    </tr>\n",
       "    <tr>\n",
       "      <th>9</th>\n",
       "      <td>time_spent</td>\n",
       "      <td>0</td>\n",
       "    </tr>\n",
       "  </tbody>\n",
       "</table>\n",
       "</div>"
      ],
      "text/plain": [
       "                index  Nb of NAN\n",
       "0         activity_id          0\n",
       "1             user_id          0\n",
       "2             post_id          0\n",
       "3           course_id          0\n",
       "4       activity_type          0\n",
       "5     activity_status          0\n",
       "6    activity_started          0\n",
       "7  activity_completed      31644\n",
       "8    activity_updated          0\n",
       "9          time_spent          0"
      ]
     },
     "execution_count": 8,
     "metadata": {},
     "output_type": "execute_result"
    }
   ],
   "source": [
    "activity = activity.drop('Unnamed: 0', axis=1)  \n",
    "\n",
    "activity.isnull().sum().reset_index(name='Nb of NAN')"
   ]
  },
  {
   "cell_type": "markdown",
   "metadata": {},
   "source": [
    "- Only column where we have NAN and so we replace them with the last updated time and add a new column where 0 if uncompleted and 1 if completed\n",
    "\n",
    "In the activity dataset in the activity_completed column, 0 or missing value both mean that the activity was never completed which either occurs if it was abandoned, or if the activity does not record when it is completed which is the case for access and exams from course ids 3301 and 5447 (these are related to the essays).\n",
    "\n",
    "---> look into this "
   ]
  },
  {
   "cell_type": "code",
   "execution_count": 9,
   "metadata": {},
   "outputs": [
    {
     "name": "stdout",
     "output_type": "stream",
     "text": [
      "31644\n"
     ]
    }
   ],
   "source": [
    "activity['Completed'] = activity['activity_completed'].notna().astype(int)\n",
    "\n",
    "## Quick check column is correct :\n",
    "print(activity_og.shape[0] - activity['Completed'].sum())"
   ]
  },
  {
   "cell_type": "code",
   "execution_count": 10,
   "metadata": {},
   "outputs": [
    {
     "name": "stdout",
     "output_type": "stream",
     "text": [
      "2289\n"
     ]
    }
   ],
   "source": [
    "rows_where_updated_diff_from_completed_without_nan = activity[activity['activity_completed'] != activity['activity_updated']].shape[0] - (activity_og.shape[0] - activity['Completed'].sum())\n",
    "\n",
    "print(rows_where_updated_diff_from_completed_without_nan)\n",
    "\n",
    "### Updated time is the same as completed time except in 33933 cases when we take out the NAN this leaves : "
   ]
  },
  {
   "cell_type": "code",
   "execution_count": 11,
   "metadata": {},
   "outputs": [],
   "source": [
    "activity.loc[:, 'activity_completed'] = activity['activity_completed'].fillna(activity['activity_updated'])  "
   ]
  },
  {
   "cell_type": "code",
   "execution_count": 12,
   "metadata": {},
   "outputs": [
    {
     "data": {
      "text/html": [
       "<div>\n",
       "<style scoped>\n",
       "    .dataframe tbody tr th:only-of-type {\n",
       "        vertical-align: middle;\n",
       "    }\n",
       "\n",
       "    .dataframe tbody tr th {\n",
       "        vertical-align: top;\n",
       "    }\n",
       "\n",
       "    .dataframe thead th {\n",
       "        text-align: right;\n",
       "    }\n",
       "</style>\n",
       "<table border=\"1\" class=\"dataframe\">\n",
       "  <thead>\n",
       "    <tr style=\"text-align: right;\">\n",
       "      <th></th>\n",
       "      <th>activity_id</th>\n",
       "      <th>user_id</th>\n",
       "      <th>post_id</th>\n",
       "      <th>course_id</th>\n",
       "      <th>activity_type</th>\n",
       "      <th>activity_status</th>\n",
       "      <th>activity_started</th>\n",
       "      <th>activity_completed</th>\n",
       "      <th>activity_updated</th>\n",
       "      <th>time_spent</th>\n",
       "      <th>Completed</th>\n",
       "    </tr>\n",
       "  </thead>\n",
       "  <tbody>\n",
       "    <tr>\n",
       "      <th>0</th>\n",
       "      <td>1111</td>\n",
       "      <td>2533</td>\n",
       "      <td>1696</td>\n",
       "      <td>1696</td>\n",
       "      <td>access</td>\n",
       "      <td>0</td>\n",
       "      <td>2023-04-07 16:16:41</td>\n",
       "      <td>2023-04-07 16:16:41</td>\n",
       "      <td>2023-04-07 16:16:41</td>\n",
       "      <td>0</td>\n",
       "      <td>0</td>\n",
       "    </tr>\n",
       "    <tr>\n",
       "      <th>1</th>\n",
       "      <td>1112</td>\n",
       "      <td>2533</td>\n",
       "      <td>1696</td>\n",
       "      <td>1696</td>\n",
       "      <td>course</td>\n",
       "      <td>0</td>\n",
       "      <td>2023-04-07 16:16:45</td>\n",
       "      <td>1970-01-01 00:00:00</td>\n",
       "      <td>2023-04-07 16:40:34</td>\n",
       "      <td>1429</td>\n",
       "      <td>1</td>\n",
       "    </tr>\n",
       "    <tr>\n",
       "      <th>2</th>\n",
       "      <td>1113</td>\n",
       "      <td>2533</td>\n",
       "      <td>1699</td>\n",
       "      <td>1696</td>\n",
       "      <td>lesson</td>\n",
       "      <td>1</td>\n",
       "      <td>2023-04-07 16:16:45</td>\n",
       "      <td>2023-04-07 16:33:31</td>\n",
       "      <td>2023-04-07 16:33:31</td>\n",
       "      <td>1006</td>\n",
       "      <td>1</td>\n",
       "    </tr>\n",
       "    <tr>\n",
       "      <th>3</th>\n",
       "      <td>1114</td>\n",
       "      <td>2533</td>\n",
       "      <td>1769</td>\n",
       "      <td>1696</td>\n",
       "      <td>topic</td>\n",
       "      <td>1</td>\n",
       "      <td>2023-04-07 16:16:57</td>\n",
       "      <td>2023-04-07 16:18:08</td>\n",
       "      <td>2023-04-07 16:18:08</td>\n",
       "      <td>71</td>\n",
       "      <td>1</td>\n",
       "    </tr>\n",
       "    <tr>\n",
       "      <th>4</th>\n",
       "      <td>1115</td>\n",
       "      <td>2533</td>\n",
       "      <td>1711</td>\n",
       "      <td>1696</td>\n",
       "      <td>topic</td>\n",
       "      <td>1</td>\n",
       "      <td>2023-04-07 16:18:09</td>\n",
       "      <td>2023-04-07 16:31:59</td>\n",
       "      <td>2023-04-07 16:31:59</td>\n",
       "      <td>830</td>\n",
       "      <td>1</td>\n",
       "    </tr>\n",
       "  </tbody>\n",
       "</table>\n",
       "</div>"
      ],
      "text/plain": [
       "   activity_id  user_id  post_id  course_id activity_type  activity_status  \\\n",
       "0         1111     2533     1696       1696        access                0   \n",
       "1         1112     2533     1696       1696        course                0   \n",
       "2         1113     2533     1699       1696        lesson                1   \n",
       "3         1114     2533     1769       1696         topic                1   \n",
       "4         1115     2533     1711       1696         topic                1   \n",
       "\n",
       "     activity_started  activity_completed    activity_updated  time_spent  \\\n",
       "0 2023-04-07 16:16:41 2023-04-07 16:16:41 2023-04-07 16:16:41           0   \n",
       "1 2023-04-07 16:16:45 1970-01-01 00:00:00 2023-04-07 16:40:34        1429   \n",
       "2 2023-04-07 16:16:45 2023-04-07 16:33:31 2023-04-07 16:33:31        1006   \n",
       "3 2023-04-07 16:16:57 2023-04-07 16:18:08 2023-04-07 16:18:08          71   \n",
       "4 2023-04-07 16:18:09 2023-04-07 16:31:59 2023-04-07 16:31:59         830   \n",
       "\n",
       "   Completed  \n",
       "0          0  \n",
       "1          1  \n",
       "2          1  \n",
       "3          1  \n",
       "4          1  "
      ]
     },
     "execution_count": 12,
     "metadata": {},
     "output_type": "execute_result"
    }
   ],
   "source": [
    "activity.head()"
   ]
  },
  {
   "cell_type": "markdown",
   "metadata": {},
   "source": [
    "- Also we notice that some of the activity_completed column are from 1970-01-01 and so we replace them with the last updated time \n",
    "\n",
    "----> do we consider these completed or not? I consider them completed just that there was a bug"
   ]
  },
  {
   "cell_type": "code",
   "execution_count": 13,
   "metadata": {},
   "outputs": [
    {
     "name": "stdout",
     "output_type": "stream",
     "text": [
      "155\n"
     ]
    }
   ],
   "source": [
    "nb_of_unfeasible_dates = activity[activity['activity_completed'] < '2000-01-01'].shape[0]\n",
    "\n",
    "print(rows_where_updated_diff_from_completed_without_nan - nb_of_unfeasible_dates)\n",
    "\n",
    "### These also account for the majority of times the updated date is different from the completed one meaning we can assume updated = completed \n",
    "\n",
    "### (155 rows where this is not the case is negligeable for a dataset of 80000 rows)"
   ]
  },
  {
   "cell_type": "code",
   "execution_count": 14,
   "metadata": {},
   "outputs": [],
   "source": [
    "activity.loc[activity['activity_completed'] < '2000-01-01', 'activity_completed'] = activity['activity_updated']"
   ]
  },
  {
   "cell_type": "markdown",
   "metadata": {},
   "source": [
    "### Lets check the time spent on various activities"
   ]
  },
  {
   "cell_type": "markdown",
   "metadata": {},
   "source": [
    "- Now we look at the time spent on activities"
   ]
  },
  {
   "cell_type": "code",
   "execution_count": 15,
   "metadata": {},
   "outputs": [
    {
     "data": {
      "text/plain": [
       "72897"
      ]
     },
     "execution_count": 15,
     "metadata": {},
     "output_type": "execute_result"
    }
   ],
   "source": [
    "activity['time_spent'] = (activity['activity_updated'] - activity['activity_started']).dt.total_seconds()\n",
    "\n",
    "activity.shape[0]"
   ]
  },
  {
   "cell_type": "code",
   "execution_count": 16,
   "metadata": {},
   "outputs": [
    {
     "data": {
      "text/plain": [
       "count    7.289700e+04\n",
       "mean     5.597036e+05\n",
       "std      1.886669e+06\n",
       "min     -2.253558e+07\n",
       "25%      0.000000e+00\n",
       "50%      2.900000e+01\n",
       "75%      2.689000e+03\n",
       "max      3.388067e+07\n",
       "Name: time_spent, dtype: float64"
      ]
     },
     "execution_count": 16,
     "metadata": {},
     "output_type": "execute_result"
    }
   ],
   "source": [
    "activity['time_spent'].describe()"
   ]
  },
  {
   "cell_type": "code",
   "execution_count": 17,
   "metadata": {},
   "outputs": [
    {
     "data": {
      "image/png": "[encoded data removed]",
      "text/plain": [
       "<Figure size 900x400 with 2 Axes>"
      ]
     },
     "metadata": {},
     "output_type": "display_data"
    }
   ],
   "source": [
    "data = activity['time_spent'].copy()\n",
    "\n",
    "fig, axes = plt.subplots(1, 2, figsize=(9, 4)) \n",
    "\n",
    "\n",
    "axes[0].hist(data, bins=100, color='teal', edgecolor='black', alpha=0.7)\n",
    "axes[0].set_title('Histogram of Time Spent')\n",
    "axes[0].set_xlabel('Time Spent')\n",
    "axes[0].set_ylabel('Frequency')\n",
    "\n",
    "sns.boxplot(x=data, color='blue', ax=axes[1])\n",
    "axes[1].set_title('Box Plot of Time Spent')\n",
    "axes[1].set_xlabel('Time Spent (seconds)')\n",
    "\n",
    "plt.tight_layout()\n",
    "plt.show()"
   ]
  },
  {
   "cell_type": "code",
   "execution_count": 18,
   "metadata": {},
   "outputs": [
    {
     "name": "stdout",
     "output_type": "stream",
     "text": [
      "Nb of rows where the length of the activity is negative or zero: 57\n"
     ]
    }
   ],
   "source": [
    "print('Nb of rows where the length of the activity is negative or zero:', activity[activity['time_spent'] < 0].shape[0])"
   ]
  },
  {
   "cell_type": "markdown",
   "metadata": {},
   "source": [
    "- Since there are few we decided to remove the problematic rows "
   ]
  },
  {
   "cell_type": "code",
   "execution_count": 19,
   "metadata": {},
   "outputs": [],
   "source": [
    "activity = activity[activity['time_spent'] >= 0]"
   ]
  },
  {
   "cell_type": "markdown",
   "metadata": {},
   "source": [
    "- How much data did we lose?"
   ]
  },
  {
   "cell_type": "code",
   "execution_count": 20,
   "metadata": {},
   "outputs": [
    {
     "name": "stdout",
     "output_type": "stream",
     "text": [
      "Percent of original data lost 0.07819251821062778\n"
     ]
    }
   ],
   "source": [
    "activity_data_loss = activity.shape[0]/activity_og.shape[0]\n",
    "print('Percent of original data lost', 100 - activity_data_loss * 100)"
   ]
  },
  {
   "cell_type": "markdown",
   "metadata": {},
   "source": [
    "#### THIS IS ALOT SO MAYBE THINK ABOUT ALTERNATIVES?"
   ]
  },
  {
   "cell_type": "markdown",
   "metadata": {},
   "source": [
    "- Now lets look at the distribution of time spent on activities"
   ]
  },
  {
   "cell_type": "code",
   "execution_count": 21,
   "metadata": {},
   "outputs": [
    {
     "data": {
      "image/png": "[encoded data removed]",
      "text/plain": [
       "<Figure size 640x480 with 1 Axes>"
      ]
     },
     "metadata": {},
     "output_type": "display_data"
    }
   ],
   "source": [
    "data = activity['time_spent']\n",
    "\n",
    "plt.hist(data, bins=100, color='teal', edgecolor='black', alpha=0.7)\n",
    "plt.title('Histogram Example')\n",
    "plt.xlabel('time_spent Values')\n",
    "plt.ylabel('Frequency')\n",
    "plt.show()"
   ]
  },
  {
   "cell_type": "markdown",
   "metadata": {},
   "source": [
    "- There seems to be some outliers, so lets remove some activities that seem to be taking too long -----> NEED TO DECIDE WHAT TOO LONG IS "
   ]
  },
  {
   "cell_type": "code",
   "execution_count": 22,
   "metadata": {},
   "outputs": [
    {
     "data": {
      "text/html": [
       "<div>\n",
       "<style scoped>\n",
       "    .dataframe tbody tr th:only-of-type {\n",
       "        vertical-align: middle;\n",
       "    }\n",
       "\n",
       "    .dataframe tbody tr th {\n",
       "        vertical-align: top;\n",
       "    }\n",
       "\n",
       "    .dataframe thead th {\n",
       "        text-align: right;\n",
       "    }\n",
       "</style>\n",
       "<table border=\"1\" class=\"dataframe\">\n",
       "  <thead>\n",
       "    <tr style=\"text-align: right;\">\n",
       "      <th></th>\n",
       "      <th>count</th>\n",
       "      <th>mean</th>\n",
       "      <th>std</th>\n",
       "      <th>min</th>\n",
       "      <th>25%</th>\n",
       "      <th>50%</th>\n",
       "      <th>75%</th>\n",
       "      <th>max</th>\n",
       "    </tr>\n",
       "    <tr>\n",
       "      <th>activity_type</th>\n",
       "      <th></th>\n",
       "      <th></th>\n",
       "      <th></th>\n",
       "      <th></th>\n",
       "      <th></th>\n",
       "      <th></th>\n",
       "      <th></th>\n",
       "      <th></th>\n",
       "    </tr>\n",
       "  </thead>\n",
       "  <tbody>\n",
       "    <tr>\n",
       "      <th>access</th>\n",
       "      <td>717.0</td>\n",
       "      <td>8.416179e+01</td>\n",
       "      <td>1.178245e+03</td>\n",
       "      <td>0.0</td>\n",
       "      <td>0.00</td>\n",
       "      <td>0.0</td>\n",
       "      <td>6.00</td>\n",
       "      <td>18223.0</td>\n",
       "    </tr>\n",
       "    <tr>\n",
       "      <th>course</th>\n",
       "      <td>2507.0</td>\n",
       "      <td>3.458660e+06</td>\n",
       "      <td>4.556272e+06</td>\n",
       "      <td>0.0</td>\n",
       "      <td>1.00</td>\n",
       "      <td>1201645.0</td>\n",
       "      <td>5986228.50</td>\n",
       "      <td>33880667.0</td>\n",
       "    </tr>\n",
       "    <tr>\n",
       "      <th>exam</th>\n",
       "      <td>2619.0</td>\n",
       "      <td>1.056416e+03</td>\n",
       "      <td>9.569375e+03</td>\n",
       "      <td>0.0</td>\n",
       "      <td>0.00</td>\n",
       "      <td>0.0</td>\n",
       "      <td>0.00</td>\n",
       "      <td>236754.0</td>\n",
       "    </tr>\n",
       "    <tr>\n",
       "      <th>group_progress</th>\n",
       "      <td>48.0</td>\n",
       "      <td>5.920721e+06</td>\n",
       "      <td>4.551479e+06</td>\n",
       "      <td>324685.0</td>\n",
       "      <td>2649326.75</td>\n",
       "      <td>3628423.5</td>\n",
       "      <td>10536267.25</td>\n",
       "      <td>16518986.0</td>\n",
       "    </tr>\n",
       "    <tr>\n",
       "      <th>lesson</th>\n",
       "      <td>15436.0</td>\n",
       "      <td>7.565875e+05</td>\n",
       "      <td>2.202330e+06</td>\n",
       "      <td>0.0</td>\n",
       "      <td>0.00</td>\n",
       "      <td>0.0</td>\n",
       "      <td>100.00</td>\n",
       "      <td>16127845.0</td>\n",
       "    </tr>\n",
       "    <tr>\n",
       "      <th>quiz</th>\n",
       "      <td>6799.0</td>\n",
       "      <td>1.492692e+03</td>\n",
       "      <td>7.024486e+03</td>\n",
       "      <td>3.0</td>\n",
       "      <td>129.00</td>\n",
       "      <td>463.0</td>\n",
       "      <td>1331.50</td>\n",
       "      <td>446287.0</td>\n",
       "    </tr>\n",
       "    <tr>\n",
       "      <th>topic</th>\n",
       "      <td>44714.0</td>\n",
       "      <td>4.570039e+05</td>\n",
       "      <td>1.502307e+06</td>\n",
       "      <td>0.0</td>\n",
       "      <td>0.00</td>\n",
       "      <td>62.0</td>\n",
       "      <td>7355.00</td>\n",
       "      <td>26871427.0</td>\n",
       "    </tr>\n",
       "  </tbody>\n",
       "</table>\n",
       "</div>"
      ],
      "text/plain": [
       "                  count          mean           std       min         25%  \\\n",
       "activity_type                                                               \n",
       "access            717.0  8.416179e+01  1.178245e+03       0.0        0.00   \n",
       "course           2507.0  3.458660e+06  4.556272e+06       0.0        1.00   \n",
       "exam             2619.0  1.056416e+03  9.569375e+03       0.0        0.00   \n",
       "group_progress     48.0  5.920721e+06  4.551479e+06  324685.0  2649326.75   \n",
       "lesson          15436.0  7.565875e+05  2.202330e+06       0.0        0.00   \n",
       "quiz             6799.0  1.492692e+03  7.024486e+03       3.0      129.00   \n",
       "topic           44714.0  4.570039e+05  1.502307e+06       0.0        0.00   \n",
       "\n",
       "                      50%          75%         max  \n",
       "activity_type                                       \n",
       "access                0.0         6.00     18223.0  \n",
       "course          1201645.0   5986228.50  33880667.0  \n",
       "exam                  0.0         0.00    236754.0  \n",
       "group_progress  3628423.5  10536267.25  16518986.0  \n",
       "lesson                0.0       100.00  16127845.0  \n",
       "quiz                463.0      1331.50    446287.0  \n",
       "topic                62.0      7355.00  26871427.0  "
      ]
     },
     "execution_count": 22,
     "metadata": {},
     "output_type": "execute_result"
    }
   ],
   "source": [
    "activity.groupby(by='activity_type')['time_spent'].describe()"
   ]
  },
  {
   "cell_type": "code",
   "execution_count": 23,
   "metadata": {},
   "outputs": [],
   "source": [
    "quantiles = activity.groupby(by='activity_type')['time_spent'].quantile(0.95)\n",
    "\n",
    "activity = activity[activity.apply(lambda row: row['time_spent'] <= quantiles[row['activity_type']], axis=1)]"
   ]
  },
  {
   "cell_type": "markdown",
   "metadata": {},
   "source": [
    "- Now lets's see how much data deleted overall :"
   ]
  },
  {
   "cell_type": "code",
   "execution_count": 24,
   "metadata": {},
   "outputs": [
    {
     "name": "stdout",
     "output_type": "stream",
     "text": [
      "Percent of data lost in total 5.066052100909502\n"
     ]
    }
   ],
   "source": [
    "activity_data_loss = activity.shape[0]/activity_og.shape[0]\n",
    "print('Percent of data lost in total', 100 - activity_data_loss * 100)"
   ]
  },
  {
   "cell_type": "markdown",
   "metadata": {},
   "source": [
    "### Lets seperate the data out into Math, Text and Essay\n",
    "\n",
    "Difference between \"topic\", \"lesson\" and \"course\" in activity.csv: a course is the highest level on the site. There are 8 courses of which a user will normally do 3-4. Inside of those courses are lessons which then have topics under them.\n",
    "\n",
    "course ids 3301 and 5447 (these are related to the essays)"
   ]
  },
  {
   "cell_type": "code",
   "execution_count": 25,
   "metadata": {},
   "outputs": [
    {
     "name": "stdout",
     "output_type": "stream",
     "text": [
      "essay course IDs : [5447, 3301]\n",
      "math course IDs : [42, 3865, 3301, 5447, 0]\n",
      "text course IDs : [2115, 5009]\n"
     ]
    }
   ],
   "source": [
    "essay_course_ids =  [int(x) for x in list(essay_results['course'].unique())]\n",
    "math_course_ids = [int(x) for x in list(math_results['course_id'].unique())]\n",
    "text_course_ids = [int(x) for x in list(text_results['course_id'].unique())]\n",
    "\n",
    "print('essay course IDs :', essay_course_ids)\n",
    "print('math course IDs :', math_course_ids)\n",
    "print('text course IDs :', text_course_ids)"
   ]
  },
  {
   "cell_type": "code",
   "execution_count": 26,
   "metadata": {},
   "outputs": [
    {
     "data": {
      "text/plain": [
       "array([1696,   42, 2019, 2115, 3865, 5447, 5009, 8117, 3301,    0, 2515,\n",
       "       2440])"
      ]
     },
     "execution_count": 26,
     "metadata": {},
     "output_type": "execute_result"
    }
   ],
   "source": [
    "activity['course_id'].unique()"
   ]
  },
  {
   "cell_type": "code",
   "execution_count": 27,
   "metadata": {},
   "outputs": [],
   "source": [
    "math_activity = activity[activity['course_id'].isin(math_course_ids)]\n",
    "essay_activity = activity[activity['course_id'].isin(essay_course_ids)]\n",
    "text_activity = activity[activity['course_id'].isin(text_course_ids)]"
   ]
  },
  {
   "cell_type": "code",
   "execution_count": null,
   "metadata": {},
   "outputs": [],
   "source": []
  },
  {
   "cell_type": "code",
   "execution_count": null,
   "metadata": {},
   "outputs": [],
   "source": []
  },
  {
   "cell_type": "code",
   "execution_count": null,
   "metadata": {},
   "outputs": [],
   "source": []
  },
  {
   "cell_type": "markdown",
   "metadata": {},
   "source": [
    "## Cleaning the test data"
   ]
  },
  {
   "cell_type": "markdown",
   "metadata": {},
   "source": [
    "### all_scores datframe"
   ]
  },
  {
   "cell_type": "code",
   "execution_count": 28,
   "metadata": {},
   "outputs": [],
   "source": [
    "all_scores_og = all_scores.copy()"
   ]
  },
  {
   "cell_type": "markdown",
   "metadata": {},
   "source": [
    "- First lets see if there are any missing or problematic values"
   ]
  },
  {
   "cell_type": "code",
   "execution_count": 29,
   "metadata": {},
   "outputs": [
    {
     "data": {
      "text/html": [
       "<div>\n",
       "<style scoped>\n",
       "    .dataframe tbody tr th:only-of-type {\n",
       "        vertical-align: middle;\n",
       "    }\n",
       "\n",
       "    .dataframe tbody tr th {\n",
       "        vertical-align: top;\n",
       "    }\n",
       "\n",
       "    .dataframe thead th {\n",
       "        text-align: right;\n",
       "    }\n",
       "</style>\n",
       "<table border=\"1\" class=\"dataframe\">\n",
       "  <thead>\n",
       "    <tr style=\"text-align: right;\">\n",
       "      <th></th>\n",
       "      <th>index</th>\n",
       "      <th>Nb of NAN</th>\n",
       "    </tr>\n",
       "  </thead>\n",
       "  <tbody>\n",
       "    <tr>\n",
       "      <th>0</th>\n",
       "      <td>Unnamed: 0</td>\n",
       "      <td>0</td>\n",
       "    </tr>\n",
       "    <tr>\n",
       "      <th>1</th>\n",
       "      <td>user_id</td>\n",
       "      <td>0</td>\n",
       "    </tr>\n",
       "    <tr>\n",
       "      <th>2</th>\n",
       "      <td>test_id</td>\n",
       "      <td>0</td>\n",
       "    </tr>\n",
       "    <tr>\n",
       "      <th>3</th>\n",
       "      <td>course</td>\n",
       "      <td>0</td>\n",
       "    </tr>\n",
       "    <tr>\n",
       "      <th>4</th>\n",
       "      <td>percentage</td>\n",
       "      <td>0</td>\n",
       "    </tr>\n",
       "    <tr>\n",
       "      <th>5</th>\n",
       "      <td>time</td>\n",
       "      <td>0</td>\n",
       "    </tr>\n",
       "  </tbody>\n",
       "</table>\n",
       "</div>"
      ],
      "text/plain": [
       "        index  Nb of NAN\n",
       "0  Unnamed: 0          0\n",
       "1     user_id          0\n",
       "2     test_id          0\n",
       "3      course          0\n",
       "4  percentage          0\n",
       "5        time          0"
      ]
     },
     "execution_count": 29,
     "metadata": {},
     "output_type": "execute_result"
    }
   ],
   "source": [
    "all_scores.isnull().sum().reset_index(name='Nb of NAN')"
   ]
  },
  {
   "cell_type": "code",
   "execution_count": 30,
   "metadata": {},
   "outputs": [
    {
     "data": {
      "text/html": [
       "<div>\n",
       "<style scoped>\n",
       "    .dataframe tbody tr th:only-of-type {\n",
       "        vertical-align: middle;\n",
       "    }\n",
       "\n",
       "    .dataframe tbody tr th {\n",
       "        vertical-align: top;\n",
       "    }\n",
       "\n",
       "    .dataframe thead th {\n",
       "        text-align: right;\n",
       "    }\n",
       "</style>\n",
       "<table border=\"1\" class=\"dataframe\">\n",
       "  <thead>\n",
       "    <tr style=\"text-align: right;\">\n",
       "      <th></th>\n",
       "      <th>Unnamed: 0</th>\n",
       "      <th>user_id</th>\n",
       "      <th>test_id</th>\n",
       "      <th>course</th>\n",
       "      <th>percentage</th>\n",
       "      <th>time</th>\n",
       "    </tr>\n",
       "  </thead>\n",
       "  <tbody>\n",
       "  </tbody>\n",
       "</table>\n",
       "</div>"
      ],
      "text/plain": [
       "Empty DataFrame\n",
       "Columns: [Unnamed: 0, user_id, test_id, course, percentage, time]\n",
       "Index: []"
      ]
     },
     "execution_count": 30,
     "metadata": {},
     "output_type": "execute_result"
    }
   ],
   "source": [
    "all_scores[all_scores['time'] < '2023-01-01']"
   ]
  },
  {
   "cell_type": "markdown",
   "metadata": {},
   "source": [
    "- No problematic values so now let's see if some users redid the same exam more than once"
   ]
  },
  {
   "cell_type": "code",
   "execution_count": 31,
   "metadata": {},
   "outputs": [
    {
     "data": {
      "text/plain": [
       "441"
      ]
     },
     "execution_count": 31,
     "metadata": {},
     "output_type": "execute_result"
    }
   ],
   "source": [
    "attempt_count = all_scores.groupby(['user_id', 'test_id','course']).size().reset_index(name='attempt_count')\n",
    "\n",
    "attempt_count[attempt_count['attempt_count'] > 1].shape[0]"
   ]
  },
  {
   "cell_type": "markdown",
   "metadata": {},
   "source": [
    "- Let's get rid of everything past the first attempt ----> HERE DISCUSS"
   ]
  },
  {
   "cell_type": "code",
   "execution_count": 32,
   "metadata": {},
   "outputs": [],
   "source": [
    "all_scores = all_scores.sort_values(by='time')\n",
    "\n",
    "all_scores = all_scores.groupby(['user_id', 'test_id', 'course']).first().reset_index()"
   ]
  },
  {
   "cell_type": "markdown",
   "metadata": {},
   "source": [
    "- Now lets's see how much data deleted overall :"
   ]
  },
  {
   "cell_type": "code",
   "execution_count": 33,
   "metadata": {},
   "outputs": [
    {
     "name": "stdout",
     "output_type": "stream",
     "text": [
      "Percent of data lost 23.647388059701484\n"
     ]
    }
   ],
   "source": [
    "all_scores_data_loss = all_scores.shape[0]/all_scores_og.shape[0]\n",
    "print('Percent of data lost', 100 - all_scores_data_loss * 100)"
   ]
  },
  {
   "cell_type": "markdown",
   "metadata": {},
   "source": [
    "- We also decided to round the \"percentage\" column to two decimal places to make life easier "
   ]
  },
  {
   "cell_type": "code",
   "execution_count": 34,
   "metadata": {},
   "outputs": [],
   "source": [
    "all_scores['percentage'] = all_scores['percentage'].round(2)"
   ]
  },
  {
   "cell_type": "markdown",
   "metadata": {},
   "source": [
    "### Lets seperate the data out into Math, Text and Essay\n",
    "\n",
    "course ids 3301 and 5447 (these are related to the essays)"
   ]
  },
  {
   "cell_type": "code",
   "execution_count": 35,
   "metadata": {},
   "outputs": [
    {
     "name": "stdout",
     "output_type": "stream",
     "text": [
      "essay course IDs : [5447, 3301]\n",
      "math course IDs : [42, 3865, 3301, 5447, 0]\n",
      "text course IDs : [2115, 5009]\n"
     ]
    }
   ],
   "source": [
    "essay_course_ids =  [int(x) for x in list(essay_results['course'].unique())]\n",
    "math_course_ids = [int(x) for x in list(math_results['course_id'].unique())]\n",
    "text_course_ids = [int(x) for x in list(text_results['course_id'].unique())]\n",
    "\n",
    "print('essay course IDs :', essay_course_ids)\n",
    "print('math course IDs :', math_course_ids)\n",
    "print('text course IDs :', text_course_ids)"
   ]
  },
  {
   "cell_type": "code",
   "execution_count": 36,
   "metadata": {},
   "outputs": [
    {
     "data": {
      "text/plain": [
       "array([3301, 5447, 3865,   42, 2115, 5009])"
      ]
     },
     "execution_count": 36,
     "metadata": {},
     "output_type": "execute_result"
    }
   ],
   "source": [
    "all_scores['course'].unique()"
   ]
  },
  {
   "cell_type": "code",
   "execution_count": 37,
   "metadata": {},
   "outputs": [],
   "source": [
    "math_scores = all_scores[all_scores['course'].isin(math_course_ids)]\n",
    "essay_scores = all_scores[all_scores['course'].isin(essay_course_ids)]\n",
    "text_scores = all_scores[all_scores['course'].isin(text_course_ids)]"
   ]
  },
  {
   "cell_type": "code",
   "execution_count": null,
   "metadata": {},
   "outputs": [],
   "source": []
  },
  {
   "cell_type": "code",
   "execution_count": null,
   "metadata": {},
   "outputs": [],
   "source": []
  },
  {
   "cell_type": "code",
   "execution_count": null,
   "metadata": {},
   "outputs": [],
   "source": []
  },
  {
   "cell_type": "markdown",
   "metadata": {},
   "source": [
    "# Now let's export our cleaned data !"
   ]
  },
  {
   "cell_type": "markdown",
   "metadata": {},
   "source": [
    "Here will have 6 dataframes so far once seperated into the various subjects"
   ]
  },
  {
   "cell_type": "code",
   "execution_count": 38,
   "metadata": {},
   "outputs": [],
   "source": [
    "# Uncomment this to save the cleaned dataframes :)\n",
    "   \n",
    "# math_scores.to_csv('math_scores.csv', index=False)\n",
    "# essay_scores.to_csv('essay_scores.csv', index=False)\n",
    "# text_scores.to_csv('text_scores.csv', index=False)    \n",
    "\n",
    "# math_activity.to_csv('math_activity.csv', index=False)\n",
    "# essay_activity.to_csv('essay_activity.csv', index=False)\n",
    "# text_activity.to_csv('text_activity.csv', index=False)    "
   ]
  }
 ],
 "metadata": {
  "kernelspec": {
   "display_name": "mdev2",
   "language": "python",
   "name": "python3"
  },
  "language_info": {
   "codemirror_mode": {
    "name": "ipython",
    "version": 3
   },
   "file_extension": ".py",
   "mimetype": "text/x-python",
   "name": "python",
   "nbconvert_exporter": "python",
   "pygments_lexer": "ipython3",
   "version": "3.13.2"
  }
 },
 "nbformat": 4,
 "nbformat_minor": 2
}
