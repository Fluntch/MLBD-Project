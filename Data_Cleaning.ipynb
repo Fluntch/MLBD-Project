{
 "cells": [
  {
   "cell_type": "code",
   "execution_count": null,
   "metadata": {},
   "outputs": [],
   "source": [
    "import pandas as pd\n",
    "import numpy as np\n",
    "import seaborn as sns\n",
    "import matplotlib.pyplot as plt"
   ]
  },
  {
   "cell_type": "code",
   "execution_count": null,
   "metadata": {},
   "outputs": [],
   "source": []
  },
  {
   "cell_type": "code",
   "execution_count": null,
   "metadata": {},
   "outputs": [],
   "source": []
  },
  {
   "cell_type": "code",
   "execution_count": null,
   "metadata": {},
   "outputs": [],
   "source": []
  },
  {
   "cell_type": "markdown",
   "metadata": {},
   "source": [
    "# The data "
   ]
  },
  {
   "cell_type": "code",
   "execution_count": null,
   "metadata": {},
   "outputs": [],
   "source": [
    "DATA_DIR = '/Users/fletchercollis/Desktop/Machine learning for behavioral data/PROJECT_GoGYMi/GoGymi' ### put your path here\n",
    "\n",
    "activity = pd.read_csv('{}/activity.csv'.format(DATA_DIR))\n",
    "\n",
    "\n",
    "students = pd.read_csv('{}/students.csv'.format(DATA_DIR))\n",
    "teachers = pd.read_csv('{}/teachers.csv'.format(DATA_DIR))\n",
    "\n",
    "\n",
    "gymitrainer = pd.read_csv('{}/gymitrainer.csv'.format(DATA_DIR))\n",
    "\n",
    "\n",
    "math_questions = pd.read_csv('{}/math_questions.csv'.format(DATA_DIR)) ### NOT USEFUL HERE YET SO NOT LOOKED AT OR CLEANED\n",
    "text_questions = pd.read_csv('{}/text_questions.csv'.format(DATA_DIR)) ### NOT USEFUL HERE YET SO NOT LOOKED AT OR CLEANED\n",
    "texts = pd.read_csv('{}/texts.csv'.format(DATA_DIR)) ### NOT USEFUL HERE YET SO NOT LOOKED AT OR CLEANED\n",
    "\n",
    "\n",
    "math_results = pd.read_csv('{}/math_results.csv'.format(DATA_DIR))\n",
    "essay_results = pd.read_csv('{}/essay_results.csv'.format(DATA_DIR))\n",
    "text_results = pd.read_csv('{}/text_results.csv'.format(DATA_DIR))\n",
    "\n",
    "all_scores = pd.read_csv('{}/all_scores.csv'.format(DATA_DIR))"
   ]
  },
  {
   "cell_type": "code",
   "execution_count": null,
   "metadata": {},
   "outputs": [],
   "source": []
  },
  {
   "cell_type": "code",
   "execution_count": null,
   "metadata": {},
   "outputs": [],
   "source": []
  },
  {
   "cell_type": "code",
   "execution_count": null,
   "metadata": {},
   "outputs": [],
   "source": []
  },
  {
   "cell_type": "markdown",
   "metadata": {},
   "source": [
    "# First, lets clean up the time in every dataframe to make it easier to manipulate!"
   ]
  },
  {
   "cell_type": "code",
   "execution_count": null,
   "metadata": {},
   "outputs": [],
   "source": [
    "activity['activity_started'] = pd.to_datetime(activity['activity_started'], unit='s')\n",
    "activity['activity_completed'] = pd.to_datetime(activity['activity_completed'], unit='s')\n",
    "activity['activity_updated'] = pd.to_datetime(activity['activity_updated'], unit='s')\n",
    "\n",
    "students['creation_time'] = pd.to_datetime(students['creation_time'], unit='s')\n",
    "teachers['creation_time'] = pd.to_datetime(teachers['creation_time'], unit='s')\n",
    "\n",
    "gymitrainer['start_time'] = pd.to_datetime(gymitrainer['startTime'], unit='s')\n",
    "gymitrainer['end_time'] = pd.to_datetime(gymitrainer['endTime'], unit='s')\n",
    "\n",
    "math_results['time'] = pd.to_datetime(math_results['time'], unit='s')\n",
    "essay_results['time'] = pd.to_datetime(essay_results['time'], unit='s')\n",
    "text_results['time'] = pd.to_datetime(text_results['time'], unit='s')\n",
    "\n",
    "all_scores['time'] = pd.to_datetime(all_scores['time'], unit='s')"
   ]
  },
  {
   "cell_type": "code",
   "execution_count": null,
   "metadata": {},
   "outputs": [],
   "source": [
    "activity"
   ]
  },
  {
   "cell_type": "code",
   "execution_count": null,
   "metadata": {},
   "outputs": [],
   "source": []
  },
  {
   "cell_type": "code",
   "execution_count": null,
   "metadata": {},
   "outputs": [],
   "source": []
  },
  {
   "cell_type": "code",
   "execution_count": null,
   "metadata": {},
   "outputs": [],
   "source": []
  },
  {
   "cell_type": "markdown",
   "metadata": {},
   "source": [
    "# Cleaning the user data"
   ]
  },
  {
   "cell_type": "code",
   "execution_count": null,
   "metadata": {},
   "outputs": [],
   "source": []
  },
  {
   "cell_type": "markdown",
   "metadata": {},
   "source": [
    "### activity dataframe "
   ]
  },
  {
   "cell_type": "code",
   "execution_count": null,
   "metadata": {},
   "outputs": [],
   "source": [
    "activity_og = activity.copy()"
   ]
  },
  {
   "cell_type": "markdown",
   "metadata": {},
   "source": [
    "- First lets see if there are any missing or problematic values"
   ]
  },
  {
   "cell_type": "code",
   "execution_count": null,
   "metadata": {},
   "outputs": [],
   "source": [
    "activity.isnull().sum().reset_index(name='Nb of NAN')"
   ]
  },
  {
   "cell_type": "markdown",
   "metadata": {},
   "source": [
    "- Only column where we have NAN and so we replace them with the last updated time "
   ]
  },
  {
   "cell_type": "code",
   "execution_count": null,
   "metadata": {},
   "outputs": [],
   "source": [
    "activity.loc[:, 'activity_completed'] = activity['activity_completed'].fillna(activity['activity_updated'])  "
   ]
  },
  {
   "cell_type": "markdown",
   "metadata": {},
   "source": [
    "- Also we notice that some of the activity_completed column are from 1970-01-01 and so we replace them with the last updated time "
   ]
  },
  {
   "cell_type": "code",
   "execution_count": null,
   "metadata": {},
   "outputs": [],
   "source": [
    "activity.loc[activity['activity_completed'] < '2020-01-01', 'activity_completed'] = activity['activity_updated']"
   ]
  },
  {
   "cell_type": "markdown",
   "metadata": {},
   "source": [
    "- Now we look at the time spent on activities"
   ]
  },
  {
   "cell_type": "code",
   "execution_count": null,
   "metadata": {},
   "outputs": [],
   "source": [
    "activity['time_spent'] = (activity['activity_completed'] - activity['activity_started']).dt.total_seconds()\n",
    "\n",
    "plt.figure(figsize=(6, 4))\n",
    "sns.boxplot(x=activity['time_spent'], color='blue')\n",
    "plt.xlabel('Time Spent (seconds)')\n",
    "plt.title('Box Plot of Time Spent on Activities')\n",
    "plt.show()\n",
    "\n",
    "print('Nb of rows where the length of the activity is negative :', activity[activity['time_spent'] < 0].size)"
   ]
  },
  {
   "cell_type": "markdown",
   "metadata": {},
   "source": [
    "- Since there are few we decided to remove the problematic rows "
   ]
  },
  {
   "cell_type": "code",
   "execution_count": null,
   "metadata": {},
   "outputs": [],
   "source": [
    "activity = activity[activity['time_spent'] > 0]"
   ]
  },
  {
   "cell_type": "markdown",
   "metadata": {},
   "source": [
    "- How much data did we lose?"
   ]
  },
  {
   "cell_type": "code",
   "execution_count": null,
   "metadata": {},
   "outputs": [],
   "source": [
    "activity_data_loss = activity.size/activity_og.size\n",
    "print('Percent of original data lost', 100 - activity_data_loss * 100)"
   ]
  },
  {
   "cell_type": "markdown",
   "metadata": {},
   "source": [
    "- Now lets look at the distribution of time spent on activities"
   ]
  },
  {
   "cell_type": "code",
   "execution_count": null,
   "metadata": {},
   "outputs": [],
   "source": [
    "data = activity['time_spent']\n",
    "\n",
    "plt.hist(data, bins=100, color='teal', edgecolor='black', alpha=0.7)\n",
    "plt.title('Histogram Example')\n",
    "plt.xlabel('time_spent Values')\n",
    "plt.ylabel('Frequency')\n",
    "plt.show()"
   ]
  },
  {
   "cell_type": "markdown",
   "metadata": {},
   "source": [
    "- There seems to be some outliers, so lets remove some activities that seem to be taking too long -----> NEED TO DECIDE WHAT TOO LONG IS "
   ]
  },
  {
   "cell_type": "code",
   "execution_count": null,
   "metadata": {},
   "outputs": [],
   "source": [
    "activity.groupby(by='activity_type')['time_spent'].describe()"
   ]
  },
  {
   "cell_type": "code",
   "execution_count": null,
   "metadata": {},
   "outputs": [],
   "source": [
    "quantiles = activity.groupby(by='activity_type')['time_spent'].quantile(0.95)\n",
    "\n",
    "activity = activity[activity.apply(lambda row: row['time_spent'] <= quantiles[row['activity_type']], axis=1)]"
   ]
  },
  {
   "cell_type": "markdown",
   "metadata": {},
   "source": [
    "- Now lets's see how much data deleted overall :"
   ]
  },
  {
   "cell_type": "code",
   "execution_count": null,
   "metadata": {},
   "outputs": [],
   "source": [
    "activity_data_loss = activity.size/activity_og.size\n",
    "print('Percent of data lost', 100 - activity_data_loss * 100)"
   ]
  },
  {
   "cell_type": "code",
   "execution_count": null,
   "metadata": {},
   "outputs": [],
   "source": []
  },
  {
   "cell_type": "code",
   "execution_count": null,
   "metadata": {},
   "outputs": [],
   "source": []
  },
  {
   "cell_type": "code",
   "execution_count": null,
   "metadata": {},
   "outputs": [],
   "source": []
  },
  {
   "cell_type": "markdown",
   "metadata": {},
   "source": [
    "## Cleaning the test data"
   ]
  },
  {
   "cell_type": "code",
   "execution_count": null,
   "metadata": {},
   "outputs": [],
   "source": []
  },
  {
   "cell_type": "markdown",
   "metadata": {},
   "source": [
    "### all_scores datframe"
   ]
  },
  {
   "cell_type": "code",
   "execution_count": null,
   "metadata": {},
   "outputs": [],
   "source": [
    "all_scores_og = all_scores.copy()"
   ]
  },
  {
   "cell_type": "markdown",
   "metadata": {},
   "source": [
    "- First lets see if there are any missing or problematic values"
   ]
  },
  {
   "cell_type": "code",
   "execution_count": null,
   "metadata": {},
   "outputs": [],
   "source": [
    "all_scores.isnull().sum().reset_index(name='Nb of NAN')"
   ]
  },
  {
   "cell_type": "code",
   "execution_count": null,
   "metadata": {},
   "outputs": [],
   "source": [
    "all_scores[all_scores['time']< '2023-01-01']"
   ]
  },
  {
   "cell_type": "markdown",
   "metadata": {},
   "source": [
    "- Now let's see if some users redid the same exam more than once"
   ]
  },
  {
   "cell_type": "code",
   "execution_count": null,
   "metadata": {},
   "outputs": [],
   "source": [
    "attempt_count = all_scores.groupby(['user_id', 'test_id','course']).size().reset_index(name='attempt_count')\n",
    "\n",
    "attempt_count[attempt_count['attempt_count']==2].size"
   ]
  },
  {
   "cell_type": "markdown",
   "metadata": {},
   "source": [
    "- Let's get rid of everything past the first attempt ----> HERE DISCUSS"
   ]
  },
  {
   "cell_type": "code",
   "execution_count": null,
   "metadata": {},
   "outputs": [],
   "source": [
    "all_scores = all_scores.sort_values(by='time')\n",
    "\n",
    "all_scores = all_scores.groupby(['user_id', 'test_id','course']).first().reset_index()"
   ]
  },
  {
   "cell_type": "markdown",
   "metadata": {},
   "source": [
    "- Now lets's see how much data deleted overall :"
   ]
  },
  {
   "cell_type": "code",
   "execution_count": null,
   "metadata": {},
   "outputs": [],
   "source": [
    "all_scores_data_loss = all_scores.size/all_scores_og.size\n",
    "print('Percent of data lost', 100 - all_scores_data_loss * 100)"
   ]
  },
  {
   "cell_type": "code",
   "execution_count": null,
   "metadata": {},
   "outputs": [],
   "source": []
  },
  {
   "cell_type": "code",
   "execution_count": null,
   "metadata": {},
   "outputs": [],
   "source": []
  },
  {
   "cell_type": "code",
   "execution_count": null,
   "metadata": {},
   "outputs": [],
   "source": []
  },
  {
   "cell_type": "markdown",
   "metadata": {},
   "source": [
    "# Now let's export our cleaned data !"
   ]
  },
  {
   "cell_type": "code",
   "execution_count": null,
   "metadata": {},
   "outputs": [],
   "source": [
    "# Uncomment this to save the cleaned dataframes :)\n",
    "\n",
    "# activity.to_csv('activity_cleaned.csv', index=False)    \n",
    "# all_scores.to_csv('all_scores_cleaned.csv', index=False)        "
   ]
  }
 ],
 "metadata": {
  "kernelspec": {
   "display_name": "mdev2",
   "language": "python",
   "name": "python3"
  },
  "language_info": {
   "codemirror_mode": {
    "name": "ipython",
    "version": 3
   },
   "file_extension": ".py",
   "mimetype": "text/x-python",
   "name": "python",
   "nbconvert_exporter": "python",
   "pygments_lexer": "ipython3",
   "version": "3.13.2"
  }
 },
 "nbformat": 4,
 "nbformat_minor": 2
}
