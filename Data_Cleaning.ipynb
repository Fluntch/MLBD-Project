{
 "cells": [
  {
   "cell_type": "code",
   "execution_count": 1,
   "metadata": {},
   "outputs": [],
   "source": [
    "import pandas as pd\n",
    "import numpy as np\n",
    "import seaborn as sns\n",
    "import matplotlib.pyplot as plt"
   ]
  },
  {
   "cell_type": "code",
   "execution_count": null,
   "metadata": {},
   "outputs": [],
   "source": []
  },
  {
   "cell_type": "code",
   "execution_count": null,
   "metadata": {},
   "outputs": [],
   "source": []
  },
  {
   "cell_type": "code",
   "execution_count": null,
   "metadata": {},
   "outputs": [],
   "source": []
  },
  {
   "cell_type": "markdown",
   "metadata": {},
   "source": [
    "## The data "
   ]
  },
  {
   "cell_type": "code",
   "execution_count": 2,
   "metadata": {},
   "outputs": [],
   "source": [
    "DATA_DIR = '/Users/fletchercollis/Desktop/Machine learning for behavioral data/PROJECT_GoGYMi/GoGymi' ### put your path here\n",
    "\n",
    "activity = pd.read_csv('{}/activity.csv'.format(DATA_DIR))\n",
    "\n",
    "\n",
    "students = pd.read_csv('{}/students.csv'.format(DATA_DIR))\n",
    "teachers = pd.read_csv('{}/teachers.csv'.format(DATA_DIR))\n",
    "\n",
    "\n",
    "gymitrainer = pd.read_csv('{}/gymitrainer.csv'.format(DATA_DIR))\n",
    "\n",
    "\n",
    "math_questions = pd.read_csv('{}/math_questions.csv'.format(DATA_DIR)) ### NOT USEFUL HERE YET SO NOT LOOKED AT OR CLEANED\n",
    "text_questions = pd.read_csv('{}/text_questions.csv'.format(DATA_DIR)) ### NOT USEFUL HERE YET SO NOT LOOKED AT OR CLEANED\n",
    "texts = pd.read_csv('{}/texts.csv'.format(DATA_DIR)) ### NOT USEFUL HERE YET SO NOT LOOKED AT OR CLEANED\n",
    "\n",
    "\n",
    "math_results = pd.read_csv('{}/math_results.csv'.format(DATA_DIR))\n",
    "essay_results = pd.read_csv('{}/essay_results.csv'.format(DATA_DIR))\n",
    "text_results = pd.read_csv('{}/text_results.csv'.format(DATA_DIR))\n",
    "\n",
    "all_scores = pd.read_csv('{}/all_scores.csv'.format(DATA_DIR))"
   ]
  },
  {
   "cell_type": "code",
   "execution_count": null,
   "metadata": {},
   "outputs": [],
   "source": []
  },
  {
   "cell_type": "code",
   "execution_count": null,
   "metadata": {},
   "outputs": [],
   "source": []
  },
  {
   "cell_type": "code",
   "execution_count": null,
   "metadata": {},
   "outputs": [],
   "source": []
  },
  {
   "cell_type": "markdown",
   "metadata": {},
   "source": [
    "## First, lets clean up the time in every dataframe to make it easier to manipulate!"
   ]
  },
  {
   "cell_type": "code",
   "execution_count": 3,
   "metadata": {},
   "outputs": [],
   "source": [
    "activity['activity_started'] = pd.to_datetime(activity['activity_started'], unit='s')\n",
    "activity['activity_completed'] = pd.to_datetime(activity['activity_completed'], unit='s')\n",
    "activity['activity_updated'] = pd.to_datetime(activity['activity_updated'], unit='s')\n",
    "\n",
    "students['creation_time'] = pd.to_datetime(students['creation_time'], unit='s')\n",
    "teachers['creation_time'] = pd.to_datetime(teachers['creation_time'], unit='s')\n",
    "\n",
    "gymitrainer['start_time'] = pd.to_datetime(gymitrainer['startTime'], unit='s')\n",
    "gymitrainer['end_time'] = pd.to_datetime(gymitrainer['endTime'], unit='s')\n",
    "\n",
    "math_results['time'] = pd.to_datetime(math_results['time'], unit='s')\n",
    "essay_results['time'] = pd.to_datetime(essay_results['time'], unit='s')\n",
    "text_results['time'] = pd.to_datetime(text_results['time'], unit='s')\n",
    "\n",
    "all_scores['time'] = pd.to_datetime(all_scores['time'], unit='s')"
   ]
  },
  {
   "cell_type": "code",
   "execution_count": null,
   "metadata": {},
   "outputs": [],
   "source": []
  },
  {
   "cell_type": "code",
   "execution_count": null,
   "metadata": {},
   "outputs": [],
   "source": []
  },
  {
   "cell_type": "code",
   "execution_count": null,
   "metadata": {},
   "outputs": [],
   "source": []
  },
  {
   "cell_type": "markdown",
   "metadata": {},
   "source": [
    "## Cleaning the user data"
   ]
  },
  {
   "cell_type": "code",
   "execution_count": 4,
   "metadata": {},
   "outputs": [
    {
     "data": {
      "text/html": [
       "<div>\n",
       "<style scoped>\n",
       "    .dataframe tbody tr th:only-of-type {\n",
       "        vertical-align: middle;\n",
       "    }\n",
       "\n",
       "    .dataframe tbody tr th {\n",
       "        vertical-align: top;\n",
       "    }\n",
       "\n",
       "    .dataframe thead th {\n",
       "        text-align: right;\n",
       "    }\n",
       "</style>\n",
       "<table border=\"1\" class=\"dataframe\">\n",
       "  <thead>\n",
       "    <tr style=\"text-align: right;\">\n",
       "      <th></th>\n",
       "      <th>index</th>\n",
       "      <th>Nb of NAN</th>\n",
       "    </tr>\n",
       "  </thead>\n",
       "  <tbody>\n",
       "    <tr>\n",
       "      <th>0</th>\n",
       "      <td>Unnamed: 0</td>\n",
       "      <td>0</td>\n",
       "    </tr>\n",
       "    <tr>\n",
       "      <th>1</th>\n",
       "      <td>activity_id</td>\n",
       "      <td>0</td>\n",
       "    </tr>\n",
       "    <tr>\n",
       "      <th>2</th>\n",
       "      <td>user_id</td>\n",
       "      <td>0</td>\n",
       "    </tr>\n",
       "    <tr>\n",
       "      <th>3</th>\n",
       "      <td>post_id</td>\n",
       "      <td>0</td>\n",
       "    </tr>\n",
       "    <tr>\n",
       "      <th>4</th>\n",
       "      <td>course_id</td>\n",
       "      <td>0</td>\n",
       "    </tr>\n",
       "    <tr>\n",
       "      <th>5</th>\n",
       "      <td>activity_type</td>\n",
       "      <td>0</td>\n",
       "    </tr>\n",
       "    <tr>\n",
       "      <th>6</th>\n",
       "      <td>activity_status</td>\n",
       "      <td>0</td>\n",
       "    </tr>\n",
       "    <tr>\n",
       "      <th>7</th>\n",
       "      <td>activity_started</td>\n",
       "      <td>0</td>\n",
       "    </tr>\n",
       "    <tr>\n",
       "      <th>8</th>\n",
       "      <td>activity_completed</td>\n",
       "      <td>26293</td>\n",
       "    </tr>\n",
       "    <tr>\n",
       "      <th>9</th>\n",
       "      <td>activity_updated</td>\n",
       "      <td>0</td>\n",
       "    </tr>\n",
       "  </tbody>\n",
       "</table>\n",
       "</div>"
      ],
      "text/plain": [
       "                index  Nb of NAN\n",
       "0          Unnamed: 0          0\n",
       "1         activity_id          0\n",
       "2             user_id          0\n",
       "3             post_id          0\n",
       "4           course_id          0\n",
       "5       activity_type          0\n",
       "6     activity_status          0\n",
       "7    activity_started          0\n",
       "8  activity_completed      26293\n",
       "9    activity_updated          0"
      ]
     },
     "execution_count": 4,
     "metadata": {},
     "output_type": "execute_result"
    }
   ],
   "source": [
    "activity.isnull().sum().reset_index(name='Nb of NAN')"
   ]
  },
  {
   "cell_type": "code",
   "execution_count": 5,
   "metadata": {},
   "outputs": [],
   "source": [
    "activity.loc[:, 'activity_completed'] = activity['activity_completed'].fillna(activity['activity_updated'])  ### Only column where we have NAN and so we replace them with the last updated time "
   ]
  },
  {
   "cell_type": "code",
   "execution_count": 7,
   "metadata": {},
   "outputs": [
    {
     "data": {
      "image/png": "[encoded data removed]",
      "text/plain": [
       "<Figure size 600x400 with 1 Axes>"
      ]
     },
     "metadata": {},
     "output_type": "display_data"
    }
   ],
   "source": [
    "activity['time_spent'] = (activity['activity_completed'] - activity['activity_started']).dt.total_seconds()\n",
    "\n",
    "\n",
    "plt.figure(figsize=(6, 4))\n",
    "sns.boxplot(x=activity['time_spent'], color='blue')\n",
    "plt.xlabel('Time Spent (seconds)')\n",
    "plt.title('Box Plot of Time Spent on Activities')\n",
    "plt.show()"
   ]
  },
  {
   "cell_type": "code",
   "execution_count": null,
   "metadata": {},
   "outputs": [],
   "source": []
  },
  {
   "cell_type": "code",
   "execution_count": null,
   "metadata": {},
   "outputs": [],
   "source": []
  },
  {
   "cell_type": "code",
   "execution_count": null,
   "metadata": {},
   "outputs": [],
   "source": []
  },
  {
   "cell_type": "markdown",
   "metadata": {},
   "source": [
    "## Cleaning the test data"
   ]
  },
  {
   "cell_type": "markdown",
   "metadata": {},
   "source": [
    "Here we clean the following dataframes :\n",
    "\n",
    "- all_scores"
   ]
  },
  {
   "cell_type": "code",
   "execution_count": null,
   "metadata": {},
   "outputs": [],
   "source": []
  },
  {
   "cell_type": "code",
   "execution_count": null,
   "metadata": {},
   "outputs": [],
   "source": []
  },
  {
   "cell_type": "code",
   "execution_count": null,
   "metadata": {},
   "outputs": [],
   "source": []
  },
  {
   "cell_type": "markdown",
   "metadata": {},
   "source": [
    "### Trying stuff "
   ]
  },
  {
   "cell_type": "code",
   "execution_count": null,
   "metadata": {},
   "outputs": [],
   "source": [
    "# Convert the 'activity_started' and 'activity_completed' columns to datetime\n",
    "activity['readable_date_started'] = pd.to_datetime(activity['activity_started'], unit='s')\n",
    "activity['readable_date_ended'] = pd.to_datetime(activity['activity_completed'], unit='s')\n",
    "\n",
    "# Calculate the time spent by subtracting the start time from the end time\n",
    "activity['time_spent'] = activity['readable_date_ended'] - activity['readable_date_started']\n",
    "\n",
    "# If you want a human-readable format for the start and end times, you can convert them to strings as you did before\n",
    "activity['readable_date_started'] = activity['readable_date_started'].dt.strftime('%Y-%m-%d %H:%M:%S')\n",
    "activity['readable_date_ended'] = activity['readable_date_ended'].dt.strftime('%Y-%m-%d %H:%M:%S')\n",
    "\n",
    "# Display the resulting dataframe\n",
    "activity\n"
   ]
  },
  {
   "cell_type": "code",
   "execution_count": null,
   "metadata": {},
   "outputs": [],
   "source": [
    "activity['readable_date_started'] = pd.to_datetime(activity['activity_started'], unit='s').dt.strftime('%Y-%m-%d %H:%M:%S')\n",
    "activity['readable_date_ended'] = pd.to_datetime(activity['activity_completed'], unit='s').dt.strftime('%Y-%m-%d %H:%M:%S')\n",
    "#activity['readable_date_updated'] = pd.to_datetime(activity['activity_updated'], unit='s').dt.strftime('%Y-%m-%d %H:%M:%S')\n",
    "activity['time_spent'] = activity['readable_date_ended'] - activity['readable_date_started']\n",
    "activity"
   ]
  },
  {
   "cell_type": "code",
   "execution_count": null,
   "metadata": {},
   "outputs": [],
   "source": [
    "all_scores['readable_date'] = pd.to_datetime(all_scores['time'], unit='s').dt.strftime('%Y-%m-%d %H:%M:%S')\n",
    "\n",
    "all_scores"
   ]
  },
  {
   "cell_type": "code",
   "execution_count": null,
   "metadata": {},
   "outputs": [],
   "source": [
    "# Convert 'activity_started' to a human-readable date (same as you did earlier)\n",
    "activity['readable_date_started'] = pd.to_datetime(activity['activity_started'], unit='s').dt.strftime('%Y-%m-%d')\n",
    "\n",
    "# Group by 'user_id' and count the number of unique days each user has worked on (unique dates)\n",
    "user_activity_days = activity.groupby('user_id')['readable_date_started'].nunique().reset_index()\n",
    "\n",
    "# Rename the column to 'days_active' which is the number of unique days each user has been active\n",
    "user_activity_days = user_activity_days.rename(columns={'readable_date_started': 'days_active'})\n",
    "\n",
    "# Now, let's count how many users worked for exactly 1 day, 2 days, 3 days, etc.\n",
    "activity_distribution = user_activity_days['days_active'].value_counts().sort_index().reset_index()\n",
    "\n",
    "# Rename the columns for clarity\n",
    "activity_distribution = activity_distribution.rename(columns={'index': 'days_active', 'days_active': 'user_count'})\n",
    "\n",
    "# Display the resulting DataFrame\n",
    "activity_distribution\n"
   ]
  },
  {
   "cell_type": "code",
   "execution_count": null,
   "metadata": {},
   "outputs": [],
   "source": []
  }
 ],
 "metadata": {
  "kernelspec": {
   "display_name": "mdev2",
   "language": "python",
   "name": "python3"
  },
  "language_info": {
   "codemirror_mode": {
    "name": "ipython",
    "version": 3
   },
   "file_extension": ".py",
   "mimetype": "text/x-python",
   "name": "python",
   "nbconvert_exporter": "python",
   "pygments_lexer": "ipython3",
   "version": "3.13.2"
  }
 },
 "nbformat": 4,
 "nbformat_minor": 2
}
